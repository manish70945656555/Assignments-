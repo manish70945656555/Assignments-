{
 "cells": [
  {
   "cell_type": "code",
   "execution_count": null,
   "id": "c6dcdfe6-d449-4bd9-a670-5772d5c51302",
   "metadata": {},
   "outputs": [],
   "source": [
    "Q1. Create a vehicle class with an init method having instance variables as name_of_vehicle, max_speed\n",
    "and average_of_vehicle."
   ]
  },
  {
   "cell_type": "code",
   "execution_count": 2,
   "id": "f2350d80-c542-4f7f-8207-ab22d426a0d2",
   "metadata": {},
   "outputs": [
    {
     "name": "stdout",
     "output_type": "stream",
     "text": [
      "Toyota\n",
      "150\n",
      "80\n"
     ]
    }
   ],
   "source": [
    "class vehicle:\n",
    "    \n",
    "    def __init__(self,name_of_vehicle,max_speed,average_of_vehicle):\n",
    "        self.name_of_vehicle=name_of_vehicle\n",
    "        self.max_speed=max_speed\n",
    "        self.average_of_vehicle=average_of_vehicle\n",
    "\n",
    "Vehicle=vehicle(\"Toyota\",\"150\",\"80\")\n",
    "print(Vehicle.name_of_vehicle) # Output: Toyota\n",
    "print(Vehicle.max_speed) # Output: 150\n",
    "print(Vehicle.average_of_vehicle) # Output: 80"
   ]
  },
  {
   "cell_type": "code",
   "execution_count": null,
   "id": "9ea9c411-c491-4fb2-86b3-46e735727172",
   "metadata": {},
   "outputs": [],
   "source": [
    "Q2. Create a child class car from the vehicle class created in Que 1, which will inherit the vehicle class.\n",
    "Create a method named seating_capacity which takes capacity as an argument and returns the name of\n",
    "the vehicle and its seating capacity."
   ]
  },
  {
   "cell_type": "code",
   "execution_count": 5,
   "id": "c90f6990-ef22-436e-817a-4c48e01eb58e",
   "metadata": {},
   "outputs": [
    {
     "name": "stdout",
     "output_type": "stream",
     "text": [
      "The Toyota has a seating capacity of 6.\n"
     ]
    }
   ],
   "source": [
    "class Car(vehicle):\n",
    "    def __init__(self, name_of_vehicle, max_speed, average_of_vehicle, capacity):\n",
    "        super().__init__(name_of_vehicle, max_speed, average_of_vehicle)\n",
    "        self.capacity = capacity\n",
    "\n",
    "    def seating_capacity(self):\n",
    "        return f\"The {self.name_of_vehicle} has a seating capacity of {self.capacity}.\"\n",
    "\n",
    "car = Car(\"Toyota\", 180, 50, 6)\n",
    "print(car.seating_capacity()) # Output: The Toyota has a seating capacity of 6.\n"
   ]
  },
  {
   "cell_type": "code",
   "execution_count": null,
   "id": "e26a3693-7a55-4667-bf88-f68b37439748",
   "metadata": {},
   "outputs": [],
   "source": [
    "Q3. What is multiple inheritance? Write a python code to demonstrate multiple inheritance."
   ]
  },
  {
   "cell_type": "code",
   "execution_count": null,
   "id": "1942d0e8-307c-4245-95a8-2fb21d5f4a2d",
   "metadata": {},
   "outputs": [],
   "source": [
    "Ans:-Multiple inheritance is a feature in object-oriented programming where a class can inherit attributes and behavior\n",
    "     from more than one parent class. In other words, a class can inherit from multiple base classes."
   ]
  },
  {
   "cell_type": "code",
   "execution_count": 6,
   "id": "82e3f5e6-68de-41d1-a1d9-c992ac287c21",
   "metadata": {},
   "outputs": [
    {
     "name": "stdout",
     "output_type": "stream",
     "text": [
      "Engine started\n",
      "Brakes applied\n",
      "Toyota Camry with 200 horsepower and disc brakes.\n"
     ]
    }
   ],
   "source": [
    "class Engine:\n",
    "    def __init__(self, horsepower):\n",
    "        self.horsepower = horsepower\n",
    "\n",
    "    def start_engine(self):\n",
    "        return \"Engine started\"\n",
    "\n",
    "class Brakes:\n",
    "    def __init__(self, brake_type):\n",
    "        self.brake_type = brake_type\n",
    "\n",
    "    def apply_brakes(self):\n",
    "        return \"Brakes applied\"\n",
    "\n",
    "class Car(Engine, Brakes): #using above functions\n",
    "    def __init__(self, horsepower, brake_type, make, model):\n",
    "        Engine.__init__(self, horsepower)\n",
    "        Brakes.__init__(self, brake_type)\n",
    "        self.make = make\n",
    "        self.model = model\n",
    "\n",
    "    def display_car_info(self):\n",
    "        return f\"{self.make} {self.model} with {self.horsepower} horsepower and {self.brake_type} brakes.\"\n",
    "\n",
    "car = Car(200, \"disc\", \"Toyota\", \"Camry\")\n",
    "print(car.start_engine()) # Output: Engine started\n",
    "print(car.apply_brakes()) # Output: Brakes applied\n",
    "print(car.display_car_info()) # Output: Toyota Camry with 200 horsepower and disc brakes.\n"
   ]
  },
  {
   "cell_type": "code",
   "execution_count": null,
   "id": "cf349e64-51c8-4815-b469-d9c0713a8c90",
   "metadata": {},
   "outputs": [],
   "source": [
    "Q4. What are getter and setter in python? Create a class and create a getter and a setter method in this\n",
    "class."
   ]
  },
  {
   "cell_type": "code",
   "execution_count": null,
   "id": "cbb3989b-5530-4b21-95f0-7cd9ceb4817a",
   "metadata": {},
   "outputs": [],
   "source": [
    "Ans:-Getters and setters are accessor and mutator methods in object-oriented programming that allow you to control access \n",
    "     to the attributes of a class. Getters (also known as accessors) are used to retrieve the value of an object's\n",
    "     attributes, while setters (also known as mutators) are used to change the value of an object's attributes.\n",
    "\n",
    "    Below is an example of a class in Python with a getter and setter method:"
   ]
  },
  {
   "cell_type": "code",
   "execution_count": 7,
   "id": "0d33f721-bc60-4e19-bcce-2c0d30bd1215",
   "metadata": {},
   "outputs": [
    {
     "name": "stdout",
     "output_type": "stream",
     "text": [
      "John Doe\n",
      "5000\n",
      "Jane Doe\n",
      "6000\n"
     ]
    }
   ],
   "source": [
    "class Employee:\n",
    "    def __init__(self, name, salary):\n",
    "        self.__name = name\n",
    "        self.__salary = salary\n",
    "\n",
    "    def get_name(self):\n",
    "        return self.__name\n",
    "\n",
    "    def set_name(self, name):\n",
    "        self.__name = name\n",
    "\n",
    "    def get_salary(self):\n",
    "        return self.__salary\n",
    "\n",
    "    def set_salary(self, salary):\n",
    "        self.__salary = salary\n",
    "\n",
    "employee = Employee(\"John Doe\", 5000)\n",
    "print(employee.get_name()) # Output: John Doe\n",
    "print(employee.get_salary()) # Output: 5000\n",
    "\n",
    "employee.set_name(\"Jane Doe\")\n",
    "employee.set_salary(6000)\n",
    "print(employee.get_name()) # Output: Jane Doe\n",
    "print(employee.get_salary()) # Output: 6000\n"
   ]
  },
  {
   "cell_type": "code",
   "execution_count": null,
   "id": "ae82e325-80d4-4895-8ad2-0b69ddfca027",
   "metadata": {},
   "outputs": [],
   "source": [
    "Q5.What is method overriding in python? Write a python code to demonstrate method overriding.\n",
    "Ans:-Method overriding is a feature in object-oriented programming that allows a subclass to provide a different \n",
    "    implementation of a method that is already defined in its parent class. The purpose of method overriding is to provide\n",
    "    a way for a subclass to specialize or extend the behavior of its parent class.\n",
    "\n",
    "   Below is an example of method overriding in Python:"
   ]
  },
  {
   "cell_type": "code",
   "execution_count": 8,
   "id": "84e956c8-baf7-49b9-94b0-0a805c2a90a8",
   "metadata": {},
   "outputs": [
    {
     "name": "stdout",
     "output_type": "stream",
     "text": [
      "200\n",
      "78.5\n"
     ]
    }
   ],
   "source": [
    "class Shape:\n",
    "    def area(self):\n",
    "        pass\n",
    "\n",
    "class Rectangle(Shape):\n",
    "    def __init__(self, width, height):\n",
    "        self.width = width\n",
    "        self.height = height\n",
    "\n",
    "    def area(self):\n",
    "        return self.width * self.height\n",
    "\n",
    "class Circle(Shape):\n",
    "    def __init__(self, radius):\n",
    "        self.radius = radius\n",
    "\n",
    "    def area(self):\n",
    "        return 3.14 * self.radius * self.radius\n",
    "\n",
    "rectangle = Rectangle(10, 20)\n",
    "print(rectangle.area()) # Output: 200\n",
    "\n",
    "circle = Circle(5)\n",
    "print(circle.area()) # Output: 78.5\n"
   ]
  },
  {
   "cell_type": "code",
   "execution_count": null,
   "id": "68dccf1f-737c-45fd-be97-f2c9872bd9e3",
   "metadata": {},
   "outputs": [],
   "source": []
  }
 ],
 "metadata": {
  "kernelspec": {
   "display_name": "Python 3 (ipykernel)",
   "language": "python",
   "name": "python3"
  },
  "language_info": {
   "codemirror_mode": {
    "name": "ipython",
    "version": 3
   },
   "file_extension": ".py",
   "mimetype": "text/x-python",
   "name": "python",
   "nbconvert_exporter": "python",
   "pygments_lexer": "ipython3",
   "version": "3.10.8"
  }
 },
 "nbformat": 4,
 "nbformat_minor": 5
}
