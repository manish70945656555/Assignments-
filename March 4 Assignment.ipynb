{
 "cells": [
  {
   "cell_type": "code",
   "execution_count": null,
   "id": "8661ccee-e4f1-4932-8097-7b2c30a94e93",
   "metadata": {},
   "outputs": [],
   "source": [
    "Q1. Load the \"titanic\" dataset using the load_dataset function of seaborn. Use Plotly express to plot a\n",
    "scatter plot for age and fare columns in the titanic dataset."
   ]
  },
  {
   "cell_type": "code",
   "execution_count": null,
   "id": "399e49ae-430f-4866-a38d-7eac607028a5",
   "metadata": {},
   "outputs": [],
   "source": [
    "import seaborn as sns\n",
    "import plotly.express as px\n",
    "\n",
    "# Load the titanic dataset\n",
    "titanic_data = sns.load_dataset(\"titanic\")\n",
    "\n",
    "# Create the scatter plot using Plotly Express\n",
    "fig = px.scatter(titanic_data, x=\"age\", y=\"fare\")\n",
    "\n",
    "# Show the plot\n",
    "fig.show()\n"
   ]
  },
  {
   "cell_type": "code",
   "execution_count": null,
   "id": "cb36e2bd-4024-4e47-863e-082f1b829728",
   "metadata": {},
   "outputs": [],
   "source": [
    "Q2. Using the tips dataset in the Plotly library, plot a box plot using Plotly express."
   ]
  },
  {
   "cell_type": "code",
   "execution_count": null,
   "id": "ae2c3d6d-5853-4715-8cc8-f45d2501d06c",
   "metadata": {},
   "outputs": [],
   "source": [
    "import plotly.express as px\n",
    "\n",
    "# Load the tips dataset\n",
    "tips_data = px.data.tips()\n",
    "\n",
    "# Create the box plot using Plotly Express\n",
    "fig = px.box(tips_data, x=\"day\", y=\"total_bill\")\n",
    "\n",
    "# Show the plot\n",
    "fig.show()\n"
   ]
  },
  {
   "cell_type": "code",
   "execution_count": null,
   "id": "3070319f-5131-4175-83bb-5adce1b25870",
   "metadata": {},
   "outputs": [],
   "source": [
    "Q3. Using the tips dataset in the Plotly library, Plot a histogram for x= \"sex\" and y=\"total_bill\" column in\n",
    "the tips dataset. Also, use the \"smoker\" column with the pattern_shape parameter and the \"day\"\n",
    "column with the color parameter."
   ]
  },
  {
   "cell_type": "code",
   "execution_count": null,
   "id": "c9b32348-813c-4f7d-9661-f39daaab9c08",
   "metadata": {},
   "outputs": [],
   "source": [
    "import plotly.express as px\n",
    "\n",
    "# Load the tips dataset\n",
    "tips_data = px.data.tips()\n",
    "\n",
    "# Create the histogram using Plotly Express\n",
    "fig = px.histogram(tips_data, x=\"sex\", y=\"total_bill\", color=\"day\", pattern_shape=\"smoker\")\n",
    "\n",
    "# Show the plot\n",
    "fig.show()\n"
   ]
  },
  {
   "cell_type": "code",
   "execution_count": null,
   "id": "4dbdf6b6-7e95-4122-bdb5-ca6e5bac582d",
   "metadata": {},
   "outputs": [],
   "source": [
    "Q4. Using the iris dataset in the Plotly library, Plot a scatter matrix plot, using the \"species\" column for\n",
    "the color parameter."
   ]
  },
  {
   "cell_type": "code",
   "execution_count": null,
   "id": "1d240c2c-4049-4960-a02f-02d6d68e0feb",
   "metadata": {},
   "outputs": [],
   "source": [
    "import plotly.express as px\n",
    "\n",
    "# Load the iris dataset\n",
    "iris_data = px.data.iris()\n",
    "\n",
    "# Create the scatter matrix plot using Plotly Express\n",
    "fig = px.scatter_matrix(iris_data, dimensions=[\"sepal_length\", \"sepal_width\", \"petal_length\", \"petal_width\"], color=\"species\")\n",
    "\n",
    "# Show the plot\n",
    "fig.show()\n"
   ]
  },
  {
   "cell_type": "code",
   "execution_count": null,
   "id": "4969f555-c1b8-4259-b00a-29ecf22bf431",
   "metadata": {},
   "outputs": [],
   "source": [
    "Q5. What is Distplot? Using Plotly express, plot a distplot."
   ]
  },
  {
   "cell_type": "code",
   "execution_count": null,
   "id": "5348822c-495b-4b8b-b404-5f9a75800701",
   "metadata": {},
   "outputs": [],
   "source": [
    "Ans:-distplot is a function in the seaborn library used to plot a univariate distribution of observations in a dataset. \n",
    "It combines a histogram and a kernel density estimate plot to give a smooth estimate of the distribution of the data.\n",
    "\n",
    "Here's how we can use Plotly Express to create a distplot:"
   ]
  },
  {
   "cell_type": "code",
   "execution_count": null,
   "id": "a245b55d-636b-48ef-98e0-b2261fe57828",
   "metadata": {},
   "outputs": [],
   "source": [
    "import plotly.express as px\n",
    "\n",
    "# Load the tips dataset\n",
    "tips_data = px.data.tips()\n",
    "\n",
    "# Create the distplot using Plotly Express\n",
    "fig = px.histogram(tips_data, x=\"total_bill\", nbins=20, marginal=\"rug\", opacity=0.7)\n",
    "\n",
    "# Show the plot\n",
    "fig.show()\n"
   ]
  }
 ],
 "metadata": {
  "kernelspec": {
   "display_name": "Python 3 (ipykernel)",
   "language": "python",
   "name": "python3"
  },
  "language_info": {
   "codemirror_mode": {
    "name": "ipython",
    "version": 3
   },
   "file_extension": ".py",
   "mimetype": "text/x-python",
   "name": "python",
   "nbconvert_exporter": "python",
   "pygments_lexer": "ipython3",
   "version": "3.10.8"
  }
 },
 "nbformat": 4,
 "nbformat_minor": 5
}
