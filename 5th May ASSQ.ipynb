{
 "cells": [
  {
   "cell_type": "code",
   "execution_count": null,
   "id": "6317fd29-58bc-4d57-a437-49378e5a437a",
   "metadata": {},
   "outputs": [],
   "source": [
    "Q1. What is meant by time-dependent seasonal components?\n"
   ]
  },
  {
   "cell_type": "code",
   "execution_count": null,
   "id": "5b29e096-c65d-48dd-90bc-f537511f61b2",
   "metadata": {},
   "outputs": [],
   "source": [
    "Time-dependent seasonal components refer to seasonal patterns in time series data that vary over time. It means that the\n",
    "strength or amplitude of the seasonal effect changes as time progresses. For example, in retail sales data, the magnitude\n",
    "of seasonal peaks during holiday seasons may vary from year to year."
   ]
  },
  {
   "cell_type": "code",
   "execution_count": null,
   "id": "13a41448-5975-4406-a598-965e262d401d",
   "metadata": {},
   "outputs": [],
   "source": [
    "Q2. How can time-dependent seasonal components be identified in time series data?\n"
   ]
  },
  {
   "cell_type": "code",
   "execution_count": null,
   "id": "2c4c57c4-94d4-44b0-af99-f961c9bc79e8",
   "metadata": {},
   "outputs": [],
   "source": [
    "Time-dependent seasonal components can be identified in time series data through visual inspection of plots, such as\n",
    "seasonal subseries plots or line plots of the data over time. These plots can reveal patterns where the seasonal effect\n",
    "changes across different time periods. Additionally, statistical methods such as decomposition techniques\n",
    "(e.g., STL decomposition) or time series models like SARIMA (Seasonal ARIMA) can help in identifying and estimating \n",
    "time-dependent seasonal components."
   ]
  },
  {
   "cell_type": "code",
   "execution_count": null,
   "id": "89b25eea-1d5a-4cbf-a0c1-66e30970a2df",
   "metadata": {},
   "outputs": [],
   "source": [
    "Q3. What are the factors that can influence time-dependent seasonal components?\n"
   ]
  },
  {
   "cell_type": "code",
   "execution_count": null,
   "id": "1fd2cdaa-5c61-48ec-abb2-81aabc440e00",
   "metadata": {},
   "outputs": [],
   "source": [
    "Several factors can influence time-dependent seasonal components in time series data. Some of these factors include:\n",
    "\n",
    "1.Changes in consumer behavior: Shifts in consumer preferences, spending habits, or shopping patterns can lead to\n",
    "  variations in seasonal effects.\n",
    "2.Economic conditions: Economic factors like recessions, inflation rates, or changes in income levels can impact seasonal\n",
    "  patterns.\n",
    "3.External events: Special events, holidays, or marketing campaigns can influence the timing and strength of seasonal \n",
    "  components.\n",
    "4.Policy changes: Government regulations, policy interventions, or industry-specific factors can affect seasonal patterns."
   ]
  },
  {
   "cell_type": "code",
   "execution_count": null,
   "id": "80fc2152-47ec-455d-a700-976003e6d01f",
   "metadata": {},
   "outputs": [],
   "source": [
    "Q4. How are autoregression models used in time series analysis and forecasting?\n"
   ]
  },
  {
   "cell_type": "code",
   "execution_count": null,
   "id": "04f0a3b1-e9b4-4ed9-8ba0-4cfe4e006c1a",
   "metadata": {},
   "outputs": [],
   "source": [
    "Autoregression models, such as Autoregressive (AR) models, are used in time series analysis and forecasting to capture \n",
    "the relationship between the current observation and lagged observations of the same variable. Autoregressive models \n",
    "assume that the current value of the time series is a linear combination of its past values, allowing for the modeling\n",
    "of temporal dependencies and patterns in the data."
   ]
  },
  {
   "cell_type": "code",
   "execution_count": null,
   "id": "868569bb-4709-4fef-97f3-1cce96680ae4",
   "metadata": {},
   "outputs": [],
   "source": [
    "Q5. How do you use autoregression models to make predictions for future time points?\n"
   ]
  },
  {
   "cell_type": "code",
   "execution_count": null,
   "id": "8f66e058-ea82-4a0f-9078-99de3b7bfd71",
   "metadata": {},
   "outputs": [],
   "source": [
    "Autoregression models can be used to make predictions for future time points by utilizing the estimated autoregressive\n",
    "coefficients. The model takes the past values of the time series as inputs and uses the autoregressive coefficients to\n",
    "calculate the predicted value for the next time point. The process is repeated recursively to generate predictions for\n",
    "multiple future time points."
   ]
  },
  {
   "cell_type": "code",
   "execution_count": null,
   "id": "24495edf-afe9-40f9-94bc-2f109b4a6277",
   "metadata": {},
   "outputs": [],
   "source": [
    "Q6. What is a moving average (MA) model and how does it differ from other time series models?\n"
   ]
  },
  {
   "cell_type": "code",
   "execution_count": null,
   "id": "c16d5ca9-7ebf-4caa-b77e-8e9ad4843ea5",
   "metadata": {},
   "outputs": [],
   "source": [
    "A moving average (MA) model is a type of time series model that focuses on capturing the short-term dependencies or noise\n",
    "in the data. Unlike autoregressive models that model the relationship between the current observation and past observations,\n",
    "MA models represent the current value as a linear combination of the error terms (residuals) from past observations.\n",
    "The model uses the lagged error terms to capture the short-term fluctuations or random shocks in the data.\n",
    "\n",
    "The key difference between MA models and other time series models like AR or ARMA is the way they capture the temporal \n",
    "dependencies. MA models emphasize the influence of past error terms, while AR models emphasize the influence of past \n",
    "values of the time series itself. ARMA models combine both autoregressive and moving average components to capture both \n",
    "short-term and long-term dependencies in the data."
   ]
  },
  {
   "cell_type": "code",
   "execution_count": null,
   "id": "9fd8a220-7cdb-476c-86b1-88daf7a7ee95",
   "metadata": {},
   "outputs": [],
   "source": [
    "Q7. What is a mixed ARMA model and how does it differ from an AR or MA model?"
   ]
  },
  {
   "cell_type": "code",
   "execution_count": null,
   "id": "0f5961b6-da9d-4028-826c-2c82a71716df",
   "metadata": {},
   "outputs": [],
   "source": [
    "A mixed ARMA model, also known as an ARMA(p,q) model, combines both autoregressive (AR) and moving average (MA) components\n",
    "to capture the dependencies in the time series data. An AR model represents the current value as a linear combination of \n",
    "past values, while an MA model represents the current value as a linear combination of past error terms. In an ARMA model,\n",
    "both the past values and the error terms are considered to model the current value.\n",
    "\n",
    "The key difference between an ARMA model and individual AR or MA models is that an AR model only considers the past values\n",
    "of the time series, while an MA model only considers the past error terms. In contrast, an ARMA model combines both \n",
    "approaches to capture the different aspects of temporal dependencies in the data. ARMA models are more flexible and can \n",
    "capture a wider range of patterns in the time series compared to individual AR or MA models."
   ]
  }
 ],
 "metadata": {
  "kernelspec": {
   "display_name": "Python 3 (ipykernel)",
   "language": "python",
   "name": "python3"
  },
  "language_info": {
   "codemirror_mode": {
    "name": "ipython",
    "version": 3
   },
   "file_extension": ".py",
   "mimetype": "text/x-python",
   "name": "python",
   "nbconvert_exporter": "python",
   "pygments_lexer": "ipython3",
   "version": "3.10.8"
  }
 },
 "nbformat": 4,
 "nbformat_minor": 5
}
