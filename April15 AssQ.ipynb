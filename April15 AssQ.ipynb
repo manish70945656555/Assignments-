{
 "cells": [
  {
   "cell_type": "markdown",
   "id": "c5c956b2-fa40-48d3-9f9d-ab3332b48fab",
   "metadata": {},
   "source": [
    "Q1. You are working on a machine learning project where you have a dataset containing numerical and\n",
    "categorical features. You have identified that some of the features are highly correlated and there are\n",
    "missing values in some of the columns. You want to build a pipeline that automates the feature\n",
    "engineering process and handles the missing values.\n",
    "\n",
    "Design a pipeline that includes the following steps:-\n",
    "\n",
    "1.Use an automated feature selection method to identify the important features in the dataset.\n",
    "2.Create a numerical pipeline that includes the following steps.\n",
    "3.Impute the missing values in the numerical columns using the mean of the column values.\n",
    "4.Scale the numerical columns using standardisation.\n",
    "5.Create a categorical pipeline that includes the following steps.\n",
    "6.Impute the missing values in the categorical columns using the most frequent value of the column.\n",
    "7.One-hot encode the categorical columns.\n",
    "8.Combine the numerical and categorical pipelines using a ColumnTransformer.\n",
    "9.Use a Random Forest Classifier to build the final model.\n",
    "10.Evaluate the accuracy of the model on the test dataset.\n",
    "\n",
    "Note! Your solution should include code snippets for each step of the pipeline, and a brief explanation of\n",
    "each step. You should also provide an interpretation of the results and suggest possible improvements for\n",
    "the pipeline."
   ]
  },
  {
   "cell_type": "code",
   "execution_count": 41,
   "id": "6e681175-e001-4934-bcfa-25aba9177ee9",
   "metadata": {},
   "outputs": [
    {
     "name": "stdout",
     "output_type": "stream",
     "text": [
      "Accuracy: 0.6351351351351351\n"
     ]
    }
   ],
   "source": [
    "from sklearn.pipeline import Pipeline\n",
    "from sklearn.compose import ColumnTransformer\n",
    "from sklearn.feature_selection import SelectFromModel\n",
    "from sklearn.impute import SimpleImputer\n",
    "from sklearn.preprocessing import StandardScaler, OneHotEncoder\n",
    "from sklearn.ensemble import RandomForestClassifier\n",
    "from sklearn.model_selection import train_test_split\n",
    "from sklearn.metrics import accuracy_score\n",
    "\n",
    "#data importing\n",
    "import seaborn as sns\n",
    "import pandas as pd\n",
    "df=sns.load_dataset('tips')\n",
    "\n",
    "# indipendent and dependent variable\n",
    "X=df.drop(labels=['sex'],axis=1)\n",
    "y=df.sex\n",
    "\n",
    "#train,test split\n",
    "from sklearn.model_selection import train_test_split\n",
    "X_train,X_test,y_train,y_test=train_test_split(X,y,test_size=0.30,random_state=42)\n",
    "\n",
    "# Step 1: Use an automated feature selection method to identify important features\n",
    "numerical_features=['tip','size','total_bill']\n",
    "categorical_features=['smoker','day','time']\n",
    "\n",
    "# Step 2: Create a numerical pipeline\n",
    "numerical_pipeline = Pipeline([\n",
    "    ('imputer', SimpleImputer(strategy='mean')),\n",
    "    ('scaler', StandardScaler())\n",
    "])\n",
    "\n",
    "# Step 3: Create a categorical pipeline\n",
    "categorical_pipeline = Pipeline([\n",
    "    ('imputer', SimpleImputer(strategy='most_frequent')),\n",
    "    ('encoder', OneHotEncoder())\n",
    "])\n",
    "\n",
    "# Step 4: Combine numerical and categorical pipelines using ColumnTransformer\n",
    "preprocessor = ColumnTransformer([\n",
    "    ('numerical', numerical_pipeline, numerical_features),\n",
    "    ('categorical', categorical_pipeline, categorical_features)\n",
    "])\n",
    "\n",
    "# Step 5: Build the final model using the Random Forest Classifier\n",
    "model = Pipeline([\n",
    "    ('preprocessor',preprocessor),\n",
    "    ('classifier', RandomForestClassifier())\n",
    "])\n",
    "\n",
    "# Step 6: Fit the model on the training data\n",
    "model.fit(X_train,y_train)\n",
    "\n",
    "# Step 7: Make predictions on the test data\n",
    "y_pred = model.predict(X_test)\n",
    "\n",
    "# Step 8: Evaluate the accuracy of the model on the test dataset\n",
    "accuracy = accuracy_score(y_test, y_pred)\n",
    "print(\"Accuracy:\", accuracy)\n"
   ]
  },
  {
   "cell_type": "markdown",
   "id": "69f2e365-dc77-40c9-93b1-384c5f300d70",
   "metadata": {},
   "source": [
    "Q2. Build a pipeline that includes a random forest classifier and a logistic regression classifier, and then\n",
    "use a voting classifier to combine their predictions. Train the pipeline on the iris dataset and evaluate its\n",
    "accuracy."
   ]
  },
  {
   "cell_type": "code",
   "execution_count": 42,
   "id": "96fa1742-8b41-482c-a9a4-14a4cd391a01",
   "metadata": {},
   "outputs": [
    {
     "name": "stdout",
     "output_type": "stream",
     "text": [
      "Accuracy: 1.0\n"
     ]
    }
   ],
   "source": [
    "from sklearn.ensemble import RandomForestClassifier, VotingClassifier\n",
    "from sklearn.linear_model import LogisticRegression\n",
    "from sklearn.datasets import load_iris\n",
    "from sklearn.model_selection import train_test_split\n",
    "from sklearn.pipeline import Pipeline\n",
    "from sklearn.preprocessing import StandardScaler\n",
    "from sklearn.metrics import accuracy_score\n",
    "\n",
    "# Load the Iris dataset\n",
    "iris = load_iris()\n",
    "X, y = iris.data, iris.target\n",
    "\n",
    "# Split the dataset into training and test sets\n",
    "X_train, X_test, y_train, y_test = train_test_split(X, y, test_size=0.3, random_state=42)\n",
    "\n",
    "# Create the individual classifiers\n",
    "rf_classifier = RandomForestClassifier(random_state=42)\n",
    "lr_classifier = LogisticRegression(random_state=42)\n",
    "\n",
    "# Create the pipeline with the classifiers\n",
    "pipeline = Pipeline([\n",
    "    ('scaler', StandardScaler()),\n",
    "    ('voting', VotingClassifier([\n",
    "        ('rf', rf_classifier),\n",
    "        ('lr', lr_classifier)\n",
    "    ]))\n",
    "])\n",
    "\n",
    "# Fit the pipeline on the training data\n",
    "pipeline.fit(X_train, y_train)\n",
    "\n",
    "# Make predictions on the test data\n",
    "y_pred = pipeline.predict(X_test)\n",
    "\n",
    "# Evaluate the accuracy of the pipeline\n",
    "accuracy = accuracy_score(y_test, y_pred)\n",
    "print(\"Accuracy:\", accuracy)\n"
   ]
  },
  {
   "cell_type": "code",
   "execution_count": null,
   "id": "267affca-88c5-4b00-8c22-1f529406015e",
   "metadata": {},
   "outputs": [],
   "source": []
  }
 ],
 "metadata": {
  "kernelspec": {
   "display_name": "Python 3 (ipykernel)",
   "language": "python",
   "name": "python3"
  },
  "language_info": {
   "codemirror_mode": {
    "name": "ipython",
    "version": 3
   },
   "file_extension": ".py",
   "mimetype": "text/x-python",
   "name": "python",
   "nbconvert_exporter": "python",
   "pygments_lexer": "ipython3",
   "version": "3.10.8"
  }
 },
 "nbformat": 4,
 "nbformat_minor": 5
}
