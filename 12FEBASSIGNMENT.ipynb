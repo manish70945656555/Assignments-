{
 "cells": [
  {
   "cell_type": "code",
   "execution_count": null,
   "id": "d3ac3c3b-2b1e-429c-9013-28c48ce4c27b",
   "metadata": {},
   "outputs": [],
   "source": [
    "Q1. What is n Exception in python? Write the difference between Exceptions and syntax errors\n",
    "Ans:- an exception is an error that occurs during the execution of a program. When an exception occurs, Python raises an\n",
    "     exception object, which contains information about the error, such as its type and a message that describes what \n",
    "     went wrong.\n",
    "     \n",
    "    Syntax errors, on the other hand, occur when the Python interpreter is unable to understand the code that you have\n",
    "    written. Syntax errors occur before the program is executed and can prevent the program from running at all. Common\n",
    "    examples of syntax errors include misspelled variable names, missing or incorrect punctuation, and incorrect\n",
    "    indentation.\n",
    "\n",
    "The main difference between exceptions and syntax errors is that exceptions occur during the execution of a program,\n",
    "while syntax errors occur before the program is executed. Syntax errors are usually caused by mistakes in the code itself,\n",
    "while exceptions are typically caused by factors outside of the programmer's control, such as unexpected user input or\n",
    "network errors. In general, exceptions are easier to debug than syntax errors, because the exception object provides more\n",
    "information about the error and where it occurred in the code."
   ]
  },
  {
   "cell_type": "code",
   "execution_count": null,
   "id": "9b9f2d35-1abc-424e-ad37-b80b44a67599",
   "metadata": {},
   "outputs": [],
   "source": [
    "Q2. What happens when an exception is not handled? Explain with an example\n",
    "Ans:= When an exception is not handled, it results in the program terminating abruptly with an error message, and the \n",
    "      remaining code in the program is not executed.\n",
    "\n",
    "For example, consider the following code:"
   ]
  },
  {
   "cell_type": "code",
   "execution_count": 6,
   "id": "78182d41-c8a5-4a8c-aa59-daf39d5bb20c",
   "metadata": {},
   "outputs": [
    {
     "name": "stdin",
     "output_type": "stream",
     "text": [
      "Enter a number:  jdh\n"
     ]
    },
    {
     "name": "stdout",
     "output_type": "stream",
     "text": [
      "Invalid input, please enter a number.\n"
     ]
    }
   ],
   "source": [
    "import logging #using logging for standardise code of conduct\n",
    "logging.basicConfig(filename=\"output.log\",level=logging.INFO)\n",
    "try:\n",
    "    num1 = int(input(\"Enter a number: \"))\n",
    "    num2 = int(input(\"Enter another number: \"))\n",
    "    result = num1 / num2\n",
    "    logging.info(\"Result:\", result) #if number entered correctly than it stored in log file\n",
    "except ValueError: #if value is not provided in integer than this exception is shown on screen\n",
    "    print(\"Invalid input, please enter a number.\")\n"
   ]
  },
  {
   "cell_type": "code",
   "execution_count": null,
   "id": "c1b07215-8ec3-4208-8fa2-6c59dca3b639",
   "metadata": {},
   "outputs": [],
   "source": [
    "Q.3 which python statements are used to catch and handle exceptions. explain with an example\n",
    "Ans:-exceptions can be caught and handled using try-except statements. The try block contains the code that may raise\n",
    "     an exception, and the except block contains the code that handles the exception if it occurs.\n",
    "\n",
    "Here's an example:"
   ]
  },
  {
   "cell_type": "code",
   "execution_count": 7,
   "id": "3f349731-d76a-4109-8ee2-6d3b88f87ce6",
   "metadata": {},
   "outputs": [
    {
     "name": "stdin",
     "output_type": "stream",
     "text": [
      "Enter a number:  45o\n"
     ]
    },
    {
     "name": "stdout",
     "output_type": "stream",
     "text": [
      "You must enter a integer\n"
     ]
    }
   ],
   "source": [
    "try:\n",
    "    x = int(input(\"Enter a number: \"))\n",
    "    y = 10 / x\n",
    "    print(\"The result is:\", y)\n",
    "except ValueError:\n",
    "    print(\"You must enter a integer\")\n"
   ]
  },
  {
   "cell_type": "code",
   "execution_count": null,
   "id": "f9305fbe-b27d-47e9-8908-a3147be4ba3b",
   "metadata": {},
   "outputs": [],
   "source": [
    "Q.4 Explain with an example 1)try and else 2) finally 3)raise\n",
    "Ans:-\n",
    "1)try and except blocks are used to handle exceptions. The try block contains the code that may raise an exception, \n",
    "and the except block handles the exception if it occurs. \n",
    "Here's an example:"
   ]
  },
  {
   "cell_type": "code",
   "execution_count": 9,
   "id": "1524059b-4313-452a-aeba-3898e6c34116",
   "metadata": {},
   "outputs": [
    {
     "name": "stdin",
     "output_type": "stream",
     "text": [
      "Enter a number:  Manish\n"
     ]
    },
    {
     "name": "stdout",
     "output_type": "stream",
     "text": [
      "You entered an invalid input. Please enter a valid number.\n"
     ]
    }
   ],
   "source": [
    "try:\n",
    "    num = int(input(\"Enter a number: \"))\n",
    "    print(\"The square of the number is\", num**2)\n",
    "except ValueError:\n",
    "    print(\"You entered an invalid input. Please enter a valid number.\")\n"
   ]
  },
  {
   "cell_type": "code",
   "execution_count": null,
   "id": "c567e461-87d4-4e6f-8244-be7d1056e636",
   "metadata": {},
   "outputs": [],
   "source": [
    "2)the finally block is used to execute code after a try block, regardless of whether an exception is raised or not. \n",
    "Here's an example"
   ]
  },
  {
   "cell_type": "code",
   "execution_count": null,
   "id": "3150cd71-d108-425d-b790-70aa11e78806",
   "metadata": {},
   "outputs": [],
   "source": [
    "try:\n",
    "    file = open(\"example.txt\", \"r\")\n",
    "    content = file.read()\n",
    "    print(content)\n",
    "except:\n",
    "    print(\"An error occurred while reading the file.\")\n",
    "finally:\n",
    "    file.close() #execute after try everytime regardless of whether an exception is raised or not. "
   ]
  },
  {
   "cell_type": "code",
   "execution_count": null,
   "id": "2711193e-f482-4403-a68e-544792a47f83",
   "metadata": {},
   "outputs": [],
   "source": [
    "3) the raise keyword is used to raise an exception. \n",
    "Here's an example:"
   ]
  },
  {
   "cell_type": "code",
   "execution_count": null,
   "id": "3f6fef5b-6def-4627-ad30-3963f67729ad",
   "metadata": {},
   "outputs": [],
   "source": [
    "def divide(a, b):\n",
    "    if b == 0:\n",
    "        raise ZeroDivisionError(\"Cannot divide by zero\") # raise an exception.\n",
    "    else:\n",
    "        return a / b\n",
    "\n",
    "try:\n",
    "    result = divide(10, 0)\n",
    "except ZeroDivisionError as e:\n",
    "    print(e)\n"
   ]
  },
  {
   "cell_type": "code",
   "execution_count": null,
   "id": "f8063a4f-5ac8-4b0d-8b0a-c505ab9b9e9b",
   "metadata": {},
   "outputs": [],
   "source": [
    "Q.5 What are custom exception in python . why do we need custom exception . explain with an example\n",
    "Ans:-custom exceptions are user-defined exceptions that can be created to handle specific errors or exceptional cases \n",
    "    in a program. Custom exceptions allow us to define our own error types with specific names and messages, which can\n",
    "    make our code more readable and maintainable.\n",
    "\n",
    "    We may need custom exceptions in Python when we encounter specific situations in our program that are not covered \n",
    "    by built-in exceptions. By defining our own exceptions, we can provide more informative error messages and handle \n",
    "    errors more effectively.\n",
    "\n",
    "Here's an example of how to define and use a custom exception in Python:"
   ]
  },
  {
   "cell_type": "code",
   "execution_count": 12,
   "id": "3d41f9ae-ce3e-4321-ab75-20c25515f941",
   "metadata": {},
   "outputs": [
    {
     "name": "stdout",
     "output_type": "stream",
     "text": [
      "Invalid age: 15. Age must be greater than or equal to 18.\n"
     ]
    }
   ],
   "source": [
    "class InvalidAgeException(Exception):\n",
    "    def __init__(self, age):\n",
    "        self.age = age\n",
    "        self.message = f\"Invalid age: {age}. Age must be greater than or equal to 18.\"\n",
    "        super().__init__(self.message)\n",
    "\n",
    "def validate_age(age):\n",
    "    if age < 18:\n",
    "        raise InvalidAgeException(age)\n",
    "    else:\n",
    "        print(\"Age is valid.\")\n",
    "\n",
    "try:\n",
    "    validate_age(15)\n",
    "except InvalidAgeException as e:\n",
    "    print(e.message)\n"
   ]
  },
  {
   "cell_type": "code",
   "execution_count": null,
   "id": "a5e8808d-19a6-4e5c-b0af-e1fb4e65ed24",
   "metadata": {},
   "outputs": [],
   "source": [
    "Q.6 Create A custom exception class. use this class to handle an exception"
   ]
  },
  {
   "cell_type": "code",
   "execution_count": 15,
   "id": "1f0c8bb0-659a-4f85-8395-7cd7afd8f191",
   "metadata": {},
   "outputs": [
    {
     "name": "stdout",
     "output_type": "stream",
     "text": [
      "mobile number is invalid\n"
     ]
    }
   ],
   "source": [
    "#custom exception to insure that mobile number is of 10 digits\n",
    "class Invalid_mobile_num(Exception):\n",
    "    def __init__(self,Mob):\n",
    "        self.Mob=Mob\n",
    "        self.message=f\"Invalid mobile number . mobile number is of 10 digits\"\n",
    "        super.__init__(self.message)\n",
    "        \n",
    "def validate_mobilenum(Mob):\n",
    "    if len(Mob)==10:\n",
    "        raise Invalid_mobile_num(Mob)\n",
    "    else:\n",
    "        print(\"mobile number is invalid\")\n",
    "        \n",
    "try:\n",
    "    \n",
    "    validate_mobilenum(str(36448924))\n",
    "except Invalid_mobile_num as e:\n",
    "    print(e.message)"
   ]
  },
  {
   "cell_type": "code",
   "execution_count": null,
   "id": "f001f7d7-69b5-4e69-9ec1-45712a0ebd9e",
   "metadata": {},
   "outputs": [],
   "source": []
  }
 ],
 "metadata": {
  "kernelspec": {
   "display_name": "Python 3 (ipykernel)",
   "language": "python",
   "name": "python3"
  },
  "language_info": {
   "codemirror_mode": {
    "name": "ipython",
    "version": 3
   },
   "file_extension": ".py",
   "mimetype": "text/x-python",
   "name": "python",
   "nbconvert_exporter": "python",
   "pygments_lexer": "ipython3",
   "version": "3.10.8"
  }
 },
 "nbformat": 4,
 "nbformat_minor": 5
}
