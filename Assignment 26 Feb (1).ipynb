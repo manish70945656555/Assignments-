{
 "cells": [
  {
   "cell_type": "code",
   "execution_count": null,
   "id": "82b8ccbb-4edb-4a0e-88ae-2eb5cbec79d5",
   "metadata": {},
   "outputs": [],
   "source": [
    "Consider the below code to answer further questions:\n",
    "\n",
    "import numpy as np\n",
    "list_ = [ ‘1’ , ’2’ , ‘3’ , ‘4’ , ‘5’ ]\n",
    "array_list = np.array(object = list_)"
   ]
  },
  {
   "cell_type": "code",
   "execution_count": null,
   "id": "18eaa0d9-e14c-48ae-8bdb-d4126b34d8f8",
   "metadata": {},
   "outputs": [],
   "source": [
    "Q1. Is there any difference in the data type of variables list_ and array_list? If there is then write a code\n",
    "to print the data types of both the variables."
   ]
  },
  {
   "cell_type": "code",
   "execution_count": null,
   "id": "14bfd2a4-748c-464f-b693-52338b4aca4a",
   "metadata": {},
   "outputs": [],
   "source": [
    "Yes, there is a difference in the data type of variables list_ and array_list. list_ is a Python list object while array_list \n",
    "is a NumPy array object.\n",
    "\n",
    "You can print the data types of both variables using the type() function in Python:"
   ]
  },
  {
   "cell_type": "code",
   "execution_count": 1,
   "id": "d4618a2d-3548-48c7-a18b-13b0e183b2d8",
   "metadata": {},
   "outputs": [
    {
     "name": "stdout",
     "output_type": "stream",
     "text": [
      "<class 'list'>\n",
      "<class 'numpy.ndarray'>\n"
     ]
    }
   ],
   "source": [
    "import numpy as np\n",
    "\n",
    "list_ = ['1', '2', '3', '4', '5']\n",
    "array_list = np.array(object=list_)\n",
    "\n",
    "print(type(list_)) # Output: <class 'list'>\n",
    "print(type(array_list)) # Output: <class 'numpy.ndarray'>\n"
   ]
  },
  {
   "cell_type": "code",
   "execution_count": null,
   "id": "4f7ec8c3-4c35-4505-b6df-69b22d51a5d1",
   "metadata": {},
   "outputs": [],
   "source": [
    "Q2. Write a code to print the data type of each and every element of both the variables list_ and\n",
    "arra_list."
   ]
  },
  {
   "cell_type": "code",
   "execution_count": 2,
   "id": "1aa19de3-5ccf-415a-b0f4-a74792b7f725",
   "metadata": {},
   "outputs": [
    {
     "name": "stdout",
     "output_type": "stream",
     "text": [
      "<class 'str'>\n",
      "<class 'str'>\n",
      "<class 'str'>\n",
      "<class 'str'>\n",
      "<class 'str'>\n",
      "<class 'numpy.str_'>\n",
      "<class 'numpy.str_'>\n",
      "<class 'numpy.str_'>\n",
      "<class 'numpy.str_'>\n",
      "<class 'numpy.str_'>\n"
     ]
    }
   ],
   "source": [
    "import numpy as np\n",
    "\n",
    "list_ = ['1', '2', '3', '4', '5']\n",
    "array_list = np.array(object=list_)\n",
    "\n",
    "# print data type of each element in list_\n",
    "for element in list_:\n",
    "    print(type(element))\n",
    "\n",
    "# print data type of each element in array_list\n",
    "for element in array_list:\n",
    "    print(type(element))\n"
   ]
  },
  {
   "cell_type": "code",
   "execution_count": null,
   "id": "85f8f577-4d7f-4bf5-8607-5b706506cab8",
   "metadata": {},
   "outputs": [],
   "source": [
    "Q3. Considering the following changes in the variable, array_list:\n",
    "array_list = np.array(object = list_, dtype = int)\n",
    "Will there be any difference in the data type of the elements present in both the variables, list_ and\n",
    "arra_list? If so then print the data types of each and every element present in both the variables, list_\n",
    "and arra_list."
   ]
  },
  {
   "cell_type": "code",
   "execution_count": null,
   "id": "80c06563-c549-4341-bb00-9de1899d1abc",
   "metadata": {},
   "outputs": [],
   "source": [
    "Yes, there will be a difference in the data type of the elements present in list_ and array_list after the change.\n",
    "In this code, we are creating a new NumPy array array_list from the elements of the list_ variable and specifying the data \n",
    "type as int using the dtype parameter. This means that all the elements in the new array will be converted to integers.\n",
    "\n",
    "Here's the code to print the data type of each element present in both the list_ and array_list variables:"
   ]
  },
  {
   "cell_type": "code",
   "execution_count": 3,
   "id": "d681546c-f261-46b0-9f5b-d876e0804889",
   "metadata": {},
   "outputs": [
    {
     "name": "stdout",
     "output_type": "stream",
     "text": [
      "<class 'str'>\n",
      "<class 'str'>\n",
      "<class 'str'>\n",
      "<class 'str'>\n",
      "<class 'str'>\n",
      "<class 'numpy.int64'>\n",
      "<class 'numpy.int64'>\n",
      "<class 'numpy.int64'>\n",
      "<class 'numpy.int64'>\n",
      "<class 'numpy.int64'>\n"
     ]
    }
   ],
   "source": [
    "import numpy as np\n",
    "\n",
    "list_ = ['1', '2', '3', '4', '5']\n",
    "array_list = np.array(object=list_, dtype=int)\n",
    "\n",
    "# print data type of each element in list_\n",
    "for element in list_:\n",
    "    print(type(element))\n",
    "\n",
    "# print data type of each element in array_list\n",
    "for element in array_list:\n",
    "    print(type(element))\n"
   ]
  },
  {
   "cell_type": "code",
   "execution_count": null,
   "id": "adbad62f-eba1-4d33-a3ba-1d83f270514a",
   "metadata": {},
   "outputs": [],
   "source": [
    "Q4. Write a code to find the following characteristics of variable, num_array:\n",
    "(i) shape\n",
    "(ii) size"
   ]
  },
  {
   "cell_type": "code",
   "execution_count": 4,
   "id": "a9895743-8152-4e00-841f-5043f271fe4a",
   "metadata": {},
   "outputs": [
    {
     "name": "stdout",
     "output_type": "stream",
     "text": [
      "Shape of the array: (3, 3)\n",
      "Size of the array: 9\n"
     ]
    }
   ],
   "source": [
    "import numpy as np\n",
    "\n",
    "# create a NumPy array\n",
    "num_array = np.array([[1, 2, 3], [4, 5, 6], [7, 8, 9]])\n",
    "\n",
    "# find the shape of the array\n",
    "shape = num_array.shape\n",
    "\n",
    "# find the size of the array\n",
    "size = num_array.size\n",
    "\n",
    "# print the shape and size of the array\n",
    "print(\"Shape of the array:\", shape)\n",
    "print(\"Size of the array:\", size)\n"
   ]
  },
  {
   "cell_type": "code",
   "execution_count": null,
   "id": "54a3d01b-28af-4b46-9d08-c09bc148eebf",
   "metadata": {},
   "outputs": [],
   "source": [
    "Q5. Write a code to create numpy array of 3*3 matrix containing zeros only, using a numpy array\n",
    "creation function.\n",
    "[Hint: The size of the array will be 9 and the shape will be (3,3).]"
   ]
  },
  {
   "cell_type": "code",
   "execution_count": null,
   "id": "87d39dc2-373d-4678-a5e4-3329a5d4451a",
   "metadata": {},
   "outputs": [],
   "source": [
    "import numpy as np\n",
    "\n",
    "# create a 3x3 matrix of zeros using the zeros() function\n",
    "zeros_array = np.zeros((3, 3))\n",
    "\n",
    "# print the zeros array\n",
    "print(zeros_array)\n"
   ]
  },
  {
   "cell_type": "code",
   "execution_count": null,
   "id": "6099f239-01d0-4bd1-ad9b-655dc8879b31",
   "metadata": {},
   "outputs": [],
   "source": [
    "Q6. Create an identity matrix of shape (5,5) using numpy functions?\n",
    "[Hint: An identity matrix is a matrix containing 1 diagonally and other elements will be 0.]"
   ]
  },
  {
   "cell_type": "code",
   "execution_count": 5,
   "id": "8cd6d8e7-49d0-4799-8ad3-cbb4c27ac9df",
   "metadata": {},
   "outputs": [
    {
     "name": "stdout",
     "output_type": "stream",
     "text": [
      "[[1. 0. 0. 0. 0.]\n",
      " [0. 1. 0. 0. 0.]\n",
      " [0. 0. 1. 0. 0.]\n",
      " [0. 0. 0. 1. 0.]\n",
      " [0. 0. 0. 0. 1.]]\n"
     ]
    }
   ],
   "source": [
    "import numpy as np\n",
    "\n",
    "# create an identity matrix of shape (5,5) using the identity() function\n",
    "identity_array = np.identity(5)\n",
    "\n",
    "# print the identity matrix\n",
    "print(identity_array)\n"
   ]
  },
  {
   "cell_type": "code",
   "execution_count": null,
   "id": "4399c05d-f859-4bae-a2c9-fb27b79ca0ec",
   "metadata": {},
   "outputs": [],
   "source": []
  }
 ],
 "metadata": {
  "kernelspec": {
   "display_name": "Python 3 (ipykernel)",
   "language": "python",
   "name": "python3"
  },
  "language_info": {
   "codemirror_mode": {
    "name": "ipython",
    "version": 3
   },
   "file_extension": ".py",
   "mimetype": "text/x-python",
   "name": "python",
   "nbconvert_exporter": "python",
   "pygments_lexer": "ipython3",
   "version": "3.10.8"
  }
 },
 "nbformat": 4,
 "nbformat_minor": 5
}
