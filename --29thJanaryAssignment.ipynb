{
 "cells": [
  {
   "cell_type": "code",
   "execution_count": null,
   "id": "3b14a35f-b735-4cab-bb1b-6a6732423cb3",
   "metadata": {},
   "outputs": [],
   "source": [
    "Q.1 Who Developed Python Programing Language\n",
    "Ans Python was developed by  Guido van Rossum and first released it in 1991 as Python 0.9.0.\n"
   ]
  },
  {
   "cell_type": "code",
   "execution_count": null,
   "id": "421dadb9-debb-4c59-a25a-681761bd5016",
   "metadata": {},
   "outputs": [],
   "source": [
    "Q.2 Which Type Of programimg does python supports \n",
    "Ans -Python is multi-programming language and supports OOP(object oriented programming) and structured programing and\n",
    "     many of their features support functional programming and aspect-oriented programming (including metaprogramming \n",
    "     and metao bjects)\n"
   ]
  },
  {
   "cell_type": "code",
   "execution_count": null,
   "id": "6dc1c6c6-a8fd-4064-b4ad-a577825aebca",
   "metadata": {},
   "outputs": [],
   "source": [
    "Q.3 Is python is case sensitive while dealing with identifiers\n",
    "Ans - Yes it is right , Python is a case-sensitive language, it treats uppercase and lowercase characters differently ,\n",
    "      and this rule applied on identifiers also."
   ]
  },
  {
   "cell_type": "code",
   "execution_count": null,
   "id": "a3e6a5f2-b862-41cb-bdf3-51f4b58aeb0e",
   "metadata": {},
   "outputs": [],
   "source": [
    "Q.4 What is the correct extension of the python file\n",
    "Ans- The coorect extension to store file is .py extension\n"
   ]
  },
  {
   "cell_type": "code",
   "execution_count": null,
   "id": "8a9d42ae-f6ad-4d30-8706-94e974340410",
   "metadata": {},
   "outputs": [],
   "source": [
    "Q.5 is python code compiled or interpreted \n",
    "Ans - Python code is interpreted as well as compiled . firstly compiler compiled the file in one go , then code is\n",
    "      interpreted line by line , so we can say that python is combination of both."
   ]
  },
  {
   "cell_type": "code",
   "execution_count": null,
   "id": "2856a475-49e3-4bb2-94e4-ae4398335d69",
   "metadata": {},
   "outputs": [],
   "source": [
    "Q.6 Name the few blocks of code used to define in python language\n",
    "Ans- Indentation is used in python language to define block of code and this make python different from other\n",
    "     programming languages."
   ]
  },
  {
   "cell_type": "code",
   "execution_count": null,
   "id": "91e83aeb-5079-4bec-98a8-95456ab1bce0",
   "metadata": {},
   "outputs": [],
   "source": [
    "Q.7 State a character used to give single  line comments in python\n",
    "Ans - The character used to give single line comment is '#'."
   ]
  },
  {
   "cell_type": "code",
   "execution_count": null,
   "id": "08cc7164-1bdf-41f9-bf53-41b77797ef66",
   "metadata": {},
   "outputs": [],
   "source": [
    "Q.8 Mention Functions which can help us to find the version of python that we are currently working on \n",
    "Ans-  sys.version function  can help us to find the version of python that we are currently working on."
   ]
  },
  {
   "cell_type": "code",
   "execution_count": null,
   "id": "0a2929f6-d628-40fe-88ce-27ea01a262de",
   "metadata": {},
   "outputs": [],
   "source": [
    "Q.9 Python supports the creation of anonymous functions at runtime , using a construct called_____\n",
    "Ans- lambda"
   ]
  },
  {
   "cell_type": "code",
   "execution_count": null,
   "id": "d4665614-ef02-48e1-884b-11a6961e7efa",
   "metadata": {},
   "outputs": [],
   "source": [
    "Q.10 What does pip stands for python \n",
    "Ans - pip full form is Preferred Installer Program.\n",
    "      It is a command-line utility that installs, reinstalls, or uninstalls PyPI packages with one simple command: pip"
   ]
  },
  {
   "cell_type": "code",
   "execution_count": null,
   "id": "590d9316-05ab-4f10-8b76-c415eb21e941",
   "metadata": {},
   "outputs": [],
   "source": [
    "Q.11 Mention a few built-in functions in python\n",
    "Ans- Python provides many built in functions which are useful in various problems\n",
    "     some of built-in functions are \n",
    "     1. print() - this function used to print the output\n",
    "     2. input() - this function used to take input from the user\n",
    "     3. range () - this function define range of numbers \n",
    "     4. reversed() - This function Returns a reversed iterator\n",
    "     5. type() - This function Returns the type of an object"
   ]
  },
  {
   "cell_type": "code",
   "execution_count": null,
   "id": "9bb3bbb2-dc3c-4c00-ba96-b66b95f9b95c",
   "metadata": {},
   "outputs": [],
   "source": [
    "Q.12 What is the maximum possible length of a identifier in python \n",
    "Ans - An identifier can have a maximum length of 79 characters in Python"
   ]
  },
  {
   "cell_type": "code",
   "execution_count": null,
   "id": "4d960619-c69f-4340-b498-bd18b17b423a",
   "metadata": {},
   "outputs": [],
   "source": [
    "Q.13 What are the benefits of using python\n",
    "Ans - Python Is very easy to use language\n",
    "      it provides multiples libraries and built in function to its user\n",
    "      python is platform-independent and can be run on any operating machine\n",
    "      it supports object oriented programming language \n",
    "    "
   ]
  },
  {
   "cell_type": "code",
   "execution_count": null,
   "id": "03485be1-8a7f-46b0-b396-83e958f8c88e",
   "metadata": {},
   "outputs": [],
   "source": [
    "Q.14 How is memory managed in python \n",
    "Ans - Private heap space managed Memory in Python . All Python objects and data structures are located in \n",
    "      a private heap. This private heap is taken care of by Python Interpreter itself, and a programmer doesn't\n",
    "      have access to this private heap."
   ]
  },
  {
   "cell_type": "code",
   "execution_count": null,
   "id": "218c83c4-8165-4a20-8bf4-972507e0a4dd",
   "metadata": {},
   "outputs": [],
   "source": [
    "Q.15 How to install Python on Windows and set path variables \n",
    "Ans - 1. Installation - Open a browser to the Python website and download the Windows installer. Double click on the\n",
    "      downloaded file and install Python for all users, and ensure that Python is added to your path. \n",
    "      Click on Install now to begin\n",
    "      2. Setting Path Variables -Right click on My Computer and click on properties.\n",
    "                                 Click on Advanced System settings.\n",
    "                                 Click on Environment Variable tab.\n",
    "                                 Click on new tab of user variables.\n",
    "                                 Write path in variable name.\n",
    "                                 Copy the path of Python folder.\n",
    "                                 Paste path of Python in variable value. \n",
    "                                 Click on Ok button."
   ]
  },
  {
   "cell_type": "code",
   "execution_count": null,
   "id": "5f96d92b-e643-42a8-91c4-8a9fa63dd3d5",
   "metadata": {},
   "outputs": [],
   "source": [
    "Q.16 Is indentation required in python \n",
    "Ans - Indentation is compulsory in python to execute block of program statements \n",
    "      It is preferred to use whitespaces instead of tabs to indent in python. \n",
    "      Python uses four spaces as default indentation spaces."
   ]
  }
 ],
 "metadata": {
  "kernelspec": {
   "display_name": "Python 3 (ipykernel)",
   "language": "python",
   "name": "python3"
  },
  "language_info": {
   "codemirror_mode": {
    "name": "ipython",
    "version": 3
   },
   "file_extension": ".py",
   "mimetype": "text/x-python",
   "name": "python",
   "nbconvert_exporter": "python",
   "pygments_lexer": "ipython3",
   "version": "3.10.8"
  }
 },
 "nbformat": 4,
 "nbformat_minor": 5
}
