{
 "cells": [
  {
   "cell_type": "code",
   "execution_count": null,
   "id": "cd17896d-b7af-4641-8838-c0c73cf0b6a9",
   "metadata": {},
   "outputs": [],
   "source": [
    "Q1. Write a Python function that takes in two arrays of data and calculates the F-value for a variance ratio\n",
    "test. The function should return the F-value and the corresponding p-value for the test."
   ]
  },
  {
   "cell_type": "code",
   "execution_count": 2,
   "id": "30640511-80d6-4bbf-8bd9-8a1b5e666661",
   "metadata": {},
   "outputs": [
    {
     "name": "stdout",
     "output_type": "stream",
     "text": [
      "F-value: 0.25\n",
      "p-value: 0.896\n"
     ]
    }
   ],
   "source": [
    "import numpy as np\n",
    "from scipy.stats import f\n",
    "\n",
    "def variance_ratio_test(data1, data2):\n",
    "    \"\"\"\n",
    "    Performs a variance ratio test (F-test) on two arrays of data.\n",
    "    \n",
    "    Args:\n",
    "        data1 (array-like): First array of data\n",
    "        data2 (array-like): Second array of data\n",
    "        \n",
    "    Returns:\n",
    "        f_value (float): F-value for the variance ratio test\n",
    "        p_value (float): Corresponding p-value for the test\n",
    "    \"\"\"\n",
    "    # Convert input data to numpy arrays\n",
    "    data1 = np.array(data1)\n",
    "    data2 = np.array(data2)\n",
    "    \n",
    "    # Calculate the sample variances for each data set\n",
    "    var1 = np.var(data1, ddof=1)\n",
    "    var2 = np.var(data2, ddof=1)\n",
    "    \n",
    "    # Calculate the F-value\n",
    "    f_value = var1 / var2\n",
    "    \n",
    "    # Calculate the degrees of freedom for each data set\n",
    "    df1 = len(data1) - 1\n",
    "    df2 = len(data2) - 1\n",
    "    \n",
    "    # Calculate the p-value using the F-distribution\n",
    "    p_value = 1 - f.cdf(f_value, df1, df2)\n",
    "    \n",
    "    return f_value, p_value\n",
    "\n",
    "\n",
    "\n",
    "# Example data\n",
    "data1 = np.array([1, 2, 3, 4, 5])\n",
    "data2 = np.array([2, 4, 6, 8, 10])\n",
    "\n",
    "# Call the function and store the results\n",
    "f_value, p_value = variance_ratio_test(data1, data2)\n",
    "\n",
    "# Print the results\n",
    "print(\"F-value:\", f_value)\n",
    "print(\"p-value:\", p_value)\n"
   ]
  },
  {
   "cell_type": "code",
   "execution_count": null,
   "id": "ad530d5e-ce09-478b-a6d0-c0420c7e5594",
   "metadata": {},
   "outputs": [],
   "source": [
    "Q2. Given a significance level of 0.05 and the degrees of freedom for the numerator and denominator of an\n",
    "F-distribution, write a Python function that returns the critical F-value for a two-tailed test."
   ]
  },
  {
   "cell_type": "code",
   "execution_count": 1,
   "id": "65752988-6458-4b55-b036-498fcd2fe20a",
   "metadata": {},
   "outputs": [
    {
     "name": "stdout",
     "output_type": "stream",
     "text": [
      "Critical F-value:  4.474184809637748\n"
     ]
    }
   ],
   "source": [
    "# Import the function\n",
    "import scipy.stats as stats\n",
    "\n",
    "def get_critical_f_value(alpha, dfn, dfd):\n",
    "    \"\"\"\n",
    "    Calculates the critical F-value for a two-tailed test.\n",
    "\n",
    "    Parameters:\n",
    "        alpha (float): Significance level (e.g., 0.05 for a 5% significance level)\n",
    "        dfn (int): Degrees of freedom for the numerator\n",
    "        dfd (int): Degrees of freedom for the denominator\n",
    "\n",
    "    Returns:\n",
    "        float: Critical F-value for the given significance level, dfn, and dfd\n",
    "    \"\"\"\n",
    "    # Calculate the critical value from the inverse cumulative distribution function (CDF)\n",
    "    # of the F-distribution\n",
    "    critical_f = stats.f.ppf(1 - alpha/2, dfn, dfd)\n",
    "\n",
    "    return critical_f\n",
    "\n",
    "# Set the significance level and degrees of freedom\n",
    "alpha = 0.05\n",
    "dfn = 3\n",
    "dfd = 12\n",
    "\n",
    "# Call the function to get the critical F-value\n",
    "critical_f_value = get_critical_f_value(alpha, dfn, dfd)\n",
    "\n",
    "# Print the result\n",
    "print(\"Critical F-value: \", critical_f_value)\n"
   ]
  },
  {
   "cell_type": "code",
   "execution_count": null,
   "id": "25d4b227-3fd3-43df-b368-8597b9aef8b7",
   "metadata": {},
   "outputs": [],
   "source": [
    "Q3. Write a Python program that generates random samples from two normal distributions with known\n",
    "variances and uses an F-test to determine if the variances are equal. The program should output the F-\n",
    "value, degrees of freedom, and p-value for the test."
   ]
  },
  {
   "cell_type": "code",
   "execution_count": 3,
   "id": "058eec78-2ffa-44d2-89f4-2a9a25d0fec6",
   "metadata": {},
   "outputs": [
    {
     "name": "stdout",
     "output_type": "stream",
     "text": [
      "F-value: 0.16281573061264565\n",
      "Degrees of Freedom (numerator, denominator): 1 58\n",
      "p-value: 0.6880610358726906\n"
     ]
    }
   ],
   "source": [
    "import numpy as np\n",
    "import scipy.stats as stats\n",
    "\n",
    "# Generate random samples from two normal distributions with known variances\n",
    "np.random.seed(123)  # Set random seed for reproducibility\n",
    "n1 = 30  # Sample size for distribution 1\n",
    "n2 = 30  # Sample size for distribution 2\n",
    "variance1 = 5  # Variance of distribution 1\n",
    "variance2 = 10  # Variance of distribution 2\n",
    "sample1 = np.random.normal(0, np.sqrt(variance1), n1)\n",
    "sample2 = np.random.normal(0, np.sqrt(variance2), n2)\n",
    "\n",
    "# Perform F-test to determine if variances are equal\n",
    "f_statistic, p_value = stats.f_oneway(sample1, sample2)\n",
    "\n",
    "# Calculate degrees of freedom for numerator and denominator\n",
    "dfn = 1\n",
    "dfd = n1 + n2 - 2\n",
    "\n",
    "# Print results\n",
    "print(\"F-value:\", f_statistic)\n",
    "print(\"Degrees of Freedom (numerator, denominator):\", dfn, dfd)\n",
    "print(\"p-value:\", p_value)\n"
   ]
  },
  {
   "cell_type": "code",
   "execution_count": null,
   "id": "0c8e1259-e333-49db-a25e-5964325a2d1d",
   "metadata": {},
   "outputs": [],
   "source": [
    "Q4.The variances of two populations are known to be 10 and 15. A sample of 12 observations is taken from\n",
    "each population. Conduct an F-test at the 5% significance level to determine if the variances are\n",
    "significantly different."
   ]
  },
  {
   "cell_type": "code",
   "execution_count": 4,
   "id": "91cb4f77-0eeb-456b-b7ab-fc05a51780ac",
   "metadata": {},
   "outputs": [
    {
     "name": "stdout",
     "output_type": "stream",
     "text": [
      "F-critical value: 3.473699051085809\n",
      "F-statistic: 0.6666666666666666\n",
      "p-value: 1.4876102012642005\n",
      "Fail to reject the null hypothesis. Variances are not significantly different.\n"
     ]
    }
   ],
   "source": [
    "import numpy as np\n",
    "import scipy.stats as stats\n",
    "\n",
    "# Given information\n",
    "variance1 = 10  # Variance of population 1\n",
    "variance2 = 15  # Variance of population 2\n",
    "n1 = 12  # Sample size for population 1\n",
    "n2 = 12  # Sample size for population 2\n",
    "alpha = 0.05  # Significance level\n",
    "\n",
    "# Calculate F-critical value for the given significance level\n",
    "dfn = n1 - 1  # Degrees of freedom for numerator\n",
    "dfd = n2 - 1  # Degrees of freedom for denominator\n",
    "f_critical = stats.f.ppf(1 - alpha/2, dfn, dfd)\n",
    "\n",
    "# Calculate F-statistic\n",
    "f_statistic = variance1 / variance2\n",
    "\n",
    "# Perform F-test\n",
    "p_value = 2 * (1 - stats.f.cdf(f_statistic, dfn, dfd))\n",
    "\n",
    "# Print results\n",
    "print(\"F-critical value:\", f_critical)\n",
    "print(\"F-statistic:\", f_statistic)\n",
    "print(\"p-value:\", p_value)\n",
    "\n",
    "# Compare F-statistic with F-critical value and make decision\n",
    "if f_statistic > f_critical:\n",
    "    print(\"Reject the null hypothesis. Variances are significantly different.\")\n",
    "else:\n",
    "    print(\"Fail to reject the null hypothesis. Variances are not significantly different.\")\n"
   ]
  },
  {
   "cell_type": "code",
   "execution_count": null,
   "id": "a9c3d3b2-a6ed-4596-8dfa-8e6ce8cb7816",
   "metadata": {},
   "outputs": [],
   "source": [
    "Q5. A manufacturer claims that the variance of the diameter of a certain product is 0.005. A sample of 25\n",
    "products is taken, and the sample variance is found to be 0.006. Conduct an F-test at the 1% significance\n",
    "level to determine if the claim is justified."
   ]
  },
  {
   "cell_type": "code",
   "execution_count": 5,
   "id": "8c867a78-9798-4c71-86df-7d232f173dd9",
   "metadata": {},
   "outputs": [
    {
     "name": "stdout",
     "output_type": "stream",
     "text": [
      "F-critical value: 6234.6308935330835\n",
      "F-statistic: 1.2\n",
      "p-value: 0.6296099619959358\n",
      "Fail to reject the null hypothesis. Claim is not justified.\n"
     ]
    }
   ],
   "source": [
    "import numpy as np\n",
    "import scipy.stats as stats\n",
    "\n",
    "# Given information\n",
    "variance_claimed = 0.005  # Claimed variance\n",
    "sample_variance = 0.006  # Sample variance\n",
    "n = 25  # Sample size\n",
    "alpha = 0.01  # Significance level\n",
    "\n",
    "# Calculate F-critical value for the given significance level\n",
    "dfn = n - 1  # Degrees of freedom for numerator\n",
    "dfd = 1  # Degrees of freedom for denominator, since there is only one sample variance\n",
    "f_critical = stats.f.ppf(1 - alpha, dfn, dfd)\n",
    "\n",
    "# Calculate F-statistic\n",
    "f_statistic = sample_variance / variance_claimed\n",
    "\n",
    "# Perform F-test\n",
    "p_value = 1 - stats.f.cdf(f_statistic, dfn, dfd)\n",
    "\n",
    "# Print results\n",
    "print(\"F-critical value:\", f_critical)\n",
    "print(\"F-statistic:\", f_statistic)\n",
    "print(\"p-value:\", p_value)\n",
    "\n",
    "# Compare F-statistic with F-critical value and make decision\n",
    "if f_statistic > f_critical:\n",
    "    print(\"Reject the null hypothesis. Claim is justified.\")\n",
    "else:\n",
    "    print(\"Fail to reject the null hypothesis. Claim is not justified.\")\n"
   ]
  },
  {
   "cell_type": "code",
   "execution_count": null,
   "id": "f7c1a185-e502-48dd-8629-eaab702fea35",
   "metadata": {},
   "outputs": [],
   "source": [
    "Q6. Write a Python function that takes in the degrees of freedom for the numerator and denominator of an\n",
    "F-distribution and calculates the mean and variance of the distribution. The function should return the\n",
    "mean and variance as a tuple."
   ]
  },
  {
   "cell_type": "code",
   "execution_count": 6,
   "id": "3e93f8c9-1b42-4883-8a76-cf1ef898b0b2",
   "metadata": {},
   "outputs": [
    {
     "name": "stdout",
     "output_type": "stream",
     "text": [
      "Mean of F-distribution: 1.25\n",
      "Variance of F-distribution: 1.3541666666666667\n"
     ]
    }
   ],
   "source": [
    "import scipy.stats as stats\n",
    "\n",
    "def calculate_f_distribution_mean_and_variance(dfn, dfd):\n",
    "    \"\"\"\n",
    "    Calculates the mean and variance of an F-distribution.\n",
    "\n",
    "    Parameters:\n",
    "        - dfn (int): Degrees of freedom for numerator\n",
    "        - dfd (int): Degrees of freedom for denominator\n",
    "\n",
    "    Returns:\n",
    "        - mean (float): Mean of the F-distribution\n",
    "        - variance (float): Variance of the F-distribution\n",
    "    \"\"\"\n",
    "    # Calculate mean and variance of F-distribution\n",
    "    mean = dfd / (dfd - 2) if dfd > 2 else None\n",
    "    variance = (2 * (dfd ** 2) * (dfn + dfd - 2)) / (dfn * (dfd - 2) ** 2 * (dfd - 4)) if dfd > 4 else None\n",
    "\n",
    "    return mean, variance\n",
    "\n",
    "# Example usage\n",
    "dfn = 5\n",
    "dfd = 10\n",
    "mean, variance = calculate_f_distribution_mean_and_variance(dfn, dfd)\n",
    "print(\"Mean of F-distribution:\", mean)\n",
    "print(\"Variance of F-distribution:\", variance)\n"
   ]
  },
  {
   "cell_type": "code",
   "execution_count": null,
   "id": "4f8f52d3-b84e-46e7-9d16-9cd61ec2a1ab",
   "metadata": {},
   "outputs": [],
   "source": [
    "Q7. A random sample of 10 measurements is taken from a normal population with unknown variance. The\n",
    "sample variance is found to be 25. Another random sample of 15 measurements is taken from another\n",
    "normal population with unknown variance, and the sample variance is found to be 20. Conduct an F-test\n",
    "at the 10% significance level to determine if the variances are significantly different."
   ]
  },
  {
   "cell_type": "code",
   "execution_count": 7,
   "id": "d9c8f296-fa8f-4fce-84d5-b0f714aaf7d7",
   "metadata": {},
   "outputs": [
    {
     "name": "stdout",
     "output_type": "stream",
     "text": [
      "Fail to reject null hypothesis: Variances are not significantly different.\n"
     ]
    }
   ],
   "source": [
    "import scipy.stats as stats\n",
    "\n",
    "# Sample variances\n",
    "sample_variance1 = 25\n",
    "sample_variance2 = 20\n",
    "\n",
    "# Sample sizes\n",
    "n1 = 10\n",
    "n2 = 15\n",
    "\n",
    "# Significance level\n",
    "alpha = 0.10\n",
    "\n",
    "# Calculate the F-statistic\n",
    "f_statistic = sample_variance1 / sample_variance2\n",
    "\n",
    "# Calculate the critical value for the F-distribution\n",
    "critical_value = stats.f.ppf(1 - alpha/2, n1 - 1, n2 - 1)\n",
    "\n",
    "# Compare the F-statistic with the critical value\n",
    "if f_statistic > critical_value:\n",
    "    print(\"Reject null hypothesis: Variances are significantly different.\")\n",
    "else:\n",
    "    print(\"Fail to reject null hypothesis: Variances are not significantly different.\")\n"
   ]
  },
  {
   "cell_type": "code",
   "execution_count": null,
   "id": "78bbae59-7d6b-4699-b504-e186bcb14974",
   "metadata": {},
   "outputs": [],
   "source": [
    "Q8. The following data represent the waiting times in minutes at two different restaurants on a Saturday\n",
    "night: Restaurant A: 24, 25, 28, 23, 22, 20, 27; Restaurant B: 31, 33, 35, 30, 32, 36. Conduct an F-test at the 5%\n",
    "significance level to determine if the variances are significantly different."
   ]
  },
  {
   "cell_type": "code",
   "execution_count": 8,
   "id": "cbd8ec53-0fb9-46a0-9f81-069a9369e6b1",
   "metadata": {},
   "outputs": [
    {
     "name": "stdout",
     "output_type": "stream",
     "text": [
      "Fail to reject null hypothesis: Variances are not significantly different.\n"
     ]
    }
   ],
   "source": [
    "import numpy as np\n",
    "import scipy.stats as stats\n",
    "\n",
    "# Waiting time data for Restaurant A and Restaurant B\n",
    "waiting_times_a = np.array([24, 25, 28, 23, 22, 20, 27])\n",
    "waiting_times_b = np.array([31, 33, 35, 30, 32, 36])\n",
    "\n",
    "# Sample variances\n",
    "sample_variance_a = np.var(waiting_times_a, ddof=1)\n",
    "sample_variance_b = np.var(waiting_times_b, ddof=1)\n",
    "\n",
    "# Sample sizes\n",
    "n1 = len(waiting_times_a)\n",
    "n2 = len(waiting_times_b)\n",
    "\n",
    "# Significance level\n",
    "alpha = 0.05\n",
    "\n",
    "# Calculate the F-statistic\n",
    "f_statistic = sample_variance_a / sample_variance_b\n",
    "\n",
    "# Calculate the critical value for the F-distribution\n",
    "critical_value = stats.f.ppf(1 - alpha/2, n1 - 1, n2 - 1)\n",
    "\n",
    "# Compare the F-statistic with the critical value\n",
    "if f_statistic > critical_value:\n",
    "    print(\"Reject null hypothesis: Variances are significantly different.\")\n",
    "else:\n",
    "    print(\"Fail to reject null hypothesis: Variances are not significantly different.\")\n"
   ]
  },
  {
   "cell_type": "code",
   "execution_count": null,
   "id": "31e1e9e3-aa73-4dab-99dd-ba653f63a91f",
   "metadata": {},
   "outputs": [],
   "source": [
    "Q9. The following data represent the test scores of two groups of students: Group A: 80, 85, 90, 92, 87, 83;\n",
    "Group B: 75, 78, 82, 79, 81, 84. Conduct an F-test at the 1% significance level to determine if the variances\n",
    "are significantly different."
   ]
  },
  {
   "cell_type": "code",
   "execution_count": 9,
   "id": "f0f9afc5-04eb-44a7-a02a-21cfdc5a64e9",
   "metadata": {},
   "outputs": [
    {
     "name": "stdout",
     "output_type": "stream",
     "text": [
      "Fail to reject null hypothesis: Variances are not significantly different.\n"
     ]
    }
   ],
   "source": [
    "import numpy as np\n",
    "import scipy.stats as stats\n",
    "\n",
    "# Test score data for Group A and Group B\n",
    "test_scores_a = np.array([80, 85, 90, 92, 87, 83])\n",
    "test_scores_b = np.array([75, 78, 82, 79, 81, 84])\n",
    "\n",
    "# Sample variances\n",
    "sample_variance_a = np.var(test_scores_a, ddof=1)\n",
    "sample_variance_b = np.var(test_scores_b, ddof=1)\n",
    "\n",
    "# Sample sizes\n",
    "n1 = len(test_scores_a)\n",
    "n2 = len(test_scores_b)\n",
    "\n",
    "# Significance level\n",
    "alpha = 0.01\n",
    "\n",
    "# Calculate the F-statistic\n",
    "f_statistic = sample_variance_a / sample_variance_b\n",
    "\n",
    "# Calculate the critical value for the F-distribution\n",
    "critical_value = stats.f.ppf(1 - alpha/2, n1 - 1, n2 - 1)\n",
    "\n",
    "# Compare the F-statistic with the critical value\n",
    "if f_statistic > critical_value:\n",
    "    print(\"Reject null hypothesis: Variances are significantly different.\")\n",
    "else:\n",
    "    print(\"Fail to reject null hypothesis: Variances are not significantly different.\")\n"
   ]
  },
  {
   "cell_type": "code",
   "execution_count": null,
   "id": "f6c5b04e-30f7-4969-a1ab-afe9ffecbca7",
   "metadata": {},
   "outputs": [],
   "source": []
  }
 ],
 "metadata": {
  "kernelspec": {
   "display_name": "Python 3 (ipykernel)",
   "language": "python",
   "name": "python3"
  },
  "language_info": {
   "codemirror_mode": {
    "name": "ipython",
    "version": 3
   },
   "file_extension": ".py",
   "mimetype": "text/x-python",
   "name": "python",
   "nbconvert_exporter": "python",
   "pygments_lexer": "ipython3",
   "version": "3.10.8"
  }
 },
 "nbformat": 4,
 "nbformat_minor": 5
}
