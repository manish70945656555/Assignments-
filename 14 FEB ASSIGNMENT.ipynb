{
 "cells": [
  {
   "cell_type": "code",
   "execution_count": null,
   "id": "f707c57b-1eaf-4aad-a577-32319042f8bd",
   "metadata": {},
   "outputs": [],
   "source": [
    "Q.1 What is multithreading in python? Why is it used? Name the module used to handle threads in python"
   ]
  },
  {
   "cell_type": "code",
   "execution_count": null,
   "id": "26db2e37-e3cb-448c-bdae-400c04c805a0",
   "metadata": {},
   "outputs": [],
   "source": [
    "Multithreading is the concurrent execution of more than one sequential set of instructions in a process. In Python, \n",
    "multithreading is a way to achieve parallelism by allowing multiple threads to run simultaneously within a single process.\n",
    "\n",
    "Multithreading is useful in Python for several reasons, including:\n",
    "1)Improved performance: By running multiple threads simultaneously, you can take advantage of multiple CPU cores and \n",
    "achieve faster execution times.\n",
    "\n",
    "2)Better resource utilization: Multithreading allows you to maximize the use of system resources such as CPU and memory.\n",
    "\n",
    "3)Enhanced user experience: Multithreading can improve the user experience by allowing the program to respond more \n",
    "quickly to user input and by enabling background tasks to run without interrupting the main program.\n",
    "\n",
    "Threading module is used to handle threads. This module provides a simple way to create and manage threads within a\n",
    "Python program. The threading module provides the Thread class, which can be subclassed to create new threads. \n",
    "The module also provides synchronization primitives such as locks, semaphores, and conditions, which can be used to\n",
    "coordinate access to shared resources between threads."
   ]
  },
  {
   "cell_type": "code",
   "execution_count": null,
   "id": "3b163a42-4f18-4f87-bd9d-89bc0834827b",
   "metadata": {},
   "outputs": [],
   "source": [
    "Q.2 Why threading module used? write the use of the following functions\n",
    "Ans:-threading module is used in Python to implement multithreading. It provides a simple and easy-to-use way to create\n",
    "   and manage threads in Python. Here's a brief description of the three functions you asked about:\n",
    "\n",
    "1.activeCount( ) :- activeCount(): This function returns the number of currently active threads in the current thread's\n",
    "   thread group. It does not include the main thread of the program. This function can be useful for debugging and \n",
    "   monitoring purposes.\n",
    "\n",
    "2.currentThread( ) :- currentThread(): This function returns a reference to the current thread object. This can be useful\n",
    "    if you need to manipulate the current thread, such as setting a custom thread name or checking its status.\n",
    "\n",
    "3.enumerate( ):-This function returns a list of all currently active thread objects. This can be useful if you need to\n",
    "  iterate over all threads and perform some action on each one, such as checking their status or terminating them.\n",
    "\n",
    " "
   ]
  },
  {
   "cell_type": "code",
   "execution_count": null,
   "id": "329b7dc6-2d59-46af-a872-883468f3efbb",
   "metadata": {},
   "outputs": [],
   "source": [
    "Q.3 Explain the following functions\n",
    "1.run()\n",
    "2.start()\n",
    "3.join()\n",
    "4.isAlive()\n",
    "\n",
    "Ans:-\n",
    "1.run():- This method defines the activity that the thread will perform. You can subclass the Thread class and \n",
    "      override this method to define your own thread activity. When you start the thread by calling the start() method, \n",
    "      it will call the run() method internally.\n",
    "        \n",
    "2.start():-This method starts the thread's activity. It creates a new thread and calls the run() method on it. This \n",
    "          method should only be called once per thread object. If you try to start the same thread object multiple times,\n",
    "          you will get an exception.\n",
    "\n",
    "3.join(): This method waits for the thread to complete. It blocks the calling thread until the thread whose join() method\n",
    "  is called completes or is terminated. This is useful if you need to wait for a thread to finish before continuing \n",
    "  execution of the main program.\n",
    "\n",
    "4.isAlive(): This method returns a boolean value indicating whether the thread is currently running. If the thread is \n",
    "             running, it will return True; otherwise, it will return False"
   ]
  },
  {
   "cell_type": "code",
   "execution_count": null,
   "id": "40e0cfb8-229c-4502-a037-257c6c425e39",
   "metadata": {},
   "outputs": [],
   "source": [
    "Q.4. Write a python program to create two threads. Thread one must print the list of squares and thread\n",
    "two must print the list of cubes"
   ]
  },
  {
   "cell_type": "code",
   "execution_count": 1,
   "id": "e02ea38f-d4d5-4617-8431-046ac5696f43",
   "metadata": {},
   "outputs": [
    {
     "name": "stdout",
     "output_type": "stream",
     "text": [
      "1 squared is 1\n",
      "2 squared is 4\n",
      "3 squared is 9\n",
      "4 squared is 16\n",
      "5 squared is 25\n",
      "6 squared is 36\n",
      "7 squared is 49\n",
      "8 squared is 64\n",
      "9 squared is 81\n",
      "10 squared is 100\n",
      "1 cubed is 1\n",
      "2 cubed is 8\n",
      "3 cubed is 27\n",
      "4 cubed is 64\n",
      "5 cubed is 125\n",
      "6 cubed is 216\n",
      "7 cubed is 343\n",
      "8 cubed is 512\n",
      "9 cubed is 729\n",
      "10 cubed is 1000\n",
      "Main thread exiting\n"
     ]
    }
   ],
   "source": [
    "import threading\n",
    "\n",
    "def print_squares():\n",
    "    for i in range(1, 11):\n",
    "        print(f\"{i} squared is {i*i}\")\n",
    "\n",
    "def print_cubes():\n",
    "    for i in range(1, 11):\n",
    "        print(f\"{i} cubed is {i*i*i}\")\n",
    "\n",
    "# Create two threads\n",
    "t1 = threading.Thread(target=print_squares)\n",
    "t2 = threading.Thread(target=print_cubes)\n",
    "\n",
    "# Start the threads\n",
    "t1.start()\n",
    "t2.start()\n",
    "\n",
    "# Wait for both threads to complete\n",
    "t1.join()\n",
    "t2.join()\n",
    "\n",
    "print(\"Main thread exiting\")\n"
   ]
  },
  {
   "cell_type": "code",
   "execution_count": null,
   "id": "fa40f15b-6c3c-4186-abf9-60458b008716",
   "metadata": {},
   "outputs": [],
   "source": [
    "Q5. State advantages and disadvantages of multithreading\n",
    "Ans:-\n",
    "Advantages:\n",
    "\n",
    "1)Improved performance: Multithreading can improve the performance of a program by allowing it to perform multiple tasks \n",
    "  simultaneously. This can lead to faster execution times and better utilization of system resources.\n",
    "\n",
    "2)Responsiveness: Multithreading can make a program more responsive to user input. By running long-running tasks in the\n",
    "  background, the user interface can remain responsive and continue to update in real-time.\n",
    "\n",
    "3)Resource sharing: Multithreading allows multiple threads to share resources such as memory and file handles. This can\n",
    "  lead to more efficient use of system resources and can reduce the overhead of creating new processes.\n",
    "\n",
    "4)Modular design: Multithreading can enable a program to be designed in a more modular fashion. By breaking up complex \n",
    " tasks into smaller threads, it can be easier to maintain and update the program over time.\n",
    "    \n",
    "Disadvantages:\n",
    "\n",
    "1)Complexity: Multithreaded programs can be more complex to design, implement, and debug than single-threaded programs.\n",
    "  Race conditions, deadlocks, and other synchronization issues can be difficult to identify and fix.\n",
    "\n",
    "2)Resource contention: Multithreading can lead to resource contention issues where multiple threads compete for the same\n",
    " resources. This can cause performance degradation and may require complex synchronization mechanisms to manage.\n",
    "\n",
    "3)Overhead: Multithreading can introduce additional overhead due to the need for context switching between threads.\n",
    "  This can reduce performance, particularly on systems with limited resources.\n",
    "\n",
    "4)Security issues: Multithreading can introduce security issues, particularly when multiple threads access shared \n",
    "  resources. This can lead to race conditions, data corruption, and other security vulnerabilities."
   ]
  },
  {
   "cell_type": "code",
   "execution_count": null,
   "id": "a41ddac8-d8e3-4fea-a3a0-ea6dd16e9eb6",
   "metadata": {},
   "outputs": [],
   "source": [
    "Q6. Explain deadlocks and race conditions.\n",
    "Ans:-Deadlocks and race conditions are common synchronization problems that can occur in multithreaded\n",
    "   programming.\n",
    "\n",
    "1)Deadlock :- it occurs when two or more threads are blocked and waiting for each other to release \n",
    "   resources that they need to proceed. In other words, a deadlock is a situation where two or more \n",
    "  threads are stuck and unable to make progress. Deadlocks can occur when multiple threads are accessing\n",
    "  shared resources and are waiting for each other to release those resources. For example, if thread A \n",
    "  has locked resource X and is waiting for resource Y, and thread B has locked resource Y and is waiting\n",
    "  for resource X, a deadlock can occur.\n",
    "\n",
    "2)Race:-it occurs when two or more threads access shared resources in an unpredictable order, and the \n",
    "  outcome depends on the timing and order of their execution. In other words, a race condition is a \n",
    "  situation where the correctness of the program depends on the order in which threads access shared\n",
    "  resources. For example, if two threads are incrementing the same variable, and the variable is not\n",
    " protected by a mutex or semaphore, a race condition can occur. The result of the program will depend \n",
    " on the order in which the threads execute, and the outcome may not be deterministic.\n",
    "\n",
    "Both deadlocks and race conditions can be difficult to detect and debug, as they may not always manifest\n",
    "themselves consistently. To prevent deadlocks and race conditions, multithreaded programs need to use\n",
    "proper synchronization mechanisms such as mutexes, semaphores, and condition variables, and ensure that\n",
    "shared resources are accessed in a controlled and predictable manner."
   ]
  }
 ],
 "metadata": {
  "kernelspec": {
   "display_name": "Python 3 (ipykernel)",
   "language": "python",
   "name": "python3"
  },
  "language_info": {
   "codemirror_mode": {
    "name": "ipython",
    "version": 3
   },
   "file_extension": ".py",
   "mimetype": "text/x-python",
   "name": "python",
   "nbconvert_exporter": "python",
   "pygments_lexer": "ipython3",
   "version": "3.10.8"
  }
 },
 "nbformat": 4,
 "nbformat_minor": 5
}
