{
 "cells": [
  {
   "cell_type": "code",
   "execution_count": null,
   "id": "3d5c6a78-0f87-4d67-ab6a-6f4228afd786",
   "metadata": {},
   "outputs": [],
   "source": [
    "Q1. What is Abstraction in OOps? Explain with an example.\n",
    "Ans:-Abstraction is a fundamental concept in object-oriented programming (OOP) that refers to the process of hiding\n",
    "     the complex details of an object, class or system and presenting only the essential features to the user.\n",
    "     The goal of abstraction is to simplify the interaction between the user and the system, making it easier to understand \n",
    "     and use.\n",
    "    \n",
    "    In Python, abstraction can be achieved by having/using abstract classes and methods in our programs,\n",
    "        An abstract method is a method that is declared, but does not contain implementation. An abstract method in a\n",
    "        base class identifies the functionality that should be implemented by all its subclasses.\n",
    "        \n",
    "        Python provides the abc module to use the abstraction in the Python program, syntax as:\n",
    "            "
   ]
  },
  {
   "cell_type": "code",
   "execution_count": 1,
   "id": "066af57f-dfb8-4e88-a59a-8ae1db518a77",
   "metadata": {},
   "outputs": [],
   "source": [
    "#Program showing working of abstaction \n",
    "from abc import ABC, abstractmethod\n",
    "\n",
    "class Shape(ABC):\n",
    "    @abstractmethod\n",
    "    def area(self):\n",
    "        pass\n",
    "    \n",
    "    @abstractmethod\n",
    "    def perimeter(self):\n",
    "        pass\n",
    "\n",
    "class Circle(Shape):\n",
    "    def __init__(self, radius):\n",
    "        self.radius = radius\n",
    "        \n",
    "    def area(self):\n",
    "        return 3.14 * self.radius * self.radius\n",
    "    \n",
    "    def perimeter(self):\n",
    "        return 2 * 3.14 * self.radius\n",
    "\n",
    "def total_area(shapes):\n",
    "    return sum([s.area() for s in shapes])\n"
   ]
  },
  {
   "cell_type": "code",
   "execution_count": null,
   "id": "b21827ae-6fe2-4bbc-abf5-ececdc82103f",
   "metadata": {},
   "outputs": [],
   "source": [
    "Q2. Differentiate between Abstraction and Encapsulation. Explain with an example.\n",
    "Ans:- Abstraction refers to the process of hiding the complex details of an object, class or system and presenting only the \n",
    "essential features to the user. The goal of abstraction is to simplify the interaction between the user and the system,\n",
    "making it easier to understand and use.\n",
    "\n",
    "Encapsulation, on the other hand, refers to the bundling of data and functions that operate on that data within a single \n",
    "unit or object. This bundling allows the object to hide its internal details, such as its data and implementation, \n",
    "from the outside world, making it easier to maintain and evolve the system over time.\n",
    "\n",
    "EX:= The TV remote control provides an abstracted interface for controlling the TV, allowing the user to change channels\n",
    "     and adjust the volume without having to understand the inner workings of the TV. The TV itself represents an example\n",
    "     of encapsulation, as it bundles all of its components (e.g. the display, speakers, circuit boards, etc.) into a single \n",
    "     unit, hiding the complexity of its internal details from the user."
   ]
  },
  {
   "cell_type": "code",
   "execution_count": null,
   "id": "fa15c994-567f-4ec4-86b9-843c4582590d",
   "metadata": {},
   "outputs": [],
   "source": [
    "Q3. What is abc module in python? Why is it used?"
   ]
  },
  {
   "cell_type": "code",
   "execution_count": null,
   "id": "b0186f08-f257-4628-9771-88d7931a26d6",
   "metadata": {},
   "outputs": [],
   "source": [
    "Ans:-The abc (abstract base class) module in Python is part of the standard library and provides support for defining \n",
    "      abstract base classes (ABCs). An ABC is a class that cannot be instantiated but acts as a base class for other classes,\n",
    "     providing a common interface and enforcing certain constraints. The purpose of ABCs is to define a common interface for a\n",
    "     set of classes, so that they can be used interchangeably in a program, without having to worry about the specific\n",
    "     implementation details of each class.\n",
    "\n",
    "    ABCs are useful when you want to define a set of related classes that need to share a common interface, but don't want \n",
    "    to actually provide a concrete implementation for that interface. Instead, you can define an abstract base class that \n",
    "    specifies the methods and properties that the concrete implementations should have, and then have each concrete\n",
    "    implementation inherit from the ABC. This allows you to ensure that each implementation provides the expected behavior, \n",
    "    without having to write a lot of duplicated code.\n",
    "\n",
    "    In Python, you can define an ABC by using the abc.ABC class as a base class for your own class, and then marking methods \n",
    "    and properties as abstract using the @abc.abstractmethod and @abc.abstractproperty decorators. Classes that\n",
    "    inherit from an ABC must implement all of the abstract methods and properties, or they will raise a TypeError when \n",
    "    instantiated"
   ]
  },
  {
   "cell_type": "code",
   "execution_count": null,
   "id": "e17f3db9-e40a-451c-8bbc-ffafd75626b1",
   "metadata": {},
   "outputs": [],
   "source": [
    "Q4. How can we achieve data abstraction?"
   ]
  },
  {
   "cell_type": "code",
   "execution_count": null,
   "id": "e886bfe6-57bd-430c-bc9b-d0d877c8ed10",
   "metadata": {},
   "outputs": [],
   "source": [
    "Ans:-Data abstraction is a concept in computer science that involves separating the implementation details of a data structure\n",
    "    or algorithm from its external behavior. The goal of data abstraction is to provide a clear and concise interface to the \n",
    "    user of the data structure or algorithm, while hiding the implementation details that are not relevant to the user.\n",
    "\n",
    "   There are several ways to achieve data abstraction in programming:\n",
    "\n",
    "   1.Encapsulation: Encapsulation is the practice of wrapping the data and the operations that can be performed on that data \n",
    "   into a single, self-contained unit or object. This allows you to hide the implementation details of the data structure or\n",
    "   algorithm and expose only the necessary operations to the user.\n",
    "\n",
    "   2.Interfaces: An interface is a blueprint for a set of related classes that defines a common set of methods or operations\n",
    "   that must be implemented by those classes. By using interfaces, you can define an abstract layer of data abstraction \n",
    "   that separates the implementation details from the external behavior.\n",
    "   3.Abstract classes: An abstract class is a class that cannot be instantiated and acts as a base class for other classes.\n",
    "   Abstract classes are used to define a common interface for a set of related classes, and can be used to enforce certain \n",
    "   constraints on those classes.\n",
    "\n",
    "   4.Information hiding: Information hiding is the practice of concealing the internal details of a data structure or algorithm \n",
    "    from the user. This is typically achieved through the use of access modifiers or visibility scopes, which control what \n",
    "    parts of the code can access the internal details of the data structure or algorithm.\n",
    "\n",
    "By using these techniques, you can achieve data abstraction and provide a clear and concise interface to the user, while\n",
    "keeping the implementation details hidden and protected. This leads to more maintainable and flexible code, as the\n",
    "implementation details can be changed without affecting the external behavior of the data structure or algorithm."
   ]
  },
  {
   "cell_type": "code",
   "execution_count": null,
   "id": "3b533914-c33c-43db-b405-e0ad0cb633cd",
   "metadata": {},
   "outputs": [],
   "source": [
    "Q5. Can we create an instance of an abstract class? Explain your answer.\n",
    "Ans:-No, we cannot create an instance of an abstract class in Python. An abstract class is a class that is defined as \n",
    "     an abstract base class (ABC) and is meant to be used as a base class for other classes, not as an instance itself.\n",
    "\n",
    "   Abstract classes are used to define a common interface for a set of related classes and enforce certain constraints,\n",
    "   but they do not provide a complete implementation for those classes. Instead, the concrete implementations of the abstract\n",
    "   class are expected to provide the necessary details.\n",
    "\n",
    "   In Python, you can define an abstract class using the abc (abstract base class) module, and marking methods and properties\n",
    "   as abstract using the @abc.abstractmethod and @abc.abstractproperty decorators. Classes that inherit from an abstract class\n",
    "   must implement all of the abstract methods and properties, or they will raise a TypeError when instantiated.\n",
    "\n",
    "   Because an abstract class does not provide a complete implementation, it is not possible to create an instance of the\n",
    "   abstract class. Attempting to do so will raise a TypeError, indicating that the abstract class cannot be instantiated.\n",
    "   The goal of an abstract class is to act as a base class for other classes, not as an instance in and of itself."
   ]
  },
  {
   "cell_type": "code",
   "execution_count": null,
   "id": "3c4341e6-289a-4ab7-b1b1-a35b4903e1dd",
   "metadata": {},
   "outputs": [],
   "source": []
  }
 ],
 "metadata": {
  "kernelspec": {
   "display_name": "Python 3 (ipykernel)",
   "language": "python",
   "name": "python3"
  },
  "language_info": {
   "codemirror_mode": {
    "name": "ipython",
    "version": 3
   },
   "file_extension": ".py",
   "mimetype": "text/x-python",
   "name": "python",
   "nbconvert_exporter": "python",
   "pygments_lexer": "ipython3",
   "version": "3.10.8"
  }
 },
 "nbformat": 4,
 "nbformat_minor": 5
}
