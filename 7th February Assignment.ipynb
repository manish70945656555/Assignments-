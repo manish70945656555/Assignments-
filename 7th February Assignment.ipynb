{
 "cells": [
  {
   "cell_type": "code",
   "execution_count": null,
   "id": "63bc07ae-11c9-451e-a6a1-9610d8954051",
   "metadata": {},
   "outputs": [],
   "source": [
    "Q1. You are writing code for a company. The requirement of the company is that you create a python\n",
    "function that will check whether the password entered by the user is correct or not. The function should\n",
    "take the password as input and return the string “Valid Password” if the entered password follows the\n",
    "below-given password guidelines else it should return “Invalid Password”.\n",
    "Note: 1. The Password should contain at least two uppercase letters and at least two lowercase letters.\n",
    "2. The Password should contain at least a number and three special characters.\n",
    "3. The length of the password should be 10 characters long."
   ]
  },
  {
   "cell_type": "code",
   "execution_count": 3,
   "id": "89f80248-cede-419a-8812-8db0c9cc1bf2",
   "metadata": {},
   "outputs": [
    {
     "name": "stdin",
     "output_type": "stream",
     "text": [
      "Enter A Password: MaNish70%$*\n"
     ]
    },
    {
     "name": "stdout",
     "output_type": "stream",
     "text": [
      "You Entered a valid password\n"
     ]
    }
   ],
   "source": [
    "Password=input(\"Enter A Password:\")\n",
    "Uppercase=0\n",
    "Lowercase=0\n",
    "Numbercount=0\n",
    "SpecialChar=0\n",
    "for i in Password:\n",
    "    if i.isupper():\n",
    "        Uppercase+=1\n",
    "    elif i.islower():\n",
    "        Lowercase+=1\n",
    "    elif i.isnumeric():\n",
    "        Numbercount+=1\n",
    "    else:\n",
    "        SpecialChar+=1\n",
    "if Uppercase>=2 and Lowercase>=2 and Numbercount >=1 and SpecialChar>=3:\n",
    "    print(\"You Entered a valid password\")\n",
    "else:\n",
    "    print(\"Invalid password\")"
   ]
  },
  {
   "cell_type": "code",
   "execution_count": null,
   "id": "ccc6be96-6b8e-4f27-8480-7464c12f5e63",
   "metadata": {},
   "outputs": [],
   "source": [
    "Q2. Solve the below-given questions using at least one of the following:\n",
    "1. Lambda function\n",
    "2. Filter function\n",
    "3. Map function\n",
    "4. List Comprehension\n",
    "(a) Check if the string starts with a particular letter.\n",
    "(b) Check if the string is numeric.\n",
    "(c) Sort a list of tuples having fruit names and their quantity. [(\"mango\",99),(\"orange\",80), (\"grapes\", 1000)-\n",
    "(d) Find the squares of numbers from 1 to 10.\n",
    "(e) Find the cube root of numbers from 1 to 10.\n",
    "(f) Check if a given number is even.\n",
    "(g) Filter odd numbers from the given list.\n",
    "  [1,2,3,4,5,6,7,8,9,10]\n",
    "(h) Sort a list of integers into positive and negative integers lists.\n",
    "  [1,2,3,4,5,6,-1,-2,-3,-4,-5,0]"
   ]
  },
  {
   "cell_type": "code",
   "execution_count": 9,
   "id": "332ded19-bcd8-41a5-a93e-95a3bbb7f7d3",
   "metadata": {},
   "outputs": [
    {
     "name": "stdin",
     "output_type": "stream",
     "text": [
      "enter a string for checking: Data Science\n"
     ]
    },
    {
     "name": "stdout",
     "output_type": "stream",
     "text": [
      "This String Not Starts With M\n"
     ]
    }
   ],
   "source": [
    "# solving (a)\n",
    "#Aim Checking whether a string starts with M or not\n",
    "STR=input(\"enter a string for checking:\")\n",
    "result=lambda STR :f\"This String Starts With M\" if STR[1]==\"M\" else f\"This String Not Starts With M\"\n",
    "print(result(STR))"
   ]
  },
  {
   "cell_type": "code",
   "execution_count": 14,
   "id": "f6926caa-2ef7-4d4f-b6a6-9c8402404895",
   "metadata": {},
   "outputs": [
    {
     "name": "stdin",
     "output_type": "stream",
     "text": [
      "enter a string for checking: 12345\n"
     ]
    },
    {
     "name": "stdout",
     "output_type": "stream",
     "text": [
      "This is numeric string\n"
     ]
    }
   ],
   "source": [
    "# solving (b)\n",
    "# Aim : Check if the string is numeric or not\n",
    "STR=input(\"enter a string for checking:\")\n",
    "output=lambda STR :f\"This is numeric string\" if STR.isnumeric() else f\"This is a non numeric list\"\n",
    "print(output(STR))"
   ]
  },
  {
   "cell_type": "code",
   "execution_count": 23,
   "id": "183a250a-0e46-4322-a2a3-15af1d72125a",
   "metadata": {},
   "outputs": [
    {
     "name": "stdout",
     "output_type": "stream",
     "text": [
      "[('orange', 80), ('mango', 99), ('grapes', 1000)]\n"
     ]
    }
   ],
   "source": [
    "# solving (c)\n",
    "# Aim : Sort a list of tuples having fruit names and their quantity. [(\"mango\",99),(\"orange\",80), (\"grapes\", 1000)]\n",
    "fruits = [(\"mango\", 99),(\"orange\", 80), (\"grapes\", 1000)]\n",
    "sorted_fruits = sorted(fruits, key=lambda x: x[1])\n",
    "print(sorted_fruits)\n"
   ]
  },
  {
   "cell_type": "code",
   "execution_count": 30,
   "id": "bf6e3837-6967-4a60-8ef6-8398b5c0cbb7",
   "metadata": {},
   "outputs": [
    {
     "name": "stdout",
     "output_type": "stream",
     "text": [
      "[1, 4, 9, 16, 25, 36, 49, 64, 81, 100]\n"
     ]
    }
   ],
   "source": [
    "#Solving (d)\n",
    "# Aim :- Find the squares of numbers from 1 to 10\n",
    "lst=list(range(1,11))\n",
    "square=[i**2 for i in lst]\n",
    "print(square)"
   ]
  },
  {
   "cell_type": "code",
   "execution_count": 31,
   "id": "42805c7c-fe32-4bae-a494-2f743a9fdd39",
   "metadata": {},
   "outputs": [
    {
     "name": "stdout",
     "output_type": "stream",
     "text": [
      "[1.0, 1.2599210498948732, 1.4422495703074083, 1.5874010519681994, 1.7099759466766968, 1.8171205928321397, 1.912931182772389, 2.0, 2.080083823051904, 2.154434690031884]\n"
     ]
    }
   ],
   "source": [
    "#solving (e)\n",
    "# Aim :- Find the cube root of numbers from 1 to 10 using list comprehension in python\n",
    "import math\n",
    "cuberoot_list = [math.pow(num, 1/3) for num in range(1, 11)]\n",
    "print(cuberoot_list)"
   ]
  },
  {
   "cell_type": "code",
   "execution_count": 36,
   "id": "160ebe59-8e14-4c01-a653-d5aeba6feb97",
   "metadata": {},
   "outputs": [
    {
     "name": "stdin",
     "output_type": "stream",
     "text": [
      "Enter a number:  45\n"
     ]
    },
    {
     "name": "stdout",
     "output_type": "stream",
     "text": [
      "The number is:  Odd\n"
     ]
    }
   ],
   "source": [
    "#Solving (f) Checking if a given number is even.\n",
    "number = int(input(\"Enter a number: \"))\n",
    "result = list(map(lambda x: \"Even\" if x%2==0 else \"Odd\", [number]))[0]\n",
    "\n",
    "print(\"The number is: \", result)"
   ]
  },
  {
   "cell_type": "code",
   "execution_count": 37,
   "id": "e2507961-c830-4fff-8dda-435d97588075",
   "metadata": {},
   "outputs": [
    {
     "name": "stdout",
     "output_type": "stream",
     "text": [
      "Odd numbers:  [1, 3, 5, 7, 9]\n"
     ]
    }
   ],
   "source": [
    "#Solving (g) Filter odd numbers from the given list.\n",
    "numbers = [1, 2, 3, 4, 5, 6, 7, 8, 9, 10]\n",
    "odd_numbers = list(filter(lambda x: x%2 != 0, numbers))\n",
    "\n",
    "print(\"Odd numbers: \", odd_numbers)\n"
   ]
  },
  {
   "cell_type": "code",
   "execution_count": 39,
   "id": "0d2c3f3d-4eb3-4a4c-9343-35e57ff15724",
   "metadata": {},
   "outputs": [
    {
     "ename": "NameError",
     "evalue": "name 'x' is not defined",
     "output_type": "error",
     "traceback": [
      "\u001b[0;31m---------------------------------------------------------------------------\u001b[0m",
      "\u001b[0;31mNameError\u001b[0m                                 Traceback (most recent call last)",
      "Cell \u001b[0;32mIn[40], line 3\u001b[0m\n\u001b[1;32m      1\u001b[0m \u001b[38;5;66;03m#Solving (h) Sort a list of integers into positive and negative integers list\u001b[39;00m\n\u001b[1;32m      2\u001b[0m List\u001b[38;5;241m=\u001b[39m[\u001b[38;5;241m1\u001b[39m,\u001b[38;5;241m2\u001b[39m,\u001b[38;5;241m3\u001b[39m,\u001b[38;5;241m4\u001b[39m,\u001b[38;5;241m5\u001b[39m,\u001b[38;5;241m6\u001b[39m,\u001b[38;5;241m-\u001b[39m\u001b[38;5;241m1\u001b[39m,\u001b[38;5;241m-\u001b[39m\u001b[38;5;241m2\u001b[39m,\u001b[38;5;241m-\u001b[39m\u001b[38;5;241m3\u001b[39m,\u001b[38;5;241m-\u001b[39m\u001b[38;5;241m4\u001b[39m,\u001b[38;5;241m-\u001b[39m\u001b[38;5;241m5\u001b[39m,\u001b[38;5;241m0\u001b[39m]\n\u001b[0;32m----> 3\u001b[0m positive_numbers \u001b[38;5;241m=\u001b[39m \u001b[38;5;28;43mlist\u001b[39;49m\u001b[43m(\u001b[49m\u001b[38;5;28;43mfilter\u001b[39;49m\u001b[43m(\u001b[49m\u001b[38;5;28;43;01mlambda\u001b[39;49;00m\u001b[43m \u001b[49m\u001b[43mList\u001b[49m\u001b[43m:\u001b[49m\u001b[43m \u001b[49m\u001b[43mx\u001b[49m\u001b[43m \u001b[49m\u001b[38;5;241;43m>\u001b[39;49m\u001b[43m \u001b[49m\u001b[38;5;241;43m0\u001b[39;49m\u001b[43m,\u001b[49m\u001b[43m \u001b[49m\u001b[43mnumbers\u001b[49m\u001b[43m)\u001b[49m\u001b[43m)\u001b[49m\n\u001b[1;32m      4\u001b[0m negative_numbers \u001b[38;5;241m=\u001b[39m \u001b[38;5;28mlist\u001b[39m(\u001b[38;5;28mfilter\u001b[39m(\u001b[38;5;28;01mlambda\u001b[39;00m List: x \u001b[38;5;241m<\u001b[39m \u001b[38;5;241m0\u001b[39m, numbers))\n\u001b[1;32m      6\u001b[0m \u001b[38;5;28mprint\u001b[39m(\u001b[38;5;124m\"\u001b[39m\u001b[38;5;124mPositive numbers: \u001b[39m\u001b[38;5;124m\"\u001b[39m, positive_numbers)\n",
      "Cell \u001b[0;32mIn[40], line 3\u001b[0m, in \u001b[0;36m<lambda>\u001b[0;34m(List)\u001b[0m\n\u001b[1;32m      1\u001b[0m \u001b[38;5;66;03m#Solving (h) Sort a list of integers into positive and negative integers list\u001b[39;00m\n\u001b[1;32m      2\u001b[0m List\u001b[38;5;241m=\u001b[39m[\u001b[38;5;241m1\u001b[39m,\u001b[38;5;241m2\u001b[39m,\u001b[38;5;241m3\u001b[39m,\u001b[38;5;241m4\u001b[39m,\u001b[38;5;241m5\u001b[39m,\u001b[38;5;241m6\u001b[39m,\u001b[38;5;241m-\u001b[39m\u001b[38;5;241m1\u001b[39m,\u001b[38;5;241m-\u001b[39m\u001b[38;5;241m2\u001b[39m,\u001b[38;5;241m-\u001b[39m\u001b[38;5;241m3\u001b[39m,\u001b[38;5;241m-\u001b[39m\u001b[38;5;241m4\u001b[39m,\u001b[38;5;241m-\u001b[39m\u001b[38;5;241m5\u001b[39m,\u001b[38;5;241m0\u001b[39m]\n\u001b[0;32m----> 3\u001b[0m positive_numbers \u001b[38;5;241m=\u001b[39m \u001b[38;5;28mlist\u001b[39m(\u001b[38;5;28mfilter\u001b[39m(\u001b[38;5;28;01mlambda\u001b[39;00m List: \u001b[43mx\u001b[49m \u001b[38;5;241m>\u001b[39m \u001b[38;5;241m0\u001b[39m, numbers))\n\u001b[1;32m      4\u001b[0m negative_numbers \u001b[38;5;241m=\u001b[39m \u001b[38;5;28mlist\u001b[39m(\u001b[38;5;28mfilter\u001b[39m(\u001b[38;5;28;01mlambda\u001b[39;00m List: x \u001b[38;5;241m<\u001b[39m \u001b[38;5;241m0\u001b[39m, numbers))\n\u001b[1;32m      6\u001b[0m \u001b[38;5;28mprint\u001b[39m(\u001b[38;5;124m\"\u001b[39m\u001b[38;5;124mPositive numbers: \u001b[39m\u001b[38;5;124m\"\u001b[39m, positive_numbers)\n",
      "\u001b[0;31mNameError\u001b[0m: name 'x' is not defined"
     ]
    }
   ],
   "source": [
    "#Solving (h) Sort a list of integers into positive and negative integers list\n",
    "List=[1,2,3,4,5,6,-1,-2,-3,-4,-5,0]\n",
    "positive_numbers = list(filter(lambda x: x > 0, List))\n",
    "negative_numbers = list(filter(lambda x: x < 0, numbe))\n",
    "\n",
    "print(\"Positive numbers: \", positive_numbers)\n",
    "print(\"Negative numbers: \", negative_numbers)"
   ]
  },
  {
   "cell_type": "code",
   "execution_count": null,
   "id": "82848ca9-7740-4f2d-b594-915ab8a26490",
   "metadata": {},
   "outputs": [],
   "source": []
  }
 ],
 "metadata": {
  "kernelspec": {
   "display_name": "Python 3 (ipykernel)",
   "language": "python",
   "name": "python3"
  },
  "language_info": {
   "codemirror_mode": {
    "name": "ipython",
    "version": 3
   },
   "file_extension": ".py",
   "mimetype": "text/x-python",
   "name": "python",
   "nbconvert_exporter": "python",
   "pygments_lexer": "ipython3",
   "version": "3.10.8"
  }
 },
 "nbformat": 4,
 "nbformat_minor": 5
}
