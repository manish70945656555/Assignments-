{
 "cells": [
  {
   "cell_type": "code",
   "execution_count": null,
   "id": "25c18974-8f3e-4802-a16f-b667f4a3eb8c",
   "metadata": {},
   "outputs": [],
   "source": [
    "Q1. Calculate the 95% confidence interval for a sample of data with a mean of 50 and a standard deviation\n",
    "of 5 using Python. Interpret the results."
   ]
  },
  {
   "cell_type": "code",
   "execution_count": 3,
   "id": "d65e2b4d-9436-4c93-9c63-877f990f7b4e",
   "metadata": {},
   "outputs": [
    {
     "name": "stdout",
     "output_type": "stream",
     "text": [
      "95% Confidence Interval: (48.13, 51.87)\n"
     ]
    }
   ],
   "source": [
    "import scipy.stats as st\n",
    "\n",
    "# Input data\n",
    "mean = 50\n",
    "std_dev = 5\n",
    "confidence_level = 0.95\n",
    "sample_size = 30  # i assumed Sample size of 30\n",
    "\n",
    "# Calculate standard error using sample size and sample standard deviation\n",
    "standard_error = std_dev / (sample_size ** 0.5)\n",
    "\n",
    "# Calculate the t-score for the given confidence level and degrees of freedom\n",
    "df = sample_size - 1  # Degrees of freedom\n",
    "t_score = st.t.ppf(confidence_level, df)\n",
    "\n",
    "# Calculate confidence interval\n",
    "confidence_interval = st.t.interval(confidence_level, df, loc=mean, scale=standard_error)\n",
    "\n",
    "# Interpretation of results\n",
    "lower_bound = confidence_interval[0]\n",
    "upper_bound = confidence_interval[1]\n",
    "print(f\"95% Confidence Interval: ({lower_bound:.2f}, {upper_bound:.2f})\")"
   ]
  },
  {
   "cell_type": "code",
   "execution_count": null,
   "id": "c244ba45-f2b9-4a8f-89c4-77be12e8428f",
   "metadata": {},
   "outputs": [],
   "source": [
    "Interpretation: The 95% confidence interval for the population mean based on the sample data is estimated to be between\n",
    "approximately 48.13 and 51.87. This means that we can be 95% confident that the true population mean falls within this\n",
    "range."
   ]
  },
  {
   "cell_type": "code",
   "execution_count": null,
   "id": "9b589125-2d5d-4d87-bd3d-ae14498cace4",
   "metadata": {},
   "outputs": [],
   "source": [
    "Q2. Conduct a chi-square goodness of fit test to determine if the distribution of colors of M&Ms in a bag\n",
    "matches the expected distribution of 20% blue, 20% orange, 20% green, 10% yellow, 10% red, and 20%\n",
    "brown. Use Python to perform the test with a significance level of 0.05."
   ]
  },
  {
   "cell_type": "code",
   "execution_count": 4,
   "id": "acab6fad-004b-401f-8587-6c66464c9ccf",
   "metadata": {},
   "outputs": [
    {
     "name": "stdout",
     "output_type": "stream",
     "text": [
      "Fail to reject null hypothesis: The distribution of colors of M&Ms matches the expected distribution.\n",
      "Chi-square statistic: 4.5\n",
      "P-value: 0.4798834381132997\n"
     ]
    }
   ],
   "source": [
    "import numpy as np\n",
    "import scipy.stats as stats\n",
    "\n",
    "# Observed frequencies of colors in the bag\n",
    "observed_frequencies = np.array([15, 22, 18, 8, 10, 27]) # blue, orange, green, yellow, red, brown\n",
    "\n",
    "# Expected frequencies based on the expected distribution\n",
    "expected_frequencies = np.array([0.2, 0.2, 0.2, 0.1, 0.1, 0.2]) * np.sum(observed_frequencies)\n",
    "\n",
    "# Perform chi-square goodness of fit test\n",
    "statistic, p_value = stats.chisquare(observed_frequencies, expected_frequencies)\n",
    "\n",
    "# Set significance level\n",
    "alpha = 0.05\n",
    "\n",
    "# Compare p-value with significance level\n",
    "if p_value < alpha:\n",
    "    print(\"Reject null hypothesis: The distribution of colors of M&Ms does not match the expected distribution.\")\n",
    "else:\n",
    "    print(\"Fail to reject null hypothesis: The distribution of colors of M&Ms matches the expected distribution.\")\n",
    "    \n",
    "print(\"Chi-square statistic:\", statistic)\n",
    "print(\"P-value:\", p_value)\n"
   ]
  },
  {
   "cell_type": "code",
   "execution_count": null,
   "id": "721449af-11d4-45af-951c-fade4fa614dd",
   "metadata": {},
   "outputs": [],
   "source": [
    "Q3. Use Python to calculate the chi-square statistic and p-value for a contingency table with the following\n",
    "data:\n",
    "             G-A   G-B   G-C\n",
    "    Outcome   1     20    15\n",
    "    Outcome   2     10    25\n",
    "    Outcome   3     15    20\n",
    "\n",
    "Interpret the results of the test."
   ]
  },
  {
   "cell_type": "code",
   "execution_count": 5,
   "id": "b253d52b-b1e4-41d2-80d9-9432f3b2df77",
   "metadata": {},
   "outputs": [
    {
     "name": "stdout",
     "output_type": "stream",
     "text": [
      "Chi-square statistic:  6.860989278752437\n",
      "p-value:  0.14341920914406417\n",
      "Degrees of freedom:  4\n",
      "Expected frequencies: \n",
      " [[ 1.94594595 14.59459459 19.45945946]\n",
      " [ 2.         15.         20.        ]\n",
      " [ 2.05405405 15.40540541 20.54054054]]\n"
     ]
    }
   ],
   "source": [
    "import numpy as np\n",
    "from scipy.stats import chi2_contingency\n",
    "\n",
    "# Define the contingency table\n",
    "observed = np.array([[1, 20, 15],\n",
    "                     [2, 10, 25],\n",
    "                     [3, 15, 20]])\n",
    "\n",
    "# Calculate chi-square statistic, p-value, degrees of freedom, and expected frequencies\n",
    "chi2, p_value, dof, expected = chi2_contingency(observed)\n",
    "\n",
    "# Print the results\n",
    "print(\"Chi-square statistic: \", chi2)\n",
    "print(\"p-value: \", p_value)\n",
    "print(\"Degrees of freedom: \", dof)\n",
    "print(\"Expected frequencies: \\n\", expected)\n"
   ]
  },
  {
   "cell_type": "code",
   "execution_count": null,
   "id": "05f39523-3f6e-4e34-a132-89f0c00fbe6f",
   "metadata": {},
   "outputs": [],
   "source": [
    "Interpretation of results:\n",
    "\n",
    "Chi-square statistic: The chi-square statistic is a measure of the overall association or dependence between the rows and columns\n",
    "of the contingency table. In this example, a higher chi-square statistic value indicates a higher level of association or \n",
    "dependence between the rows (Outcomes) and columns (G-A, G-B, G-C) of the contingency table.\n",
    "\n",
    "p-value: The p-value is the probability of obtaining a chi-square statistic as extreme or more extreme than the observed value,\n",
    "assuming the null hypothesis of independence between the rows and columns of the contingency table is true. A lower p-value \n",
    "indicates stronger evidence against the null hypothesis of independence. Typically, a significance level (alpha) of 0.05 or \n",
    "lower is used to determine statistical significance.\n",
    "\n",
    "Degrees of freedom (dof): The degrees of freedom represent the number of categories in the contingency table that are free to\n",
    "vary. For a contingency table with R rows and C columns, the degrees of freedom can be calculated as (R - 1) * (C - 1).\n",
    "\n",
    "Expected frequencies: These are the expected frequencies under the assumption of independence between the rows and columns of\n",
    "the contingency table. They are calculated based on the observed frequencies and the null hypothesis of independence. A large \n",
    "difference between the observed and expected frequencies may indicate a departure from the null hypothesis.\n",
    "\n",
    "To interpret the results, you can compare the p-value to the significance level (alpha) that you have chosen. If the p-value\n",
    "is less than the significance level, you may reject the null hypothesis of independence and conclude that there is evidence of\n",
    "an association or dependence between the rows and columns of the contingency table. Conversely, if the p-value is greater than\n",
    "the significance level, you may fail to reject the null hypothesis and conclude that there is not enough evidence to suggest \n",
    "an association or dependence between the rows and columns of the contingency table. It's important to interpret the results in\n",
    "the context of the specific data and research question at hand."
   ]
  },
  {
   "cell_type": "code",
   "execution_count": null,
   "id": "3c78de89-4f5b-4170-add9-50d2aa7f9d10",
   "metadata": {},
   "outputs": [],
   "source": [
    "Q4. A study of the prevalence of smoking in a population of 500 individuals found that 60 individuals\n",
    "smoked. Use Python to calculate the 95% confidence interval for the true proportion of individuals in the\n",
    "population who smoke."
   ]
  },
  {
   "cell_type": "code",
   "execution_count": 8,
   "id": "bafa6efd-7529-4a20-b859-be2a7458127d",
   "metadata": {},
   "outputs": [
    {
     "name": "stdout",
     "output_type": "stream",
     "text": [
      "Sample proportion:  0.12\n",
      "Standard error:  0.014532721699667961\n",
      "Z-score:  1.959963984540054\n",
      "Margin of error:  0.028483611128692923\n",
      "95% Confidence Interval: [0.0915, 0.1485]\n"
     ]
    }
   ],
   "source": [
    "import scipy.stats as stats\n",
    "import math as math\n",
    "# Define the sample size and number of individuals who smoke\n",
    "n = 500\n",
    "x = 60\n",
    "# Calculate the sample proportion\n",
    "p_hat = x / n\n",
    "# Set the confidence level\n",
    "confidence_level = 0.95\n",
    "#calculate the standard error\n",
    "se = math.sqrt(p_hat * (1 - p_hat) / n)\n",
    "# Calculate the z-score corresponding to the confidence level\n",
    "z = stats.norm.ppf((1 + confidence_level) / 2)\n",
    "\n",
    "# Calculate the margin of error\n",
    "me = z * se\n",
    "\n",
    "# Calculate the confidence interval\n",
    "ci_lower = p_hat - me\n",
    "ci_upper = p_hat + me\n",
    "\n",
    "# Print the results\n",
    "print(\"Sample proportion: \", p_hat)\n",
    "print(\"Standard error: \", se)\n",
    "print(\"Z-score: \", z)\n",
    "print(\"Margin of error: \", me)\n",
    "print(\"95% Confidence Interval: [{:.4f}, {:.4f}]\".format(ci_lower, ci_upper))"
   ]
  },
  {
   "cell_type": "code",
   "execution_count": null,
   "id": "6c1b56c4-976c-4f96-ba65-e9a83dc326cf",
   "metadata": {},
   "outputs": [],
   "source": [
    "Interpretation of results:\n",
    "\n",
    "The 95% confidence interval for the true proportion of individuals in the population who smoke is given by the lower and upper\n",
    "bounds of the confidence interval, which are calculated as p_hat - me and p_hat + me respectively. The margin of error (ME)\n",
    "represents the amount by which the sample proportion may vary from the true proportion, with a certain level of confidence \n",
    "(in this case, 95% confidence). The confidence interval provides a range of values within which we can be 95% confident that \n",
    "the true proportion of individuals who smoke falls. In the example given, the lower bound of the confidence interval represents\n",
    "the minimum estimated proportion of individuals who smoke, and the upper bound represents the maximum estimated proportion of \n",
    "individuals who smoke in the population."
   ]
  },
  {
   "cell_type": "code",
   "execution_count": null,
   "id": "5b27bbd3-e29a-4bf0-a10c-4b28cdf6653d",
   "metadata": {},
   "outputs": [],
   "source": [
    "Q5. Calculate the 90% confidence interval for a sample of data with a mean of 75 and a standard deviation\n",
    "of 12 using Python. Interpret the results.\n"
   ]
  },
  {
   "cell_type": "code",
   "execution_count": 9,
   "id": "89cfbeb5-92d8-4890-9138-8ce3081211c4",
   "metadata": {},
   "outputs": [
    {
     "name": "stdout",
     "output_type": "stream",
     "text": [
      "Sample mean:  75\n",
      "Sample standard deviation:  12\n",
      "Sample size:  100\n",
      "Standard error:  1.2\n",
      "Z-score:  1.6448536269514722\n",
      "Margin of error:  1.9738243523417665\n",
      "90% Confidence Interval: [73.0262, 76.9738]\n"
     ]
    }
   ],
   "source": [
    "import scipy.stats as stats\n",
    "\n",
    "# Define the sample mean and standard deviation\n",
    "mean = 75\n",
    "std_dev = 12\n",
    "\n",
    "# Set the sample size (assuming a large sample size)\n",
    "n = 100\n",
    "\n",
    "# Set the confidence level\n",
    "confidence_level = 0.90\n",
    "\n",
    "# Calculate the standard error\n",
    "se = std_dev / (n**0.5)\n",
    "\n",
    "# Calculate the z-score corresponding to the confidence level\n",
    "z = stats.norm.ppf((1 + confidence_level) / 2)\n",
    "\n",
    "# Calculate the margin of error\n",
    "me = z * se\n",
    "\n",
    "# Calculate the confidence interval\n",
    "ci_lower = mean - me\n",
    "ci_upper = mean + me\n",
    "\n",
    "# Print the results\n",
    "print(\"Sample mean: \", mean)\n",
    "print(\"Sample standard deviation: \", std_dev)\n",
    "print(\"Sample size: \", n)\n",
    "print(\"Standard error: \", se)\n",
    "print(\"Z-score: \", z)\n",
    "print(\"Margin of error: \", me)\n",
    "print(\"90% Confidence Interval: [{:.4f}, {:.4f}]\".format(ci_lower, ci_upper))\n"
   ]
  },
  {
   "cell_type": "code",
   "execution_count": null,
   "id": "d82fcef8-df59-4ce2-a4c9-6e9244bdbbaf",
   "metadata": {},
   "outputs": [],
   "source": [
    "Interpretation of results:\n",
    "\n",
    "The 90% confidence interval for the true population mean is given by the lower and upper bounds of the confidence interval, \n",
    "which are calculated as mean - me and mean + me respectively. The margin of error (ME) represents the amount by which the \n",
    "sample mean may vary from the true population mean, with a certain level of confidence (in this case, 90% confidence). The \n",
    "confidence interval provides a range of values within which we can be 90% confident that the true population mean falls. In \n",
    "the example given, the lower bound of the confidence interval represents the minimum estimated population mean, and the upper \n",
    "bound represents the maximum estimated population mean."
   ]
  },
  {
   "cell_type": "code",
   "execution_count": null,
   "id": "bcfe16f6-94c5-4df7-a0ca-a4eb11f2fd51",
   "metadata": {},
   "outputs": [],
   "source": [
    "Q6. Use Python to plot the chi-square distribution with 10 degrees of freedom. Label the axes and shade the\n",
    "area corresponding to a chi-square statistic of 15."
   ]
  },
  {
   "cell_type": "code",
   "execution_count": 10,
   "id": "3607051e-bb11-4ade-ba09-0f49888f41d1",
   "metadata": {},
   "outputs": [
    {
     "data": {
      "image/png": "[encoded data removed]",
      "text/plain": [
       "<Figure size 640x480 with 1 Axes>"
      ]
     },
     "metadata": {},
     "output_type": "display_data"
    }
   ],
   "source": [
    "import numpy as np\n",
    "import matplotlib.pyplot as plt\n",
    "import scipy.stats as stats\n",
    "\n",
    "# Define the degrees of freedom\n",
    "df = 10\n",
    "\n",
    "# Generate x values for the chi-square distribution\n",
    "x = np.linspace(0, 30, 500)\n",
    "\n",
    "# Calculate the chi-square probability density function (PDF)\n",
    "pdf = stats.chi2.pdf(x, df)\n",
    "\n",
    "# Plot the chi-square PDF\n",
    "plt.plot(x, pdf)\n",
    "plt.xlabel('Chi-square Statistic')\n",
    "plt.ylabel('Probability Density')\n",
    "plt.title('Chi-square Distribution with 10 Degrees of Freedom')\n",
    "\n",
    "# Shade the area corresponding to a chi-square statistic of 15\n",
    "x_shade = np.linspace(0, 15, 100)\n",
    "plt.fill_between(x_shade, stats.chi2.pdf(x_shade, df), alpha=0.5)\n",
    "\n",
    "# Show the plot\n",
    "plt.show()\n"
   ]
  },
  {
   "cell_type": "code",
   "execution_count": null,
   "id": "b945a21f-cfa7-483d-bba2-18ee5b084db7",
   "metadata": {},
   "outputs": [],
   "source": [
    "Q7. A random sample of 1000 people was asked if they preferred Coke or Pepsi. Of the sample, 520\n",
    "preferred Coke. Calculate a 99% confidence interval for the true proportion of people in the population who\n",
    "prefer Coke."
   ]
  },
  {
   "cell_type": "code",
   "execution_count": 11,
   "id": "ad1fbc54-44d5-4a22-950c-06150953c85a",
   "metadata": {},
   "outputs": [
    {
     "name": "stdout",
     "output_type": "stream",
     "text": [
      "99% Confidence Interval for the True Proportion of People Who Prefer Coke: (0.4793, 0.5607)\n"
     ]
    }
   ],
   "source": [
    "import statsmodels.stats.proportion as proportion\n",
    "\n",
    "# Sample size\n",
    "n = 1000\n",
    "\n",
    "# Number of people who prefer Coke in the sample\n",
    "x = 520\n",
    "\n",
    "# Confidence level (as a decimal)\n",
    "confidence_level = 0.99\n",
    "\n",
    "# Calculate the confidence interval using proportion_confint\n",
    "confidence_interval = proportion.proportion_confint(x, n, alpha=1-confidence_level, method='normal')\n",
    "\n",
    "# Extract the lower and upper bounds of the confidence interval\n",
    "lower_bound = confidence_interval[0]\n",
    "upper_bound = confidence_interval[1]\n",
    "\n",
    "# Print the confidence interval\n",
    "print(\"99% Confidence Interval for the True Proportion of People Who Prefer Coke: ({:.4f}, {:.4f})\".format(lower_bound, upper_bound))\n"
   ]
  },
  {
   "cell_type": "code",
   "execution_count": null,
   "id": "9daab900-4596-4b86-888b-0c96c97b138f",
   "metadata": {},
   "outputs": [],
   "source": [
    "Q8. A researcher hypothesizes that a coin is biased towards tails. They flip the coin 100 times and observe\n",
    "45 tails. Conduct a chi-square goodness of fit test to determine if the observed frequencies match the\n",
    "expected frequencies of a fair coin. Use a significance level of 0.05."
   ]
  },
  {
   "cell_type": "code",
   "execution_count": 12,
   "id": "975b5bc6-8ccb-480f-8072-e20c19de7ba2",
   "metadata": {},
   "outputs": [
    {
     "name": "stdout",
     "output_type": "stream",
     "text": [
      "Chi-square statistic: 1.0000\n",
      "p-value: 0.3173\n",
      "Fail to reject the null hypothesis. The observed frequencies match the expected frequencies of a fair coin.\n"
     ]
    }
   ],
   "source": [
    "import scipy.stats as stats\n",
    "import numpy as np\n",
    "\n",
    "# Observed frequencies\n",
    "observed_frequencies = np.array([45, 55])  # 45 tails, 55 heads\n",
    "\n",
    "# Expected frequencies for a fair coin\n",
    "expected_frequencies = np.array([50, 50])  # 50 tails, 50 heads\n",
    "\n",
    "# Calculate the chi-square statistic and p-value\n",
    "chi2_stat, p_value = stats.chisquare(f_obs=observed_frequencies, f_exp=expected_frequencies)\n",
    "\n",
    "# Print the results\n",
    "print(\"Chi-square statistic: {:.4f}\".format(chi2_stat))\n",
    "print(\"p-value: {:.4f}\".format(p_value))\n",
    "\n",
    "# Compare p-value with significance level to determine if null hypothesis is rejected\n",
    "significance_level = 0.05\n",
    "if p_value < significance_level:\n",
    "    print(\"Reject the null hypothesis. The observed frequencies do not match the expected frequencies of a fair coin.\")\n",
    "else:\n",
    "    print(\"Fail to reject the null hypothesis. The observed frequencies match the expected frequencies of a fair coin.\")\n"
   ]
  },
  {
   "cell_type": "code",
   "execution_count": null,
   "id": "3bb2c3b9-c675-438b-9637-d5aaa835eef6",
   "metadata": {},
   "outputs": [],
   "source": [
    "Q9. A study was conducted to determine if there is an association between smoking status (smoker or\n",
    "non-smoker) and lung cancer diagnosis (yes or no). The results are shown in the contingency table below.\n",
    "Conduct a chi-square test for independence to determine if there is a significant association between\n",
    "smoking status and lung cancer diagnosis.\n",
    " \n",
    "            Lung Cancer: Yes    Lung Cancer: No\n",
    "Smoker             60                 140\n",
    "Non-smoker         30                 170\n",
    "\n",
    "Use a significance level of 0.05."
   ]
  },
  {
   "cell_type": "code",
   "execution_count": 13,
   "id": "c8ba804c-ea74-4022-8e0d-57a9fdd802b9",
   "metadata": {},
   "outputs": [
    {
     "name": "stdout",
     "output_type": "stream",
     "text": [
      "Chi-square statistic: 12.0573\n",
      "p-value: 0.0005\n",
      "Degrees of freedom: 1\n",
      "Expected frequencies: \n",
      "[[ 45. 155.]\n",
      " [ 45. 155.]]\n",
      "Reject the null hypothesis. There is a significant association between smoking status and lung cancer diagnosis.\n"
     ]
    }
   ],
   "source": [
    "import scipy.stats as stats\n",
    "import numpy as np\n",
    "\n",
    "# Observed frequencies\n",
    "observed_frequencies = np.array([[60, 140], [30, 170]])\n",
    "\n",
    "# Conduct chi-square test for independence\n",
    "chi2_stat, p_value, dof, expected_frequencies = stats.chi2_contingency(observed_frequencies)\n",
    "\n",
    "# Print the results\n",
    "print(\"Chi-square statistic: {:.4f}\".format(chi2_stat))\n",
    "print(\"p-value: {:.4f}\".format(p_value))\n",
    "print(\"Degrees of freedom: {}\".format(dof))\n",
    "print(\"Expected frequencies: \\n{}\".format(expected_frequencies))\n",
    "\n",
    "# Compare p-value with significance level to determine if null hypothesis is rejected\n",
    "significance_level = 0.05\n",
    "if p_value < significance_level:\n",
    "    print(\"Reject the null hypothesis. There is a significant association between smoking status and lung cancer diagnosis.\")\n",
    "else:\n",
    "    print(\"Fail to reject the null hypothesis. There is no significant association between smoking status and lung cancer diagnosis.\")\n"
   ]
  },
  {
   "cell_type": "code",
   "execution_count": null,
   "id": "f6809789-790e-4c87-8ca6-3d53c2d3e01c",
   "metadata": {},
   "outputs": [],
   "source": [
    "Q10. A study was conducted to determine if the proportion of people who prefer milk chocolate, dark\n",
    "chocolate, or white chocolate is different in the U.S. versus the U.K. A random sample of 500 people from\n",
    "the U.S. and a random sample of 500 people from the U.K. were surveyed. The results are shown in the\n",
    "contingency table below. Conduct a chi-square test for independence to determine if there is a significant\n",
    "association between chocolate preference and country of origin.\n",
    "\n",
    "                   Milk Chocolate   Dark Chocolate   White Chocolate\n",
    "U.S. (n=500)            200              150              150\n",
    "U.K. (n=500)            225              175              100\n",
    "\n",
    "Use a significance level of 0.01."
   ]
  },
  {
   "cell_type": "code",
   "execution_count": 14,
   "id": "1adce579-01b8-4968-a620-aa6a5bfdfe34",
   "metadata": {},
   "outputs": [
    {
     "name": "stdout",
     "output_type": "stream",
     "text": [
      "Chi-square statistic: 13.3937\n",
      "p-value: 0.0012\n",
      "Degrees of freedom: 2\n",
      "Expected frequencies: \n",
      "[[212.5 162.5 125. ]\n",
      " [212.5 162.5 125. ]]\n",
      "Reject the null hypothesis. There is a significant association between chocolate preference and country of origin.\n"
     ]
    }
   ],
   "source": [
    "import scipy.stats as stats\n",
    "import numpy as np\n",
    "\n",
    "# Observed frequencies\n",
    "observed_frequencies = np.array([[200, 150, 150],\n",
    "                                [225, 175, 100]])\n",
    "\n",
    "# Conduct chi-square test for independence\n",
    "chi2_stat, p_value, dof, expected_frequencies = stats.chi2_contingency(observed_frequencies)\n",
    "\n",
    "# Print the results\n",
    "print(\"Chi-square statistic: {:.4f}\".format(chi2_stat))\n",
    "print(\"p-value: {:.4f}\".format(p_value))\n",
    "print(\"Degrees of freedom: {}\".format(dof))\n",
    "print(\"Expected frequencies: \\n{}\".format(expected_frequencies))\n",
    "\n",
    "# Compare p-value with significance level to determine if null hypothesis is rejected\n",
    "significance_level = 0.01\n",
    "if p_value < significance_level:\n",
    "    print(\"Reject the null hypothesis. There is a significant association between chocolate preference and country of origin.\")\n",
    "else:\n",
    "    print(\"Fail to reject the null hypothesis. There is no significant association between chocolate preference and country of origin.\")\n"
   ]
  },
  {
   "cell_type": "code",
   "execution_count": null,
   "id": "ecae2226-f097-48ca-8cc9-4bac4beb9aac",
   "metadata": {},
   "outputs": [],
   "source": [
    "Q11. A random sample of 30 people was selected from a population with an unknown mean and standard\n",
    "deviation. The sample mean was found to be 72 and the sample standard deviation was found to be 10.\n",
    "Conduct a hypothesis test to determine if the population mean is significantly different from 70. Use a\n",
    "significance level of 0.05."
   ]
  },
  {
   "cell_type": "code",
   "execution_count": 15,
   "id": "67c84366-54df-4e58-b7b5-81b2d1bfa03d",
   "metadata": {},
   "outputs": [
    {
     "name": "stdout",
     "output_type": "stream",
     "text": [
      "Fail to reject the null hypothesis. There is no significant evidence to suggest that the population mean is different from 70.\n",
      "Sample mean: 72.0000\n",
      "Sample standard deviation: 10.0000\n",
      "Test statistic (t-score): 1.0954\n",
      "Degrees of freedom: 29\n",
      "p-value: 0.2823\n"
     ]
    }
   ],
   "source": [
    "import scipy.stats as stats\n",
    "\n",
    "# Sample information\n",
    "sample_size = 30\n",
    "sample_mean = 72\n",
    "sample_std = 10\n",
    "\n",
    "# Null hypothesis: Population mean is equal to 70\n",
    "# Alternative hypothesis: Population mean is not equal to 70\n",
    "\n",
    "# Calculate the test statistic (t-score)\n",
    "population_mean = 70\n",
    "t_score = (sample_mean - population_mean) / (sample_std / (sample_size ** 0.5))\n",
    "\n",
    "# Calculate the degrees of freedom\n",
    "df = sample_size - 1\n",
    "\n",
    "# Calculate the p-value for a two-tailed test\n",
    "p_value = 2 * (1 - stats.t.cdf(abs(t_score), df))\n",
    "\n",
    "# Compare p-value with significance level to determine if null hypothesis is rejected\n",
    "significance_level = 0.05\n",
    "if p_value < significance_level:\n",
    "    print(\"Reject the null hypothesis. The population mean is significantly different from 70.\")\n",
    "else:\n",
    "    print(\"Fail to reject the null hypothesis. There is no significant evidence to suggest that the population mean is different from 70.\")\n",
    "    \n",
    "# Print the results\n",
    "print(\"Sample mean: {:.4f}\".format(sample_mean))\n",
    "print(\"Sample standard deviation: {:.4f}\".format(sample_std))\n",
    "print(\"Test statistic (t-score): {:.4f}\".format(t_score))\n",
    "print(\"Degrees of freedom: {}\".format(df))\n",
    "print(\"p-value: {:.4f}\".format(p_value))\n"
   ]
  },
  {
   "cell_type": "code",
   "execution_count": null,
   "id": "b6d3d897-5e34-4248-9a80-f8a3c3e38045",
   "metadata": {},
   "outputs": [],
   "source": []
  }
 ],
 "metadata": {
  "kernelspec": {
   "display_name": "Python 3 (ipykernel)",
   "language": "python",
   "name": "python3"
  },
  "language_info": {
   "codemirror_mode": {
    "name": "ipython",
    "version": 3
   },
   "file_extension": ".py",
   "mimetype": "text/x-python",
   "name": "python",
   "nbconvert_exporter": "python",
   "pygments_lexer": "ipython3",
   "version": "3.10.8"
  }
 },
 "nbformat": 4,
 "nbformat_minor": 5
}
