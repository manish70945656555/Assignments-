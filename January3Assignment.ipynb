{
 "cells": [
  {
   "cell_type": "code",
   "execution_count": null,
   "id": "bd5aed04-1247-4651-89e8-63eb287f25c0",
   "metadata": {},
   "outputs": [],
   "source": [
    "Q.1 Which keyword is used to create a function . create a function to return a list of odd numbers in the range of 1 to 25.\n",
    "ANs :- def keyword is used while creating a user-defined function in python.\n",
    "       Function to return a list of odd numbers in the range of 1 to 25. (below code)"
   ]
  },
  {
   "cell_type": "code",
   "execution_count": 5,
   "id": "89a6dedf-4b29-417e-b7c0-33b1dba15bc6",
   "metadata": {},
   "outputs": [],
   "source": [
    "def oddnum():\n",
    "    l=[]\n",
    "    for i in range (1,26):\n",
    "        if i % 2 != 0:\n",
    "            l.append(i)\n",
    "        else:\n",
    "            continue\n",
    "    return l          \n",
    "            \n",
    "        "
   ]
  },
  {
   "cell_type": "code",
   "execution_count": 6,
   "id": "60371b35-63da-4ba4-87b6-1465c56e5330",
   "metadata": {},
   "outputs": [
    {
     "data": {
      "text/plain": [
       "[1, 3, 5, 7, 9, 11, 13, 15, 17, 19, 21, 23, 25]"
      ]
     },
     "execution_count": 6,
     "metadata": {},
     "output_type": "execute_result"
    }
   ],
   "source": [
    "oddnum()"
   ]
  },
  {
   "cell_type": "code",
   "execution_count": null,
   "id": "70e82c17-3c89-45b6-b98e-5080a74bccef",
   "metadata": {},
   "outputs": [],
   "source": [
    "Q.2 Why *args and **kwargs is used in some functions . Create a function each for *args and **kwargs to demonstrate their use.\n",
    "\n",
    "Ans :-  *args :-If we dont know how many arguments that will be passed into our function, \n",
    "         then by adding  a * before the parameter name in the function definition and the function will receive a tuple of \n",
    "         arguments,and can access the items accordingly.\n",
    "\n",
    "        *kwargs :- If we dont know how many keyword arguments that will be passed into our function, then by adding two\n",
    "        asterisk: ** before the parameter name in the function definition , and function will receive a dictionary of \n",
    "        arguments, and can access the items accordingly."
   ]
  },
  {
   "cell_type": "code",
   "execution_count": 11,
   "id": "78341517-ca13-4195-9486-b57adb510356",
   "metadata": {},
   "outputs": [],
   "source": [
    "     #*args fuction example\n",
    "def function1(*args):\n",
    "    return args"
   ]
  },
  {
   "cell_type": "code",
   "execution_count": 12,
   "id": "2bda69a8-c98f-4c79-9f0e-8ff02396152a",
   "metadata": {},
   "outputs": [
    {
     "data": {
      "text/plain": [
       "(1, 2, 3, 4, 'data', [1, 2, 3, 4], (5, 6, 7, 8))"
      ]
     },
     "execution_count": 12,
     "metadata": {},
     "output_type": "execute_result"
    }
   ],
   "source": [
    "function1(1,2,3,4,'data',[1,2,3,4],(5,6,7,8))"
   ]
  },
  {
   "cell_type": "code",
   "execution_count": 6,
   "id": "cff6dfac-caba-4048-9bbe-4ab7a7259b0b",
   "metadata": {},
   "outputs": [],
   "source": [
    "#kwargs function example\n",
    "def test1(**kwargs):\n",
    "    return kwargs"
   ]
  },
  {
   "cell_type": "code",
   "execution_count": 12,
   "id": "2dce9efc-75d4-44d3-9e48-eeb3e18553e2",
   "metadata": {},
   "outputs": [
    {
     "data": {
      "text/plain": [
       "{}"
      ]
     },
     "execution_count": 12,
     "metadata": {},
     "output_type": "execute_result"
    }
   ],
   "source": [
    "test1()"
   ]
  },
  {
   "cell_type": "code",
   "execution_count": 14,
   "id": "fbbd003d-b463-4c58-99df-ac1dd4adc120",
   "metadata": {},
   "outputs": [
    {
     "data": {
      "text/plain": [
       "{'a': [1, 2, 3, 4], 'b': (1, 2, 3, 4), 'c': 'manish'}"
      ]
     },
     "execution_count": 14,
     "metadata": {},
     "output_type": "execute_result"
    }
   ],
   "source": [
    "test1(a=[1,2,3,4],b=(1,2,3,4),c=\"manish\")"
   ]
  },
  {
   "cell_type": "code",
   "execution_count": null,
   "id": "c0d096cf-8b4d-49fe-8372-5e4caea5d2f2",
   "metadata": {},
   "outputs": [],
   "source": [
    "Q.3 What is an iterator in python , name the method used to initialise the iterator object and the method used for iteration .\n",
    "   use these methods to print the first five elements of the given list [2,4,6,8,10,12,14,16,18,20].\n",
    "\n",
    "Ans :- Iterator :- Iterator is a object that helps a user in iterating over iterable object, Lists, tuples, dictionaries,\n",
    "       and sets are all iterable objects. They are iterable containers . iterator iterates on iterable and return one by one\n",
    "       element of the iterable object,iterator traverse through all elements of iterable.\n",
    "       \n",
    "       To initialize an iterator in Python, we need to create an iterable object, such as a list, tuple, or string,\n",
    "       and then use the built-in iter() function to obtain an iterator from the iterable."
   ]
  },
  {
   "cell_type": "code",
   "execution_count": 20,
   "id": "f6f78399-9bc6-4030-93f6-85365ecd9728",
   "metadata": {},
   "outputs": [
    {
     "name": "stdout",
     "output_type": "stream",
     "text": [
      "1\n",
      "2\n",
      "3\n",
      "4\n"
     ]
    }
   ],
   "source": [
    "#Example of initialising A iterator in python\n",
    "# initializing a list\n",
    "my_list = [1, 2, 3, 4]\n",
    "myit= iter(my_list)\n",
    "print(next(myit))\n",
    "print(next(myit))\n",
    "print(next(myit))\n",
    "print(next(myit))"
   ]
  },
  {
   "cell_type": "code",
   "execution_count": 21,
   "id": "b0f781a6-7ed8-48f8-8ef1-12ea1ef698ea",
   "metadata": {},
   "outputs": [
    {
     "name": "stdout",
     "output_type": "stream",
     "text": [
      "2\n",
      "4\n",
      "6\n",
      "8\n",
      "10\n"
     ]
    }
   ],
   "source": [
    "#solving above given problem\n",
    "mylst= [2,4,6,8,10,12,14,16,18,20]\n",
    "myit=iter(mylst)\n",
    "print(next(myit))\n",
    "print(next(myit))\n",
    "print(next(myit))\n",
    "print(next(myit))\n",
    "print(next(myit))"
   ]
  },
  {
   "cell_type": "code",
   "execution_count": null,
   "id": "28ed0ea7-a73c-4ae3-8930-6f24a482bfc7",
   "metadata": {},
   "outputs": [],
   "source": [
    "Q.4 What is a generator function in python . why yield keyword is used. give an example of a generator function \n",
    "Ans:- A generator-function is defined like a normal function, but whenever it needs to generate a value,\n",
    "      it does so with the yield keyword rather than return. If the body of a def contains yield, the function automatically\n",
    "      becomes a generator function.\n",
    "      Generator functions return a generator object.\n",
    "      \n",
    "      Yield Keyword :- The yield statement suspends a function’s execution and sends a value back to the caller."
   ]
  },
  {
   "cell_type": "code",
   "execution_count": 22,
   "id": "b403f3a6-c66b-477c-a2cc-15cff24df0b6",
   "metadata": {},
   "outputs": [
    {
     "name": "stdout",
     "output_type": "stream",
     "text": [
      "1\n",
      "2\n",
      "3\n"
     ]
    }
   ],
   "source": [
    "#working of generator function and yield keyword\n",
    "def GeneratorFun():\n",
    "    yield 1\n",
    "    yield 2\n",
    "    yield 3\n",
    "\n",
    "for value in GeneratorFun():\n",
    "    print(value)"
   ]
  },
  {
   "cell_type": "code",
   "execution_count": 27,
   "id": "a87f6933-0c08-4a6d-96a5-6370e9f75a4e",
   "metadata": {},
   "outputs": [
    {
     "name": "stdout",
     "output_type": "stream",
     "text": [
      "1\n",
      "4\n",
      "9\n",
      "16\n",
      "25\n",
      "36\n",
      "49\n",
      "64\n",
      "81\n",
      "100\n"
     ]
    }
   ],
   "source": [
    "#another example of generator function\n",
    "# this program returns me a sequence of square from 1 to 10 using yield keyword\n",
    "def nextSquare():\n",
    "    i = 1\n",
    " \n",
    "    # An Infinite loop to generate squares\n",
    "    while True:\n",
    "        yield i*i\n",
    "        i += 1\n",
    "for num in nextSquare():\n",
    "    if num > 100:\n",
    "        break\n",
    "    print(num)        \n"
   ]
  },
  {
   "cell_type": "code",
   "execution_count": null,
   "id": "35815ee7-67b3-43bd-80c8-a8f74e4d6913",
   "metadata": {},
   "outputs": [],
   "source": [
    "Q.5 Write a generator function for prime numbers less than 1000 . use next() method to print the first 20 prime numbers ."
   ]
  },
  {
   "cell_type": "code",
   "execution_count": 17,
   "id": "9f01f74a-0e36-48de-acf4-273df6e24ade",
   "metadata": {},
   "outputs": [
    {
     "name": "stdout",
     "output_type": "stream",
     "text": [
      "2\n",
      "3\n",
      "5\n",
      "7\n",
      "11\n",
      "13\n",
      "17\n",
      "19\n",
      "23\n",
      "29\n",
      "31\n",
      "37\n",
      "41\n",
      "43\n",
      "47\n",
      "53\n",
      "59\n",
      "61\n",
      "67\n",
      "71\n",
      "73\n",
      "79\n",
      "83\n",
      "89\n",
      "97\n",
      "101\n",
      "103\n",
      "107\n",
      "109\n",
      "113\n",
      "127\n",
      "131\n",
      "137\n",
      "139\n",
      "149\n",
      "151\n",
      "157\n",
      "163\n",
      "167\n",
      "173\n",
      "179\n",
      "181\n",
      "191\n",
      "193\n",
      "197\n",
      "199\n",
      "211\n",
      "223\n",
      "227\n",
      "229\n",
      "233\n",
      "239\n",
      "241\n",
      "251\n",
      "257\n",
      "263\n",
      "269\n",
      "271\n",
      "277\n",
      "281\n",
      "283\n",
      "293\n",
      "307\n",
      "311\n",
      "313\n",
      "317\n",
      "331\n",
      "337\n",
      "347\n",
      "349\n",
      "353\n",
      "359\n",
      "367\n",
      "373\n",
      "379\n",
      "383\n",
      "389\n",
      "397\n",
      "401\n",
      "409\n",
      "419\n",
      "421\n",
      "431\n",
      "433\n",
      "439\n",
      "443\n",
      "449\n",
      "457\n",
      "461\n",
      "463\n",
      "467\n",
      "479\n",
      "487\n",
      "491\n",
      "499\n",
      "503\n",
      "509\n",
      "521\n",
      "523\n",
      "541\n",
      "547\n",
      "557\n",
      "563\n",
      "569\n",
      "571\n",
      "577\n",
      "587\n",
      "593\n",
      "599\n",
      "601\n",
      "607\n",
      "613\n",
      "617\n",
      "619\n",
      "631\n",
      "641\n",
      "643\n",
      "647\n",
      "653\n",
      "659\n",
      "661\n",
      "673\n",
      "677\n",
      "683\n",
      "691\n",
      "701\n",
      "709\n",
      "719\n",
      "727\n",
      "733\n",
      "739\n",
      "743\n",
      "751\n",
      "757\n",
      "761\n",
      "769\n",
      "773\n",
      "787\n",
      "797\n",
      "809\n",
      "811\n",
      "821\n",
      "823\n",
      "827\n",
      "829\n",
      "839\n",
      "853\n",
      "857\n",
      "859\n",
      "863\n",
      "877\n",
      "881\n",
      "883\n",
      "887\n",
      "907\n",
      "911\n",
      "919\n",
      "929\n",
      "937\n",
      "941\n",
      "947\n",
      "953\n",
      "967\n",
      "971\n",
      "977\n",
      "983\n",
      "991\n",
      "997\n"
     ]
    }
   ],
   "source": [
    "#Generator function for prime numbers \n",
    "def prime_numbers_generator():\n",
    "    for num in range(2, 1000):\n",
    "        for i in range(2, num):\n",
    "            if (num % i) == 0:\n",
    "                break\n",
    "        else:\n",
    "            yield num\n",
    "for prime in prime_numbers_generator():\n",
    "    print(prime)               \n",
    "            "
   ]
  },
  {
   "cell_type": "code",
   "execution_count": 20,
   "id": "a373e0ec-3606-48c2-b2ad-5f37f35c4e28",
   "metadata": {},
   "outputs": [
    {
     "name": "stdout",
     "output_type": "stream",
     "text": [
      "2\n",
      "3\n",
      "5\n",
      "7\n",
      "11\n",
      "13\n",
      "17\n",
      "19\n",
      "23\n",
      "29\n",
      "31\n",
      "37\n",
      "41\n",
      "43\n",
      "47\n",
      "53\n",
      "59\n",
      "61\n",
      "67\n",
      "71\n"
     ]
    }
   ],
   "source": [
    "#using next() method to print the first 20 prime numbers\n",
    "gen = prime_numbers_generator()\n",
    "\n",
    "for i in range(20):\n",
    "    print(next(gen))\n",
    "    "
   ]
  },
  {
   "cell_type": "code",
   "execution_count": null,
   "id": "d5111756-f9a3-4e84-b8dd-079e18481f61",
   "metadata": {},
   "outputs": [],
   "source": [
    "Q.6 Write a python program to print the first 10 fibonacci numbers using while loop"
   ]
  },
  {
   "cell_type": "code",
   "execution_count": 23,
   "id": "76fdb892-0061-4338-8966-91a7115665b9",
   "metadata": {},
   "outputs": [
    {
     "name": "stdout",
     "output_type": "stream",
     "text": [
      "0\n",
      "1\n",
      "1\n",
      "2\n",
      "3\n",
      "5\n",
      "8\n",
      "13\n",
      "21\n",
      "34\n"
     ]
    }
   ],
   "source": [
    "#python program to print the first 10 fibonacci numbers using while loop\n",
    "a,b=0,1\n",
    "count=1\n",
    "while count<=10:\n",
    "    print(a)\n",
    "    c=a+b\n",
    "    a=b\n",
    "    b=c\n",
    "    count+=1"
   ]
  },
  {
   "cell_type": "code",
   "execution_count": null,
   "id": "b7ccf85d-ee9b-4d3e-ba5d-9e8e57f26dc9",
   "metadata": {},
   "outputs": [],
   "source": [
    "Q.7 Write a list comprehension to iterate through the given string :\"pwskills\",\n",
    "    Expected output : [\"p\",\"w\",\"s\",\"k\",\"i\",\"l\",\"l\",\"s\"]"
   ]
  },
  {
   "cell_type": "code",
   "execution_count": 24,
   "id": "2dcd5aec-ece2-4730-9831-5345839ed12b",
   "metadata": {},
   "outputs": [
    {
     "data": {
      "text/plain": [
       "['p', 'w', 's', 'k', 'i', 'l', 'l', 's']"
      ]
     },
     "execution_count": 24,
     "metadata": {},
     "output_type": "execute_result"
    }
   ],
   "source": [
    "#list comprehension to iterate through the given string :\"pwskills\"\n",
    "[i for i in \"pwskills\"]"
   ]
  },
  {
   "cell_type": "code",
   "execution_count": null,
   "id": "60002b4b-ec48-4b28-8156-5954d615c8b9",
   "metadata": {},
   "outputs": [],
   "source": [
    "Q.8 Write a python program to check whether a given number is palindrome or not using while loop"
   ]
  },
  {
   "cell_type": "code",
   "execution_count": 3,
   "id": "b02c5fd4-11d2-41ce-bc12-f2af44977d6a",
   "metadata": {},
   "outputs": [
    {
     "name": "stdin",
     "output_type": "stream",
     "text": [
      "Enter a number:  16461\n"
     ]
    },
    {
     "name": "stdout",
     "output_type": "stream",
     "text": [
      "16461 is a palindrome\n"
     ]
    }
   ],
   "source": [
    "#program to check whether a given number is palindrome or not using while loop\n",
    "def is_palindrome(num): #i am creating a fuction to check palindrome\n",
    "    original = num\n",
    "    reverse = 0\n",
    "    while num > 0:\n",
    "        digit = num % 10\n",
    "        reverse = reverse * 10 + digit\n",
    "        num = num // 10\n",
    "    return original == reverse\n",
    "\n",
    "number = int(input(\"Enter a number: \"))\n",
    "if is_palindrome(number): #calling the function \n",
    "    print(f\"{number} is a palindrome\")\n",
    "else:\n",
    "    print(f\"{number} is not a palindrome\")"
   ]
  },
  {
   "cell_type": "code",
   "execution_count": null,
   "id": "436ffe15-ea4c-4e4b-89eb-21901fd899e1",
   "metadata": {},
   "outputs": [],
   "source": [
    "Q.9 Write a code to print odd numbers from 1 to 100 using list comprehension"
   ]
  },
  {
   "cell_type": "code",
   "execution_count": 4,
   "id": "6ad7ce8d-f42e-46eb-a166-66f9ad2e57d4",
   "metadata": {},
   "outputs": [
    {
     "data": {
      "text/plain": [
       "[1,\n",
       " 3,\n",
       " 5,\n",
       " 7,\n",
       " 9,\n",
       " 11,\n",
       " 13,\n",
       " 15,\n",
       " 17,\n",
       " 19,\n",
       " 21,\n",
       " 23,\n",
       " 25,\n",
       " 27,\n",
       " 29,\n",
       " 31,\n",
       " 33,\n",
       " 35,\n",
       " 37,\n",
       " 39,\n",
       " 41,\n",
       " 43,\n",
       " 45,\n",
       " 47,\n",
       " 49,\n",
       " 51,\n",
       " 53,\n",
       " 55,\n",
       " 57,\n",
       " 59,\n",
       " 61,\n",
       " 63,\n",
       " 65,\n",
       " 67,\n",
       " 69,\n",
       " 71,\n",
       " 73,\n",
       " 75,\n",
       " 77,\n",
       " 79,\n",
       " 81,\n",
       " 83,\n",
       " 85,\n",
       " 87,\n",
       " 89,\n",
       " 91,\n",
       " 93,\n",
       " 95,\n",
       " 97,\n",
       " 99]"
      ]
     },
     "execution_count": 4,
     "metadata": {},
     "output_type": "execute_result"
    }
   ],
   "source": [
    "[i for i in range(1,100,2)]"
   ]
  },
  {
   "cell_type": "code",
   "execution_count": null,
   "id": "3bb9be5c-4a24-46bb-b840-744e74c02530",
   "metadata": {},
   "outputs": [],
   "source": []
  }
 ],
 "metadata": {
  "kernelspec": {
   "display_name": "Python 3 (ipykernel)",
   "language": "python",
   "name": "python3"
  },
  "language_info": {
   "codemirror_mode": {
    "name": "ipython",
    "version": 3
   },
   "file_extension": ".py",
   "mimetype": "text/x-python",
   "name": "python",
   "nbconvert_exporter": "python",
   "pygments_lexer": "ipython3",
   "version": "3.10.8"
  }
 },
 "nbformat": 4,
 "nbformat_minor": 5
}
