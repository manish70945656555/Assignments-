{
 "cells": [
  {
   "cell_type": "code",
   "execution_count": null,
   "id": "1fd7947a-4c56-462d-be56-a3a16bb76a1b",
   "metadata": {},
   "outputs": [],
   "source": [
    "Q1. What is anomaly detection and what is its purpose?\n"
   ]
  },
  {
   "cell_type": "code",
   "execution_count": null,
   "id": "3968e426-8fea-4169-8acc-45682c28e733",
   "metadata": {},
   "outputs": [],
   "source": [
    "Anomaly detection refers to the process of identifying patterns or instances in data that deviate significantly from the norm\n",
    "or expected behavior. Its purpose is to detect unusual or abnormal data points that differ from the majority of the data. \n",
    "Anomaly detection is widely used in various fields, such as fraud detection, network intrusion detection, system monitoring,\n",
    "manufacturing quality control, and more."
   ]
  },
  {
   "cell_type": "code",
   "execution_count": null,
   "id": "d593e812-18c0-43a3-8e58-f8d884f5e967",
   "metadata": {},
   "outputs": [],
   "source": [
    "Q2. What are the key challenges in anomaly detection?\n"
   ]
  },
  {
   "cell_type": "code",
   "execution_count": null,
   "id": "e7909634-8337-4bb7-b3f7-f1fedff4d0ba",
   "metadata": {},
   "outputs": [],
   "source": [
    "There are several key challenges in anomaly detection, including:\n",
    "\n",
    "1.Lack of labeled data: In many cases, anomaly detection operates in an unsupervised or semi-supervised setting, where labeled\n",
    " anomalies are scarce or nonexistent. This makes it challenging to train models using traditional supervised learning approaches.\n",
    "\n",
    "2.Imbalanced data: Anomaly detection often deals with imbalanced datasets, where the number of normal instances far exceeds\n",
    " the number of anomalies. This class imbalance can affect the performance of anomaly detection algorithms and lead to biased \n",
    " results.\n",
    "\n",
    "3.Data variability: Anomalies can take various forms and exhibit diverse characteristics. Anomaly detection algorithms need \n",
    "  to be robust enough to handle different types of anomalies, such as point anomalies, contextual anomalies, and collective\n",
    "  anomalies.\n",
    "\n",
    "4.Real-time detection: In some applications, anomalies need to be detected in real-time as data streams in. This imposes \n",
    " additional challenges in terms of computational efficiency and the ability to handle high-speed data streams."
   ]
  },
  {
   "cell_type": "code",
   "execution_count": null,
   "id": "2695f2e4-e90f-46b6-8c3a-d2a5affdbd52",
   "metadata": {},
   "outputs": [],
   "source": [
    "Q3. How does unsupervised anomaly detection differ from supervised anomaly detection?\n"
   ]
  },
  {
   "cell_type": "code",
   "execution_count": null,
   "id": "3c1c09ee-42c1-4cf9-af62-0322836c7460",
   "metadata": {},
   "outputs": [],
   "source": [
    "Unsupervised anomaly detection and supervised anomaly detection differ in terms of the availability of labeled data during the\n",
    "training phase.\n",
    "\n",
    "1.Unsupervised anomaly detection: In unsupervised anomaly detection, only normal data instances are available during training.\n",
    "  The algorithm learns the underlying patterns and structures of the normal data and flags instances that deviate significantly\n",
    "  from these patterns as anomalies. It does not rely on labeled anomaly examples for training.\n",
    "\n",
    "2.Supervised anomaly detection: In supervised anomaly detection, both normal and anomalous instances are available during \n",
    "  training. The algorithm learns the patterns and characteristics that differentiate normal data from anomalies. It uses\n",
    "  labeled examples to train a classifier that can distinguish between normal and anomalous instances."
   ]
  },
  {
   "cell_type": "code",
   "execution_count": null,
   "id": "2b9b957b-a20c-4cb1-9352-c8ef3292af36",
   "metadata": {},
   "outputs": [],
   "source": [
    "Q4. What are the main categories of anomaly detection algorithms?\n"
   ]
  },
  {
   "cell_type": "code",
   "execution_count": null,
   "id": "0eaab741-a061-40da-97b6-c618d583ef97",
   "metadata": {},
   "outputs": [],
   "source": [
    "The main categories of anomaly detection algorithms include:\n",
    "\n",
    "1.Statistical methods: These methods assume that normal data follows a known statistical distribution. Anomalies are \n",
    "  identified as instances that have low probability or fall outside the expected distribution.\n",
    "\n",
    "2.Machine learning-based methods: These methods use various machine learning techniques, such as clustering, classification,\n",
    "  and density estimation, to identify anomalies based on patterns and deviations from the majority of the data.\n",
    "\n",
    "3.Distance-based methods: These methods measure the distance or dissimilarity between data points and use thresholds to\n",
    "  classify instances as anomalies if they are significantly different from their neighbors.\n",
    "\n",
    "4.Information-theoretic methods: These methods analyze the information content or complexity of data instances to identify\n",
    "  anomalies. Unusually high or low information content can indicate anomalous behavior.\n",
    "\n",
    "5.Spectral methods: These methods utilize graph theory and eigenvalues to detect anomalies based on the eigenvectors and \n",
    "  eigenvalues of the data's affinity matrix."
   ]
  },
  {
   "cell_type": "code",
   "execution_count": null,
   "id": "e78bfd80-368f-4eea-9a43-754fdde781b8",
   "metadata": {},
   "outputs": [],
   "source": [
    "Q5. What are the main assumptions made by distance-based anomaly detection methods?\n"
   ]
  },
  {
   "cell_type": "code",
   "execution_count": null,
   "id": "7c317b5b-33c4-4692-9cc5-e7e3b370f5be",
   "metadata": {},
   "outputs": [],
   "source": [
    "Distance-based anomaly detection methods make certain assumptions, including:\n",
    "\n",
    "1.Anomalies are isolated: Anomalies are expected to be located far away from the majority of the data instances. They \n",
    " have different characteristics that make them stand out and have larger distances to their nearest neighbors.\n",
    "\n",
    "2.Normal data points are dense: Normal instances are assumed to be located in dense regions, where their nearest neighbors\n",
    "  are close to them in terms of distance."
   ]
  },
  {
   "cell_type": "code",
   "execution_count": null,
   "id": "b799bfd4-8538-4286-b511-a6f6426aa939",
   "metadata": {},
   "outputs": [],
   "source": [
    "Q6. How does the LOF algorithm compute anomaly scores?\n"
   ]
  },
  {
   "cell_type": "code",
   "execution_count": null,
   "id": "72293e15-efd8-42eb-9a3a-e9a114822896",
   "metadata": {},
   "outputs": [],
   "source": [
    "The LOF (Local Outlier Factor) algorithm computes anomaly scores as follows:\n",
    "\n",
    "1.For each data point, it calculates its k-distance, which is the distance to its k-th nearest neighbor.\n",
    "\n",
    "2.It computes the reachability distance for each data point, which measures how accessible a data point is from its\n",
    "   neighbors.\n",
    "\n",
    "3.For each data point, it calculates the local reachability density (lrd) as the inverse of the average reachability \n",
    "  distance of its k-nearest neighbors.\n",
    "\n",
    "4.Finally, the LOF score for each data point is computed as the average ratio of the lrd of the data point to the lrd of\n",
    "  its k-nearest neighbors. A higher LOF score indicates a higher likelihood of being an anomaly."
   ]
  },
  {
   "cell_type": "code",
   "execution_count": null,
   "id": "ea5bb276-7dd1-4e27-b163-52f4b90afb25",
   "metadata": {},
   "outputs": [],
   "source": [
    "Q7. What are the key parameters of the Isolation Forest algorithm?\n"
   ]
  },
  {
   "cell_type": "code",
   "execution_count": null,
   "id": "4b5ed7d5-451d-4086-87be-923b55c26230",
   "metadata": {},
   "outputs": [],
   "source": [
    "The key parameters of the Isolation Forest algorithm are:\n",
    "\n",
    "1.n_estimators: It determines the number of isolation trees to be created. Increasing the number of trees improves the\n",
    "  performance but also increases the computational cost.\n",
    "\n",
    "2.max_samples: It controls the number of samples drawn from the dataset to create each isolation tree. A smaller value\n",
    "  can lead to higher diversity among trees but might increase the risk of overfitting.\n",
    "\n",
    "3.contamination: It specifies the expected proportion of anomalies in the dataset. It helps in setting the decision \n",
    "  threshold to classify instances as anomalies."
   ]
  },
  {
   "cell_type": "code",
   "execution_count": null,
   "id": "2759ec3a-ff2b-4d51-be02-60f8dd6a7bdf",
   "metadata": {},
   "outputs": [],
   "source": [
    "Q8. If a data point has only 2 neighbours of the same class within a radius of 0.5, what is its anomaly score\n",
    "using KNN with K=10?\n"
   ]
  },
  {
   "cell_type": "code",
   "execution_count": null,
   "id": "e95de881-28c7-47c8-a6b0-d6a96d3adb50",
   "metadata": {},
   "outputs": [],
   "source": [
    " In KNN (K-Nearest Neighbors) with K=10, if a data point has only 2 neighbors of the same class within a radius of 0.5,\n",
    "its anomaly score would be relatively high. Since the majority of the points within the radius are not of the same class,\n",
    "the data point's neighborhood does not align with the expected behavior, making it an outlier or anomaly."
   ]
  },
  {
   "cell_type": "code",
   "execution_count": null,
   "id": "30e3101b-ebac-4bfa-8749-b2a7d08ae936",
   "metadata": {},
   "outputs": [],
   "source": [
    "Q9. Using the Isolation Forest algorithm with 100 trees and a dataset of 3000 data points, what is the\n",
    "anomaly score for a data point that has an average path length of 5.0 compared to the average path\n",
    "length of the trees?"
   ]
  },
  {
   "cell_type": "code",
   "execution_count": null,
   "id": "83264e4a-03ee-4cf8-8a07-bb9d7f35fc3f",
   "metadata": {},
   "outputs": [],
   "source": [
    "In the Isolation Forest algorithm, the anomaly score for a data point is determined by its average path length compared \n",
    "to the average path length of the trees. A lower average path length indicates that the data point is isolated and easier\n",
    "separate from the majority of the data, suggesting a higher likelihood of being an anomaly. Therefore, a data point with\n",
    "an average path length of 5.0 compared to the average path length of the trees would have a relatively high anomaly score."
   ]
  }
 ],
 "metadata": {
  "kernelspec": {
   "display_name": "Python 3 (ipykernel)",
   "language": "python",
   "name": "python3"
  },
  "language_info": {
   "codemirror_mode": {
    "name": "ipython",
    "version": 3
   },
   "file_extension": ".py",
   "mimetype": "text/x-python",
   "name": "python",
   "nbconvert_exporter": "python",
   "pygments_lexer": "ipython3",
   "version": "3.10.8"
  }
 },
 "nbformat": 4,
 "nbformat_minor": 5
}
