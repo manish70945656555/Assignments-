{
 "cells": [
  {
   "cell_type": "code",
   "execution_count": null,
   "id": "084c946d-384b-421e-9bd1-8ea3ec707b16",
   "metadata": {},
   "outputs": [],
   "source": []
  },
  {
   "cell_type": "code",
   "execution_count": null,
   "id": "a0f0f51a-18ba-4f04-8f36-7092504fb0dd",
   "metadata": {},
   "outputs": [],
   "source": []
  },
  {
   "cell_type": "code",
   "execution_count": null,
   "id": "34287197-b757-43f6-97e0-04185b7614eb",
   "metadata": {},
   "outputs": [],
   "source": [
    "Q1. What is the Probability density function?\n",
    "Ans:-In probability theory, the probability density function (PDF) is a mathematical function that describes the likelihood of a \n",
    "     continuous random variable taking on a certain value. The PDF represents the relative likelihood of observing a particular value of a continuous random variable in a given range of values, rather than the likelihood of observing a particular outcome as in the case of discrete random variables.\n",
    "\n",
    "The PDF is a non-negative function that integrates to 1 over the entire range of possible values of the continuous random variable. The \n",
    "area under the curve of the PDF between any two points on the horizontal axis represents the probability of the random variable falling \n",
    "within that range.\n",
    "\n",
    "The PDF is an important tool in probability theory and statistics, as it provides a way to quantify the likelihood of a continuous random \n",
    "variable taking on a certain value or range of values. It is commonly used to model and analyze real-world phenomena that exhibit \n",
    "continuous variability, such as the heights of individuals in a population, the weight of a particular object, or the time it takes for\n",
    "a particular process to complete."
   ]
  },
  {
   "cell_type": "code",
   "execution_count": null,
   "id": "fc51c0be-cb89-4022-aee2-7b125d9bf658",
   "metadata": {},
   "outputs": [],
   "source": [
    "Q2. What are the types of Probability distribution?\n",
    "Ans:-There are several types of probability distributions in statistics:-\n",
    "\n",
    "1.Normal distribution: Also known as the Gaussian distribution, this is a continuous probability distribution that is symmetric and\n",
    "  bell-shaped. It is used to model many natural phenomena, such as the height and weight of individuals, and is characterized by its mean \n",
    "  and standard deviation.\n",
    "\n",
    "2.Binomial distribution: This is a discrete probability distribution that is used to model the number of successes in a fixed number of \n",
    "  independent trials. It is characterized by its parameters of n (the number of trials) and p (the probability of success).\n",
    "\n",
    "3.Poisson distribution: This is a discrete probability distribution that is used to model the number of events occurring in a fixed\n",
    " interval of time or space. It is characterized by its parameter of λ, which represents the average number of events per interval.\n",
    "\n",
    "4.Exponential distribution: This is a continuous probability distribution that is used to model the time between events in a Poisson\n",
    "  process. It is characterized by its parameter of λ, which represents the rate of occurrence of events.\n",
    "\n",
    "5.Uniform distribution: This is a continuous probability distribution in which all values in a given range are equally likely to occur.\n",
    "  It is characterized by its minimum and maximum values."
   ]
  },
  {
   "cell_type": "code",
   "execution_count": null,
   "id": "cce30498-d08c-44fc-939d-7169c8317df1",
   "metadata": {},
   "outputs": [],
   "source": [
    "Q3. Write a Python function to calculate the probability density function of a normal distribution with\n",
    "given mean and standard deviation at a given point."
   ]
  },
  {
   "cell_type": "code",
   "execution_count": 1,
   "id": "7b29b29a-bb21-4d35-82e4-1e6a04fd2e5a",
   "metadata": {},
   "outputs": [
    {
     "name": "stdout",
     "output_type": "stream",
     "text": [
      "0.3989422804014327\n"
     ]
    }
   ],
   "source": [
    "import math\n",
    "\n",
    "def normal_pdf(x, mu, sigma):\n",
    "    \"\"\"Calculates the probability density function of a normal distribution with given mean and standard deviation at a given point.\"\"\"\n",
    "    return (1 / (sigma * math.sqrt(2 * math.pi))) * math.exp(-(x - mu)**2 / (2 * sigma**2))\n",
    "\n",
    "print(normal_pdf(0, 0, 1))   # output: 0.3989422804014327\n"
   ]
  },
  {
   "cell_type": "code",
   "execution_count": null,
   "id": "d9984e86-1e91-490a-9792-01ae2c98245c",
   "metadata": {},
   "outputs": [],
   "source": [
    "Q4. What are the properties of Binomial distribution? Give two examples of events where binomial\n",
    "distribution can be applied.\n",
    "Ans:- Properties of Binomial distribution are:\n",
    "\n",
    "1.The experiment consists of a fixed number of trials.\n",
    "2.Each trial results in one of two outcomes - success or failure.\n",
    "3.The probability of success and failure is constant for each trial.\n",
    "4.The trials are independent of each other.\n",
    "\n",
    "Examples of events where Binomial distribution can be applied are:\n",
    "\n",
    "1.Tossing a coin: The outcome of each toss can either be a head or a tail. The probability of getting a head or a tail is constant for\n",
    "  each toss. The trials are independent of each other.\n",
    "\n",
    "2.Quality control in a factory: A sample of products is tested for quality. Each product in the sample either meets the quality standard \n",
    "  or does not. The probability of a product meeting the quality standard is constant for each product. The products in the sample are\n",
    "  independent of each other."
   ]
  },
  {
   "cell_type": "code",
   "execution_count": null,
   "id": "2ab22c60-4e16-4db2-a55d-ac34c8f0c591",
   "metadata": {},
   "outputs": [],
   "source": [
    "Q5. Generate a random sample of size 1000 from a binomial distribution with probability of success 0.4\n",
    "and plot a histogram of the results using matplotlib."
   ]
  },
  {
   "cell_type": "code",
   "execution_count": 2,
   "id": "3c6778cb-ebe4-4638-994e-2267bed17d1b",
   "metadata": {},
   "outputs": [
    {
     "data": {
      "image/png": "[encoded data removed]",
      "text/plain": [
       "<Figure size 640x480 with 1 Axes>"
      ]
     },
     "metadata": {},
     "output_type": "display_data"
    }
   ],
   "source": [
    "import numpy as np\n",
    "import matplotlib.pyplot as plt\n",
    "\n",
    "# generate random sample from binomial distribution\n",
    "n = 10  # number of trials\n",
    "p = 0.4  # probability of success\n",
    "sample = np.random.binomial(n, p, 1000)\n",
    "\n",
    "# plot histogram of sample\n",
    "plt.hist(sample, bins=range(n+2))\n",
    "plt.xlabel('Number of successes')\n",
    "plt.ylabel('Frequency')\n",
    "plt.title('Binomial Distribution')\n",
    "plt.show()\n"
   ]
  },
  {
   "cell_type": "code",
   "execution_count": null,
   "id": "395a5e24-3c83-4676-954b-9720110a4990",
   "metadata": {},
   "outputs": [],
   "source": [
    "Q6. Write a Python function to calculate the cumulative distribution function of a Poisson distribution\n",
    "with given mean at a given point."
   ]
  },
  {
   "cell_type": "code",
   "execution_count": 3,
   "id": "f0017e95-91b8-402e-a445-b6bfad36aabd",
   "metadata": {},
   "outputs": [],
   "source": [
    "import math\n",
    "from scipy.stats import poisson\n",
    "\n",
    "def poisson_cdf(mean, point):\n",
    "    cdf = 0\n",
    "    for i in range(point + 1):\n",
    "        cdf += poisson.pmf(i, mean)\n",
    "    return cdf\n"
   ]
  },
  {
   "cell_type": "code",
   "execution_count": null,
   "id": "7188c2f3-92b6-413e-86ea-9fcb3584c2cd",
   "metadata": {},
   "outputs": [],
   "source": [
    "Q7. How Binomial distribution different from Poisson distribution?\n",
    "Ans:-Binomial distribution and Poisson distribution are two types of probability distributions that are used to model random events. \n",
    "The main differences between these two distributions are:\n",
    "\n",
    "1.Number of trials: Binomial distribution is used when there are a fixed number of trials or experiments. On the other hand, Poisson \n",
    "distribution is used when the number of trials or experiments is unknown or very large.\n",
    "\n",
    "2.Type of events: Binomial distribution is used to model the number of successes or failures in a fixed number of trials, where each\n",
    "trial has two possible outcomes. Poisson distribution is used to model the number of rare events that occur in a fixed interval of time\n",
    "or space.\n",
    "\n",
    "3.Probability of success: In binomial distribution, the probability of success is constant for each trial. In Poisson distribution, the\n",
    "probability of success is very small and constant over time or space.\n",
    "\n",
    "4.Mean and variance: In binomial distribution, the mean and variance are given by np and np(1-p), respectively, where n is the number of \n",
    "trials and p is the probability of success. In Poisson distribution, both the mean and variance are equal to λ, which is the rate of \n",
    "occurrence of the rare event."
   ]
  },
  {
   "cell_type": "code",
   "execution_count": null,
   "id": "99f3af8b-ceee-4ea9-ace6-42f78514cff2",
   "metadata": {},
   "outputs": [],
   "source": [
    "Q8. Generate a random sample of size 1000 from a Poisson distribution with mean 5 and calculate the\n",
    "sample mean and variance."
   ]
  },
  {
   "cell_type": "code",
   "execution_count": 4,
   "id": "b8c537d6-8264-4251-9ddd-b2169f444b71",
   "metadata": {},
   "outputs": [
    {
     "name": "stdout",
     "output_type": "stream",
     "text": [
      "Sample mean: 4.899\n",
      "Sample variance: 4.866799\n"
     ]
    }
   ],
   "source": [
    "import numpy as np\n",
    "\n",
    "# Generate random sample from Poisson distribution\n",
    "sample = np.random.poisson(5, size=1000)\n",
    "\n",
    "# Calculate sample mean and variance\n",
    "sample_mean = np.mean(sample)\n",
    "sample_var = np.var(sample)\n",
    "\n",
    "print(\"Sample mean:\", sample_mean)\n",
    "print(\"Sample variance:\", sample_var)\n"
   ]
  },
  {
   "cell_type": "code",
   "execution_count": null,
   "id": "1e786da7-989d-4516-9b83-34c83563a642",
   "metadata": {},
   "outputs": [],
   "source": [
    "Q9. How mean and variance are related in Binomial distribution and Poisson distribution?\n",
    "Ans:-In a Binomial distribution, the mean is given by μ = np, where n is the number of trials and p is the probability of success in each\n",
    "trial. The variance is given by σ^2 = np(1-p).\n",
    "\n",
    "In a Poisson distribution, both the mean and variance are equal and given by μ = σ^2 = λ, where λ is the average number of occurrences in \n",
    "the given interval.\n",
    "\n",
    "Therefore, in Binomial distribution, the variance depends on both the probability of success and the number of trials, whereas in Poisson\n",
    "distribution, the variance is solely dependent on the mean."
   ]
  },
  {
   "cell_type": "code",
   "execution_count": null,
   "id": "87bb1197-1e72-45cc-b8c4-6264329f621c",
   "metadata": {},
   "outputs": [],
   "source": [
    "Q10. In normal distribution with respect to mean position, where does the least frequent data appear?\n",
    "Ans:-In normal distribution, the least frequent data appears in the tails or extreme ends of the distribution, far away from the mean."
   ]
  }
 ],
 "metadata": {
  "kernelspec": {
   "display_name": "Python 3 (ipykernel)",
   "language": "python",
   "name": "python3"
  },
  "language_info": {
   "codemirror_mode": {
    "name": "ipython",
    "version": 3
   },
   "file_extension": ".py",
   "mimetype": "text/x-python",
   "name": "python",
   "nbconvert_exporter": "python",
   "pygments_lexer": "ipython3",
   "version": "3.10.8"
  }
 },
 "nbformat": 4,
 "nbformat_minor": 5
}
