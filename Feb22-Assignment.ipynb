{
 "cells": [
  {
   "cell_type": "code",
   "execution_count": null,
   "id": "e7651353-d0a9-408b-9aac-34edf7735f8c",
   "metadata": {},
   "outputs": [],
   "source": [
    "Q1. Create a Pandas Series that contains the following data: 4, 8, 15, 16, 23, and 42. Then, print the series."
   ]
  },
  {
   "cell_type": "code",
   "execution_count": 1,
   "id": "d716ae38-5fbe-4b73-8a2a-95817ddac569",
   "metadata": {},
   "outputs": [
    {
     "name": "stdout",
     "output_type": "stream",
     "text": [
      "Requirement already satisfied: pandas in /opt/conda/lib/python3.10/site-packages (1.5.2)\n",
      "Requirement already satisfied: python-dateutil>=2.8.1 in /opt/conda/lib/python3.10/site-packages (from pandas) (2.8.2)\n",
      "Requirement already satisfied: pytz>=2020.1 in /opt/conda/lib/python3.10/site-packages (from pandas) (2022.6)\n",
      "Requirement already satisfied: numpy>=1.21.0 in /opt/conda/lib/python3.10/site-packages (from pandas) (1.23.5)\n",
      "Requirement already satisfied: six>=1.5 in /opt/conda/lib/python3.10/site-packages (from python-dateutil>=2.8.1->pandas) (1.16.0)\n",
      "Note: you may need to restart the kernel to use updated packages.\n"
     ]
    }
   ],
   "source": [
    "pip install pandas"
   ]
  },
  {
   "cell_type": "code",
   "execution_count": 1,
   "id": "dcab061d-1a42-4ffc-a323-dc0b555d564b",
   "metadata": {},
   "outputs": [
    {
     "name": "stdout",
     "output_type": "stream",
     "text": [
      "0     4\n",
      "1     8\n",
      "2    15\n",
      "3    16\n",
      "4    23\n",
      "5    42\n",
      "dtype: object\n"
     ]
    }
   ],
   "source": [
    "import pandas as pd\n",
    "ser = pd.Series(['4','8','15','16','23','42'])\n",
    "print(ser)"
   ]
  },
  {
   "cell_type": "code",
   "execution_count": null,
   "id": "0b60410c-7da3-4ba3-8147-73ca6f659408",
   "metadata": {},
   "outputs": [],
   "source": [
    "Q2. Create a variable of list type containing 10 elements in it, and apply pandas.Series function on the\n",
    "variable print it."
   ]
  },
  {
   "cell_type": "code",
   "execution_count": 2,
   "id": "06a85e67-85a1-4fde-b8f9-d6672fbd37ca",
   "metadata": {},
   "outputs": [
    {
     "name": "stdout",
     "output_type": "stream",
     "text": [
      "0     1\n",
      "1     2\n",
      "2     3\n",
      "3     4\n",
      "4     5\n",
      "5     6\n",
      "6     7\n",
      "7     8\n",
      "8     9\n",
      "9    10\n",
      "dtype: object\n"
     ]
    }
   ],
   "source": [
    "import pandas as pd\n",
    "List=['1','2','3','4','5','6','7','8','9','10']\n",
    "ser=pd.Series(List)\n",
    "print(ser)"
   ]
  },
  {
   "cell_type": "code",
   "execution_count": null,
   "id": "a3260179-fa97-4962-8f73-f8d5bfc07364",
   "metadata": {},
   "outputs": [],
   "source": [
    "Q3. Create a Pandas DataFrame that contains the following data."
   ]
  },
  {
   "cell_type": "code",
   "execution_count": 5,
   "id": "a119c820-4408-4677-b55b-704d87f45130",
   "metadata": {},
   "outputs": [
    {
     "name": "stdout",
     "output_type": "stream",
     "text": [
      "     Name  Age  Gender\n",
      "0   Alice   25  Female\n",
      "1     Bob   30    Male\n",
      "2  Claire   27  Female\n"
     ]
    }
   ],
   "source": [
    "import pandas as pd\n",
    "data = [['Alice', 25,'Female'], ['Bob', 30,'Male'], ['Claire', 27,'Female']]\n",
    "df = pd.DataFrame(data,columns=['Name', 'Age','Gender'])\n",
    "print(df)"
   ]
  },
  {
   "cell_type": "code",
   "execution_count": null,
   "id": "0f879036-fc6f-4ab8-a5b9-29a03748b103",
   "metadata": {},
   "outputs": [],
   "source": [
    "Q4. What is ‘DataFrame’ in pandas and how is it different from pandas.series? Explain with an example.\n",
    "Ans :- A DataFrame is a two-dimensional table with rows and columns, while a Series is a one-dimensional array-like object\n",
    "       with an index.\n",
    "       A DataFrame in Pandas is a table of data with rows and columns. It is a two-dimensional labeled data structure with \n",
    "       columns of potentially different types. You can think of it like a spreadsheet or SQL table. It is the most\n",
    "       commonly used data structure in Pandas and allows you to perform a variety of operations on data, including \n",
    "       filtering, sorting,grouping, and merging.\n",
    "       Here's an example of creating a DataFrame in Pandas:"
   ]
  },
  {
   "cell_type": "code",
   "execution_count": null,
   "id": "8b1bb3f8-7c8d-4377-957c-6b3f225366ef",
   "metadata": {},
   "outputs": [],
   "source": [
    "import pandas as pd\n",
    "\n",
    "# create a dictionary with data\n",
    "data = {'name': ['Alice', 'Bob', 'Charlie', 'David'],\n",
    "        'age': [25, 30, 35, 40],\n",
    "        'country': ['USA', 'Canada', 'UK', 'Australia']}\n",
    "\n",
    "# create a DataFrame\n",
    "df = pd.DataFrame(data)\n",
    "\n",
    "print(df)\n"
   ]
  },
  {
   "cell_type": "code",
   "execution_count": null,
   "id": "7dc5e981-2371-4e00-bf6f-0e6667f3fb1d",
   "metadata": {},
   "outputs": [],
   "source": [
    "On the other hand, a Series is a one-dimensional labeled array capable of holding any data type (integers, strings, \n",
    "floating point numbers, Python objects, etc.). An example of creating a Pandas Series would be:"
   ]
  },
  {
   "cell_type": "code",
   "execution_count": null,
   "id": "3da6443f-fa15-4951-ba3f-4ea080d16cda",
   "metadata": {},
   "outputs": [],
   "source": [
    "import pandas as pd\n",
    "\n",
    "# create a list of data\n",
    "data = [25, 30, 35, 40]\n",
    "\n",
    "# create a Series\n",
    "s = pd.Series(data)\n",
    "\n",
    "print(s)"
   ]
  },
  {
   "cell_type": "code",
   "execution_count": null,
   "id": "796bd298-75fd-420f-b18a-4b44d3151911",
   "metadata": {},
   "outputs": [],
   "source": [
    "Q5. What are some common functions you can use to manipulate data in a Pandas DataFrame? Can\n",
    "you give an example of when you might use one of these functions?\n",
    "\n",
    "Ans:- Pandas DataFrame provides a wide range of functions to manipulate and transform data. Here are some common functions\n",
    "      that you can use to manipulate data in a Pandas DataFrame.\n",
    "    1.head() and tail(): These functions are used to view the top or bottom n rows of a DataFrame. \n",
    "      For example, df.head(10) will display the first 10 rows of the DataFrame df.\n",
    "    2.info(): This function is used to get a concise summary of the DataFrame, including its data types, number of \n",
    "      non-null values, and memory usage.\n",
    "    3.describe(): This function provides a statistical summary of the DataFrame, including the count, mean, standard \n",
    "      deviation, minimum, maximum, and quartile values.\n",
    "    4.sort_values(): This function is used to sort the DataFrame by one or more columns. \n",
    "      For example, df.sort_values('column_name', ascending=False) will sort the DataFrame df in descending order by the \n",
    "      values in the column 'column_name\n",
    "    5.groupby(): This function is used to group the DataFrame by one or more columns and perform an aggregation function,\n",
    "      such as sum(), mean(), count(), or max() on each group. For example, df.groupby('column_name').sum() will group the\n",
    "      DataFrame df by the values in the column 'column_name' and calculate the sum of each group.\n",
    "    6.fillna(): This function is used to fill missing values in the DataFrame with a specified value or method, such as\n",
    "      'ffill' or 'bfill'. For example, df.fillna(0) will replace all missing values in the DataFrame df with 0.\n",
    "    7.drop_duplicates(): This function is used to remove duplicate rows from the DataFrame.\n",
    "      For example, df.drop_duplicates() will remove all duplicate rows from the DataFrame df\n",
    "    8.apply(): This function is used to apply a function to each row or column of the DataFrame. \n",
    "      For example, df['column_name'].apply(function_name) will apply the function function_name to each value in the\n",
    "      column 'column_name'.\n",
    "\n",
    "Example:- Let's say you have a DataFrame containing data on the sales of products in different countries, and you want \n",
    "          to find the total sales for each country. You can use the groupby() function to group the DataFrame by country \n",
    "          and then use the sum() function to calculate the total sales for each group.\n",
    "\n",
    "import pandas as pd\n",
    "# create a sample DataFrame\n",
    "data = {'country': ['USA', 'USA', 'Canada', 'Canada', 'UK', 'UK'],\n",
    "        'product': ['A', 'B', 'A', 'B', 'A', 'B'],\n",
    "        'sales': [100, 200, 150, 250, 120, 180]}\n",
    "\n",
    "df = pd.DataFrame(data)\n",
    "\n",
    "# group the DataFrame by country and sum the sales\n",
    "sales_by_country = df.groupby('country')['sales'].sum()\n",
    "\n",
    "print(sales_by_country)\n",
    "\n"
   ]
  },
  {
   "cell_type": "code",
   "execution_count": null,
   "id": "728f40ce-859e-453c-b6c3-159ff058b9c7",
   "metadata": {},
   "outputs": [],
   "source": [
    "Q6. Which of the following is mutable in nature Series, DataFrame, Panel?\n",
    "Ans:-In Pandas, both Series and DataFrame are mutable in nature, meaning that you can modify their values, add or remove\n",
    "     rows and columns, and change their structure. On the other hand, Panel is deprecated in Pandas version 1.0.0 and\n",
    "      above and has been replaced by the MultiIndex. Therefore, it is not recommended to use the Panel in Pandas."
   ]
  },
  {
   "cell_type": "code",
   "execution_count": null,
   "id": "c2cd826f-d82e-4579-9032-79746027f551",
   "metadata": {},
   "outputs": [],
   "source": [
    "Q.7 Create a DataFrame using multiple Series. Explain with an example.\n",
    "Ans :- Yes, we can create a DataFrame using multiple Series in Pandas.\n",
    "       Here's an example of how to create a DataFrame using two Series:\n",
    "\n",
    "import pandas as pd\n",
    "\n",
    "# create a Series of student names\n",
    "names = pd.Series(['Alice', 'Bob', 'Charlie', 'David', 'Emily'])\n",
    "\n",
    "# create a Series of student scores\n",
    "scores = pd.Series([85, 90, 78, 92, 88])\n",
    "\n",
    "# combine the two Series into a DataFrame\n",
    "df = pd.DataFrame({'Name': names, 'Score': scores})\n",
    "\n",
    "# print the DataFrame\n",
    "print(df)\n",
    "\n",
    "\n",
    "In this example, we first created two Series - 'names' and 'scores' - that contain the names of students and their\n",
    "corresponding scores, respectively. We then combined these two Series into a DataFrame using the pd.DataFrame() function,\n",
    "where the keys of the dictionary passed as an argument correspond to the column names of the resulting DataFrame, and the\n",
    "values are the Series that we want to combine.\n",
    "\n",
    "Finally, we printed the resulting DataFrame to see the result. The output shows a DataFrame with two columns, 'Name' and\n",
    "'Score', where each row contains the corresponding values from the two Series."
   ]
  },
  {
   "cell_type": "code",
   "execution_count": null,
   "id": "346b319e-9ebe-46eb-9aff-b1d55534cd8a",
   "metadata": {},
   "outputs": [],
   "source": []
  }
 ],
 "metadata": {
  "kernelspec": {
   "display_name": "Python 3 (ipykernel)",
   "language": "python",
   "name": "python3"
  },
  "language_info": {
   "codemirror_mode": {
    "name": "ipython",
    "version": 3
   },
   "file_extension": ".py",
   "mimetype": "text/x-python",
   "name": "python",
   "nbconvert_exporter": "python",
   "pygments_lexer": "ipython3",
   "version": "3.10.8"
  }
 },
 "nbformat": 4,
 "nbformat_minor": 5
}
