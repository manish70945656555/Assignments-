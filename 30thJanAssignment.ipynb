{
 "cells": [
  {
   "cell_type": "code",
   "execution_count": 3,
   "id": "d604da0c-97b5-4cb3-af90-dedde2762347",
   "metadata": {},
   "outputs": [
    {
     "name": "stdin",
     "output_type": "stream",
     "text": [
      "Enter Your Percentage  96\n"
     ]
    },
    {
     "name": "stdout",
     "output_type": "stream",
     "text": [
      "Hurray Start Celebration, You Got A Grade\n"
     ]
    }
   ],
   "source": [
    "#Q.1 To Accept the percentage and display the grade\n",
    "marks = int(input(\"Enter Your Percentage \"))\n",
    "if marks > 90 :\n",
    "    print(\"Hurray Start Celebration, You Got A Grade\")\n",
    "elif marks >80 and marks <= 90:\n",
    "    print(\"Nice Try Buddy You Got B Grade\")\n",
    "elif marks >= 60 and marks <= 80:\n",
    "    print(\"You Got C Grade , Need of improvement\")\n",
    "else:\n",
    "    print(\"you got just passing marks , you got D Grade\")"
   ]
  },
  {
   "cell_type": "code",
   "execution_count": 4,
   "id": "c542c343-10ce-45d4-929a-4b0bc420c391",
   "metadata": {},
   "outputs": [
    {
     "name": "stdin",
     "output_type": "stream",
     "text": [
      "Enter The Cost Price Of The Bike  40000\n"
     ]
    },
    {
     "name": "stdout",
     "output_type": "stream",
     "text": [
      "You have to pay 5% Road Tax \n"
     ]
    }
   ],
   "source": [
    "#Q.2 Accept the cost price of a bike and display the road tax to be paid\n",
    "cost_price = int(input(\"Enter The Cost Price Of The Bike \"))\n",
    "if cost_price > 100000:\n",
    "    print(\"You have to pay 15% Road Tax \")\n",
    "elif cost_price > 50000 and cost_price <= 100000:\n",
    "    print(\"You have to pay 10% Road Tax \")\n",
    "else:\n",
    "    print(\"You have to pay 5% Road Tax \")"
   ]
  },
  {
   "cell_type": "code",
   "execution_count": 7,
   "id": "6f072878-58b5-45e9-aca8-e03a07752900",
   "metadata": {},
   "outputs": [
    {
     "name": "stdin",
     "output_type": "stream",
     "text": [
      "Choose The City From The Following : Delhi,Agra,Jaipur agra\n"
     ]
    },
    {
     "name": "stdout",
     "output_type": "stream",
     "text": [
      "The Famous Monument there is Taj Mahal\n"
     ]
    }
   ],
   "source": [
    "#Q.3 Accept city name and display monument name \n",
    "city=str(input(\"Choose The City From The Following : Delhi,Agra,Jaipur\"))\n",
    "if city==\"delhi\" or city==\"Delhi\" or city=='DELHI':\n",
    "    print(\"The Famous Monument there is Red Fort\")\n",
    "elif city==\"agra\" or city==\"Agra\" or city=='AGRA':\n",
    "    print(\"The Famous Monument there is Taj Mahal\") \n",
    "elif city==\"jaipur\" or city==\"Jaipur\" or city=='JAIPUR':\n",
    "    print(\"The Famous Monument there is Jal Mahal\") \n",
    "else:\n",
    "    print(\"You entered a wrong city name,Please enter a valid city name\")"
   ]
  },
  {
   "cell_type": "code",
   "execution_count": 14,
   "id": "b04cf00a-2883-4f57-9d09-fbe976304d4a",
   "metadata": {},
   "outputs": [
    {
     "name": "stdin",
     "output_type": "stream",
     "text": [
      "Enter The Number 9\n"
     ]
    },
    {
     "name": "stdout",
     "output_type": "stream",
     "text": [
      "3 Can Devide the Number upto  2 times before the number is less than or equal to zero \n"
     ]
    }
   ],
   "source": [
    "#Q.4 check how many times a number can be devided by 3 before it is less than or equal to 0\n",
    "num=int(input(\"Enter The Number\"))\n",
    "def divide_by_3(num):\n",
    "    count = 0\n",
    "    while num > 0:\n",
    "        if num >= 3:\n",
    "            num = num // 3\n",
    "            count += 1\n",
    "        else:\n",
    "            break\n",
    "    return count\n",
    "\n",
    "print(\"3 Can Devide the Number upto \",divide_by_3(num),\"times before the number is less than or equal to zero \")"
   ]
  },
  {
   "cell_type": "code",
   "execution_count": null,
   "id": "9eaa889c-3c77-415a-ba9d-b29661c7aa40",
   "metadata": {},
   "outputs": [],
   "source": [
    "Q.5 Why and when to use while loop in python give a detailed description with example \n",
    "Ans :- We Use while loop where we can execute a set of statements as long as a condition is true.\n",
    "       if condition becomes false than programs terminate automatically.\n",
    "       EXAMPLE:--    "
   ]
  },
  {
   "cell_type": "code",
   "execution_count": 20,
   "id": "2ecb1d78-d35a-41f1-91b6-086e65351011",
   "metadata": {},
   "outputs": [
    {
     "name": "stdout",
     "output_type": "stream",
     "text": [
      "1\n",
      "2\n",
      "3\n"
     ]
    }
   ],
   "source": [
    "Marks = 1\n",
    "while Marks <= 3:\n",
    "    print(Marks)\n",
    "    Marks+=1      "
   ]
  },
  {
   "cell_type": "code",
   "execution_count": null,
   "id": "df1e15a3-b6ed-4f50-bc0e-940126d5c62c",
   "metadata": {},
   "outputs": [],
   "source": [
    "Q.6 Use nested while loop to print 3 different pattern \n",
    "Ans:- 1.Left Triangle Pattern       "
   ]
  },
  {
   "cell_type": "code",
   "execution_count": 17,
   "id": "dbdaca11-900a-4435-a137-2454d603727f",
   "metadata": {},
   "outputs": [
    {
     "name": "stdout",
     "output_type": "stream",
     "text": [
      "*\n",
      "**\n",
      "***\n",
      "****\n",
      "*****\n"
     ]
    }
   ],
   "source": [
    "rows = 5\n",
    "i = 1\n",
    "while i <= rows:\n",
    "    j = 0\n",
    "    while j < i:\n",
    "        print(\"*\", end=\"\")\n",
    "        j += 1\n",
    "    print(\"\")\n",
    "    i += 1"
   ]
  },
  {
   "cell_type": "code",
   "execution_count": null,
   "id": "690e91b1-fc21-4dd7-b21a-622362190839",
   "metadata": {},
   "outputs": [],
   "source": [
    "2.Right Triangle Pattern"
   ]
  },
  {
   "cell_type": "code",
   "execution_count": 18,
   "id": "55c8470c-fc2f-4dc3-81b1-93543423585e",
   "metadata": {},
   "outputs": [
    {
     "name": "stdout",
     "output_type": "stream",
     "text": [
      "     *\n",
      "    **\n",
      "   ***\n",
      "  ****\n",
      " *****\n"
     ]
    }
   ],
   "source": [
    "rows = 5\n",
    "i = 1\n",
    "while i <= rows:\n",
    "    j = 0\n",
    "    while j < rows - i + 1:\n",
    "        print(\" \", end=\"\")\n",
    "        j += 1\n",
    "    k = 0\n",
    "    while k < i:\n",
    "        print(\"*\", end=\"\")\n",
    "        k += 1\n",
    "    print(\"\")\n",
    "    i += 1"
   ]
  },
  {
   "cell_type": "code",
   "execution_count": null,
   "id": "c88b4711-7790-4a52-95be-e799b9e6e48f",
   "metadata": {},
   "outputs": [],
   "source": [
    "3.Rectangle Pattern"
   ]
  },
  {
   "cell_type": "code",
   "execution_count": 19,
   "id": "9bc01820-799e-4461-8987-e833f69c98c3",
   "metadata": {},
   "outputs": [
    {
     "name": "stdout",
     "output_type": "stream",
     "text": [
      "**********\n",
      "**********\n",
      "**********\n",
      "**********\n",
      "**********\n"
     ]
    }
   ],
   "source": [
    "rows = 5\n",
    "columns = 10\n",
    "i = 1\n",
    "while i <= rows:\n",
    "    j = 1\n",
    "    while j <= columns:\n",
    "        print(\"*\", end=\"\")\n",
    "        j += 1\n",
    "    print(\"\")\n",
    "    i += 1"
   ]
  },
  {
   "cell_type": "code",
   "execution_count": null,
   "id": "79bf90c9-8ac2-40bf-91ae-3d6ca0ca407d",
   "metadata": {},
   "outputs": [],
   "source": [
    "Q.7 Reverse a while loop to display numbers from 10 to 1."
   ]
  },
  {
   "cell_type": "code",
   "execution_count": 21,
   "id": "5eb56e30-de17-4ec3-bb58-2fddab0c091b",
   "metadata": {},
   "outputs": [
    {
     "name": "stdout",
     "output_type": "stream",
     "text": [
      "10\n",
      "9\n",
      "8\n",
      "7\n",
      "6\n",
      "5\n",
      "4\n",
      "3\n",
      "2\n",
      "1\n"
     ]
    }
   ],
   "source": [
    "num = 10\n",
    "while num >= 1:\n",
    "    print(num)\n",
    "    num -= 1"
   ]
  },
  {
   "cell_type": "code",
   "execution_count": null,
   "id": "564a05c3-7655-4f4f-96e0-a0057a6660a4",
   "metadata": {},
   "outputs": [],
   "source": [
    "Q.8 Reverse a while loop to display numbers from 10 to 1."
   ]
  },
  {
   "cell_type": "code",
   "execution_count": 22,
   "id": "a56e3802-62a2-47c9-8a94-3217622a77c4",
   "metadata": {},
   "outputs": [
    {
     "name": "stdout",
     "output_type": "stream",
     "text": [
      "10\n",
      "9\n",
      "8\n",
      "7\n",
      "6\n",
      "5\n",
      "4\n",
      "3\n",
      "2\n",
      "1\n"
     ]
    }
   ],
   "source": [
    "num = 10\n",
    "while num >= 1:\n",
    "    print(num)\n",
    "    num -= 1"
   ]
  },
  {
   "cell_type": "code",
   "execution_count": null,
   "id": "4140d093-5c0b-440a-bc75-ee22c60d5dd4",
   "metadata": {},
   "outputs": [],
   "source": []
  }
 ],
 "metadata": {
  "kernelspec": {
   "display_name": "Python 3 (ipykernel)",
   "language": "python",
   "name": "python3"
  },
  "language_info": {
   "codemirror_mode": {
    "name": "ipython",
    "version": 3
   },
   "file_extension": ".py",
   "mimetype": "text/x-python",
   "name": "python",
   "nbconvert_exporter": "python",
   "pygments_lexer": "ipython3",
   "version": "3.10.8"
  }
 },
 "nbformat": 4,
 "nbformat_minor": 5
}
