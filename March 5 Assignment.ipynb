{
 "cells": [
  {
   "cell_type": "code",
   "execution_count": null,
   "id": "24e74f08-24f7-47c2-b3cb-b2d487ac3ec7",
   "metadata": {},
   "outputs": [],
   "source": []
  },
  {
   "cell_type": "code",
   "execution_count": null,
   "id": "ae99fa0c-882f-4ffb-9eaa-6d9239189b83",
   "metadata": {},
   "outputs": [],
   "source": [
    "Q1. How can you create a Bokeh plot using Python code?\n",
    "Ans:-Here is an example of creating a simple Bokeh scatter plot:"
   ]
  },
  {
   "cell_type": "code",
   "execution_count": 2,
   "id": "3545df6e-ea2b-4d54-8b9c-5a3d95aa100c",
   "metadata": {},
   "outputs": [],
   "source": [
    "from bokeh.plotting import figure, output_file, show\n",
    "import pandas as pd\n",
    "\n",
    "# Create some example data\n",
    "df = pd.DataFrame({\n",
    "    'x': [1, 2, 3, 4, 5],\n",
    "    'y': [2, 4, 6, 8, 10]\n",
    "})\n",
    "\n",
    "# Set up output file\n",
    "output_file(\"scatter.html\")\n",
    "\n",
    "# Create figure object\n",
    "p = figure(title=\"Simple Scatter Plot\", x_axis_label=\"X\", y_axis_label=\"Y\")\n",
    "\n",
    "# Add scatter glyphs\n",
    "p.circle(df['x'], df['y'], size=10, color='red')\n",
    "\n",
    "# Show the plot\n",
    "show(p)\n"
   ]
  },
  {
   "cell_type": "code",
   "execution_count": null,
   "id": "027f53b0-c80a-4676-9eaf-6ed645f8600b",
   "metadata": {},
   "outputs": [],
   "source": [
    "Q2. What are glyphs in Bokeh, and how can you add them to a Bokeh plot? Explain with an example."
   ]
  },
  {
   "cell_type": "code",
   "execution_count": null,
   "id": "31e2b9d3-8b5f-4bee-9204-2baf17b9aad0",
   "metadata": {},
   "outputs": [],
   "source": [
    "Ans:-Glyphs in Bokeh are the visual elements that are added to a plot to represent the data points. Bokeh provides a wide \n",
    "range of glyphs that can be used, including circles, squares, lines, and bars. You can also customize the appearance of the \n",
    "glyphs, such as changing the size, color, and transparency.\n",
    "\n",
    "To add glyphs to a Bokeh plot, we need to use the appropriate glyph function provided by Bokeh. For example, circle() can be\n",
    "used to add circles to a plot, square() can be used to add squares, and so on.\n",
    "\n",
    "example of adding glyphs to a Bokeh scatter plot:"
   ]
  },
  {
   "cell_type": "code",
   "execution_count": null,
   "id": "21aa7411-20ba-41e5-83a1-ed6feba41502",
   "metadata": {},
   "outputs": [],
   "source": [
    "from bokeh.plotting import figure, output_file, show\n",
    "import pandas as pd\n",
    "\n",
    "# Create some example data\n",
    "df = pd.DataFrame({\n",
    "    'x': [1, 2, 3, 4, 5],\n",
    "    'y': [2, 4, 6, 8, 10]\n",
    "})\n",
    "\n",
    "# Set up output file\n",
    "output_file(\"scatter.html\")\n",
    "\n",
    "# Create figure object\n",
    "p = figure(title=\"Simple Scatter Plot\", x_axis_label=\"X\", y_axis_label=\"Y\")\n",
    "\n",
    "# Adding scatter glyphs\n",
    "p.circle(df['x'], df['y'], size=10, color='red')\n",
    "\n",
    "# Show the plot\n",
    "show(p)\n"
   ]
  },
  {
   "cell_type": "code",
   "execution_count": null,
   "id": "77e3f271-e627-4786-b740-5945801315f7",
   "metadata": {},
   "outputs": [],
   "source": [
    "Q3. How can you customize the appearance of a Bokeh plot, including the axes, title, and legend?"
   ]
  },
  {
   "cell_type": "code",
   "execution_count": null,
   "id": "5682949d-6c46-41c1-9c13-e1a9c3914166",
   "metadata": {},
   "outputs": [],
   "source": [
    "We can customize the appearance of a Bokeh plot using various parameters provided by the Figure object. Here are some examples \n",
    "of how to customize the appearance of a Bokeh plot:"
   ]
  },
  {
   "cell_type": "code",
   "execution_count": null,
   "id": "2127898e-1e58-4329-8e6e-c6d81c57bb70",
   "metadata": {},
   "outputs": [],
   "source": [
    "1.Customising The Axes"
   ]
  },
  {
   "cell_type": "code",
   "execution_count": null,
   "id": "3528d3f1-2cb5-43c7-96c3-d0ab66143baa",
   "metadata": {},
   "outputs": [],
   "source": [
    "# Set the x and y axis labels\n",
    "p.xaxis.axis_label = \"X Label\"\n",
    "p.yaxis.axis_label = \"Y Label\"\n",
    "\n",
    "# Set the x and y axis ranges\n",
    "p.x_range = Range1d(0, 10)\n",
    "p.y_range = Range1d(0, 20)\n",
    "\n",
    "# Set the axis tick labels\n",
    "p.xaxis.major_label_orientation = \"vertical\""
   ]
  },
  {
   "cell_type": "code",
   "execution_count": null,
   "id": "1c9b93eb-0db3-415d-a84b-152938e3d526",
   "metadata": {},
   "outputs": [],
   "source": [
    "2.Customising the title"
   ]
  },
  {
   "cell_type": "code",
   "execution_count": null,
   "id": "3c2b4a1e-e1c1-417d-aac3-8df0d085ac88",
   "metadata": {},
   "outputs": [],
   "source": [
    "# Set the plot title\n",
    "p.title.text = \"My Plot Title\"\n",
    "p.title.text_color = \"red\"\n",
    "p.title.text_font_size = \"18pt\"\n"
   ]
  },
  {
   "cell_type": "code",
   "execution_count": null,
   "id": "3ce25f1d-78f0-4ec8-9df8-51d3cb667fd2",
   "metadata": {},
   "outputs": [],
   "source": [
    "3.Customising the legend"
   ]
  },
  {
   "cell_type": "code",
   "execution_count": null,
   "id": "f398a4cb-c8ff-4b51-b8b8-9b4db0a953d2",
   "metadata": {},
   "outputs": [],
   "source": [
    "# Add a legend\n",
    "p.circle(df['x'], df['y'], size=10, color='red', legend_label=\"Data Points\")\n",
    "p.line(df['x'], df['y'], color='blue', legend_label=\"Trend Line\")\n",
    "p.legend.location = \"top_left\"\n",
    "p.legend.title = \"Legend Title\"\n",
    "p.legend.title_text_font_size = \"14pt\""
   ]
  },
  {
   "cell_type": "code",
   "execution_count": null,
   "id": "2ccae345-b3d2-4b57-8966-54206ee38ba7",
   "metadata": {},
   "outputs": [],
   "source": [
    "Q4. What is a Bokeh server, and how can you use it to create interactive plots that can be updated in\n",
    "real time?"
   ]
  },
  {
   "cell_type": "code",
   "execution_count": null,
   "id": "dbb82ddb-e740-4d5b-b148-15cde1999539",
   "metadata": {},
   "outputs": [],
   "source": [
    "Ans:-A Bokeh server is a Python process that allows you to create and serve Bokeh documents, which can contain interactive \n",
    "     plots, widgets, and other components. The Bokeh server is built on top of the Tornado web framework and uses WebSockets \n",
    "     to communicate between the server and the web browser.\n",
    "\n",
    "    With a Bokeh server, you can create interactive plots that can be updated in real time as the user interacts with the plot.\n",
    "    For example, you can create a scatter plot where the user can select a subset of data points by clicking on them, and the \n",
    "    plot updates to show only the selected data points. You can also create widgets that allow the user to adjust parameters of \n",
    "    the plot, such as the x and y ranges or the size of the data points.\n",
    "\n",
    "    To use the Bokeh server, we first define a Bokeh document that contains the plot and any associated widgets. we then\n",
    "    start the server using the bokeh serve command, passing it the path to your Python script containing the Bokeh document.\n",
    "    Once the server is running, we can view the interactive plot in our web browser by navigating to the appropriate URL.\n",
    "\n",
    "    To update the plot in real time, we can define a Python function that updates the plot based on the user's interactions\n",
    "    with the plot or widgets. we can then use Bokeh's on_change or on_event methods to call this function whenever the user \n",
    "    interacts with the plot or widget.\n",
    "\n",
    "Overall, the Bokeh server provides a powerful way to create interactive plots that can be updated in real time, allowing us to\n",
    "explore our data and communicate our findings to others in a more dynamic and engaging way."
   ]
  },
  {
   "cell_type": "code",
   "execution_count": null,
   "id": "922f54a2-baa1-4fe6-9384-ecccb224e3c9",
   "metadata": {},
   "outputs": [],
   "source": [
    "Q5. How can you embed a Bokeh plot into a web page or dashboard using Flask or Django?"
   ]
  },
  {
   "cell_type": "code",
   "execution_count": null,
   "id": "ec5303ad-37cb-4c1e-911b-f69fd661ffb8",
   "metadata": {},
   "outputs": [],
   "source": [
    "Ans:- To embed a Bokeh plot into a web page or dashboard using Flask or Django, we can follow these general steps:\n",
    "\n",
    "1.Create a Bokeh document that contains the plot and any associated widgets. we can define the document using Python code, as \n",
    "described in the previous answers.\n",
    "\n",
    "2.Use the bokeh.embed module to generate the JavaScript and HTML code needed to embed the Bokeh plot into our web page or \n",
    "dashboard. This module provides several functions that allow us to generate different types of embed codes, depending on our needs.\n",
    "\n",
    "3.In our Flask or Django application, create a view function that returns the HTML code generated by the bokeh.embed module.\n",
    "This view function should render a template that includes the HTML code returned by the bokeh.embed module.\n",
    "\n",
    "4.In our web page or dashboard, include an iframe or other HTML element that displays the content returned by the view function.\n",
    "\n",
    "Here's an example of how to embed a Bokeh plot into a Flask application:"
   ]
  },
  {
   "cell_type": "code",
   "execution_count": null,
   "id": "6064a33d-dc3a-499f-a82e-3744b66217be",
   "metadata": {},
   "outputs": [],
   "source": [
    "from flask import Flask, render_template\n",
    "from bokeh.embed import components\n",
    "from bokeh.plotting import figure\n",
    "from bokeh.resources import CDN\n",
    "\n",
    "app = Flask(__name__)\n",
    "\n",
    "@app.route('/')\n",
    "def index():\n",
    "    # create a Bokeh plot\n",
    "    p = figure(title='My Bokeh Plot')\n",
    "    p.circle([1, 2, 3], [4, 5, 6])\n",
    "\n",
    "    # generate the JavaScript and HTML code for the plot\n",
    "    script, div = components(p, CDN)\n",
    "\n",
    "    # render a template that includes the plot\n",
    "    return render_template('index.html', script=script, div=div)\n",
    "\n",
    "if __name__ == '__main__':\n",
    "    app.run(debug=True)\n"
   ]
  },
  {
   "cell_type": "code",
   "execution_count": null,
   "id": "9f5273f3-4b52-4644-8c31-0b67d39ad75c",
   "metadata": {},
   "outputs": [],
   "source": [
    "In our index.html template, we would include the script and div variables returned by the index view function using the Jinja2\n",
    "templating language:"
   ]
  },
  {
   "cell_type": "code",
   "execution_count": null,
   "id": "95ef8fa1-44cf-4f0c-8378-07e182220949",
   "metadata": {},
   "outputs": [],
   "source": [
    "<!DOCTYPE html>\n",
    "<html>\n",
    "<head>\n",
    "    <title>My Bokeh Plot</title>\n",
    "    {{ script|safe }}\n",
    "</head>\n",
    "<body>\n",
    "    {{ div|safe }}\n",
    "</body>\n",
    "</html>\n"
   ]
  },
  {
   "cell_type": "code",
   "execution_count": null,
   "id": "28ca2131-9795-41e1-98c4-a29e84f494c5",
   "metadata": {},
   "outputs": [],
   "source": [
    "This template includes the script variable inside the <head> tag, and the div variable inside the <body> tag. When the \n",
    "template is rendered by Flask, the JavaScript and HTML code generated by Bokeh will be included in the final HTML page that is\n",
    "sent to the user's web browser."
   ]
  },
  {
   "cell_type": "code",
   "execution_count": null,
   "id": "f409fa86-a7fa-43ff-bf2d-643bd5cb57cd",
   "metadata": {},
   "outputs": [],
   "source": []
  },
  {
   "cell_type": "code",
   "execution_count": null,
   "id": "3b3ca2a6-2879-4491-aa4b-7523cb8b735a",
   "metadata": {},
   "outputs": [],
   "source": []
  }
 ],
 "metadata": {
  "kernelspec": {
   "display_name": "Python 3 (ipykernel)",
   "language": "python",
   "name": "python3"
  },
  "language_info": {
   "codemirror_mode": {
    "name": "ipython",
    "version": 3
   },
   "file_extension": ".py",
   "mimetype": "text/x-python",
   "name": "python",
   "nbconvert_exporter": "python",
   "pygments_lexer": "ipython3",
   "version": "3.10.8"
  }
 },
 "nbformat": 4,
 "nbformat_minor": 5
}
