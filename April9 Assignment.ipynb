{
 "cells": [
  {
   "cell_type": "code",
   "execution_count": null,
   "id": "bbea00d6-e8e1-417e-8b72-90f1bba97075",
   "metadata": {},
   "outputs": [],
   "source": [
    "Q1. What is Bayes' theorem?\n",
    "\n",
    "Ans:- Bayes' theorem is a fundamental concept in probability theory and statistics that describes how to update the probability\n",
    "of a hypothesis or event based on new evidence or information. It provides a mathematical framework for reasoning about \n",
    "uncertainty and making probabilistic inferences."
   ]
  },
  {
   "cell_type": "code",
   "execution_count": null,
   "id": "8d80380b-ae93-4747-8b80-1e1b81c42215",
   "metadata": {},
   "outputs": [],
   "source": [
    "Q2. What is the formula for Bayes' theorem?\n",
    "\n",
    "Ans:- The formula for Bayes' theorem is:\n",
    "\n",
    "P(A|B) = (P(B|A) * P(A)) / P(B)\n",
    "\n",
    "Where:\n",
    "\n",
    "P(A|B) is the probability of event A occurring given that event B has occurred.\n",
    "P(B|A) is the probability of event B occurring given that event A has occurred.\n",
    "P(A) and P(B) are the probabilities of events A and B occurring, respectively."
   ]
  },
  {
   "cell_type": "code",
   "execution_count": null,
   "id": "5748f3d1-71b7-4eca-a20a-124d9d937332",
   "metadata": {},
   "outputs": [],
   "source": [
    "Q3. How is Bayes' theorem used in practice?\n",
    "\n",
    "Ans:- Bayes' theorem is used in various practical applications, including but not limited to:\n",
    "\n",
    "1.Spam filtering: Bayes' theorem is used to classify emails as spam or non-spam by updating the probability of an email being\n",
    "spam based on the presence of certain words or characteristics.\n",
    "\n",
    "2.Medical diagnosis: Bayes' theorem is used to update the probability of a disease or condition given the results of diagnostic\n",
    "tests, helping doctors make informed decisions about patient diagnoses.\n",
    "\n",
    "3.Predictive modeling: Bayes' theorem is used in machine learning and data science to update the probabilities of different \n",
    "classes or events based on observed data, enabling accurate predictions and classifications.\n",
    "\n",
    "4.Risk assessment: Bayes' theorem is used to update the probability of certain events or risks occurring based on new information, \n",
    "aiding in decision-making and risk management.\n",
    "\n",
    "In practice, Bayes' theorem provides a systematic and logical approach to incorporating new evidence or data into existing \n",
    "knowledge or beliefs, allowing for more accurate and informed probabilistic reasoning."
   ]
  },
  {
   "cell_type": "code",
   "execution_count": null,
   "id": "16078c7d-9533-4d0a-b824-2d951ebc7f75",
   "metadata": {},
   "outputs": [],
   "source": [
    "Q4. What is the relationship between Bayes' theorem and conditional probability?\n",
    "\n",
    "Ans:- Bayes' theorem and conditional probability are closely related concepts. Bayes' theorem is derived from conditional\n",
    "probability. Conditional probability measures the probability of an event occurring given that another event has already \n",
    "occurred. Bayes' theorem provides a mathematical framework to calculate the conditional probability in reverse, i.e., to \n",
    "calculate the probability of the event that caused the observed evidence, given the conditional probability of the evidence\n",
    "given the event. In other words, Bayes' theorem allows us to update our beliefs or probabilities based on new evidence or \n",
    "observations."
   ]
  },
  {
   "cell_type": "code",
   "execution_count": null,
   "id": "2b4f63fa-4b6b-4c48-a48b-f3a8fe2dc3a8",
   "metadata": {},
   "outputs": [],
   "source": [
    "Q5. How do you choose which type of Naive Bayes classifier to use for any given problem?\n",
    "\n",
    "Ans:-When choosing the type of Naive Bayes classifier for a given problem, the decision depends on the characteristics of the\n",
    "problem and the assumptions that can be made about the independence between features.\n",
    "\n",
    "There are different types of Naive Bayes classifiers, such as Gaussian Naive Bayes, Multinomial Naive Bayes, and Bernoulli \n",
    "Naive Bayes. The choice depends on the nature of the input data.\n",
    "\n",
    "1.Gaussian Naive Bayes: It assumes that the features follow a Gaussian (normal) distribution. It is suitable for continuous or \n",
    "numeric features.\n",
    "\n",
    "2.Multinomial Naive Bayes: It assumes that the features have discrete counts and follow a multinomial distribution. It is\n",
    "commonly used for text classification problems where features represent word occurrences or frequencies.\n",
    "\n",
    "3.Bernoulli Naive Bayes: It assumes that the features are binary variables (0s and 1s). It is suitable for binary or boolean \n",
    "features.\n",
    "\n",
    "To choose the appropriate type of Naive Bayes classifier, you need to consider the nature of the features in your problem. \n",
    "If your features are continuous, Gaussian Naive Bayes might be suitable. If your features are discrete or represent word \n",
    "occurrences, Multinomial Naive Bayes can be a good choice. If your features are binary, Bernoulli Naive Bayes might be appropriate.\n",
    "\n",
    "It's important to note that the \"naive\" assumption in Naive Bayes assumes independence between features, which might not hold\n",
    "true in all cases. Therefore, the choice of the Naive Bayes classifier should be made by considering the specific characteristics \n",
    "and assumptions of the problem at hand."
   ]
  },
  {
   "cell_type": "code",
   "execution_count": null,
   "id": "a677d832-48a3-4611-940f-9ff7eb1e83b0",
   "metadata": {},
   "outputs": [],
   "source": [
    "Q6. Assignment:\n",
    "You have a dataset with two features, X1 and X2, and two possible classes, A and B. You want to use Naive\n",
    "Bayes to classify a new instance with features X1 = 3 and X2 = 4. The following table shows the frequency of\n",
    "each feature value for each class:\n",
    "Class X1=1 X1=2 X1=3 X2=1 X2=2 X2=3 X2=4\n",
    "A 3 3 4 4 3 3 3\n",
    "B 2 2 1 2 2 2 3\n",
    "Assuming equal prior probabilities for each class, which class would Naive Bayes predict the new instance\n",
    "to belong to?"
   ]
  },
  {
   "cell_type": "code",
   "execution_count": null,
   "id": "619483ca-8fb7-4d2d-b2cc-29850fe11203",
   "metadata": {},
   "outputs": [],
   "source": [
    "\n",
    "To predict the class of the new instance using Naive Bayes, we need to calculate the conditional probabilities for each class \n",
    "based on the given dataset. We assume equal prior probabilities for each class, which means P(A) = P(B) = 0.5.\n",
    "\n",
    "First, let's calculate the conditional probabilities for class A and class B based on the given dataset:\n",
    "\n",
    "P(X1 = 3 | A) = 4/13\n",
    "P(X2 = 4 | A) = 3/13\n",
    "\n",
    "P(X1 = 3 | B) = 1/10\n",
    "P(X2 = 4 | B) = 3/10\n",
    "\n",
    "Next, we calculate the likelihood for the new instance (X1 = 3, X2 = 4) for each class by multiplying the conditional probabilities:\n",
    "\n",
    "P(X1 = 3, X2 = 4 | A) = P(X1 = 3 | A) * P(X2 = 4 | A) = (4/13) * (3/13) = 12/169\n",
    "\n",
    "P(X1 = 3, X2 = 4 | B) = P(X1 = 3 | B) * P(X2 = 4 | B) = (1/10) * (3/10) = 3/100\n",
    "\n",
    "Since we assume equal prior probabilities for each class, the prior probabilities P(A) and P(B) do not affect the classification\n",
    "decision.\n",
    "\n",
    "Now, we can compare the likelihoods for each class:\n",
    "\n",
    "Likelihood for class A: P(X1 = 3, X2 = 4 | A) = 12/169\n",
    "Likelihood for class B: P(X1 = 3, X2 = 4 | B) = 3/100\n",
    "\n",
    "Based on these likelihoods, the Naive Bayes classifier would predict the new instance (X1 = 3, X2 = 4) to belong to class A, \n",
    "as it has a higher likelihood compared to class B.\n",
    "\n",
    "Therefore, Naive Bayes would classify the new instance with features X1 = 3 and X2 = 4 as belonging to class A."
   ]
  }
 ],
 "metadata": {
  "kernelspec": {
   "display_name": "Python 3 (ipykernel)",
   "language": "python",
   "name": "python3"
  },
  "language_info": {
   "codemirror_mode": {
    "name": "ipython",
    "version": 3
   },
   "file_extension": ".py",
   "mimetype": "text/x-python",
   "name": "python",
   "nbconvert_exporter": "python",
   "pygments_lexer": "ipython3",
   "version": "3.10.8"
  }
 },
 "nbformat": 4,
 "nbformat_minor": 5
}
