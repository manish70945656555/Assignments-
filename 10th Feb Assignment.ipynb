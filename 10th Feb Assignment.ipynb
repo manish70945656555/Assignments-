{
 "cells": [
  {
   "cell_type": "code",
   "execution_count": null,
   "id": "aa61c801-5b33-4b13-9e0f-ae0c16daa00a",
   "metadata": {},
   "outputs": [],
   "source": [
    "Q1. Which function is used to open a file? What are the different modes of opening a file? Explain each mode\n",
    "of file opening.\n",
    "\n",
    "Ans:- To Open a file in file handling we use open() \n",
    "     Different Modes of opening a file \n",
    "    There are 6 modes in python to oprn a file.\n",
    "    1.Read Only ('r') : Open text file for reading.\n",
    "      - The handle is positioned at the beginning of the file. If the file does not exists, raises the I/O error. This is also\n",
    "        the default mode in which a file is opened.\n",
    "   \n",
    "    2.Read and Write ('r+'): Open the file for reading and writing.\n",
    "      - The handle is positioned at the beginning of the file. Raises I/O error if the file does not exist.\n",
    "    \n",
    "    3.Write Only ('w') : Open the file for writing.\n",
    "      -For the existing files, the data is truncated and over-written. The handle is positioned at the beginning of the file.\n",
    "       Creates the file if the file does not exist.\n",
    "    \n",
    "    4.Write and Read ('w+') : Open the file for reading and writing.\n",
    "      - For an existing file, data is truncated and over-written. The handle is positioned at the beginning of the file.\n",
    "    \n",
    "    5.Append Only ('a'): Open the file for writing\n",
    "      - The file is created if it does not exist. The handle is positioned at the end of the file. The data being written\n",
    "        will be inserted at the end, after the existing data.\n",
    "    \n",
    "    6.Append and Read (‘a+’) : Open the file for reading and writing.\n",
    "      - The file is created if it does not exist. The handle is positioned at the end of the file.\n",
    "        The data being written will be inserted at the end, after the existing data."
   ]
  },
  {
   "cell_type": "code",
   "execution_count": null,
   "id": "55a4ef18-fbf8-4dd8-afe1-e64deb6853fd",
   "metadata": {},
   "outputs": [],
   "source": [
    "Q2. Why close() function is used? Why is it important to close a file?\n",
    "Ans :- The close() function is used to release the system resources (such as memory) that were being used by an open file. \n",
    "      It's important to close a file after it has been used because leaving a file open can lead to problems such as memory \n",
    "      leaks, decreased performance, and even data corruption in some cases. Closing a file ensures that any changes made to \n",
    "      the file are saved and any resources used by the file are freed up."
   ]
  },
  {
   "cell_type": "code",
   "execution_count": null,
   "id": "c8d963e9-f5ca-4f66-8056-4fb35c4c7925",
   "metadata": {},
   "outputs": [],
   "source": [
    "Q3. Write a python program to create a text file. Write ‘I want to become a Data Scientist’ in that file. Then\n",
    "close the file. Open this file and read the content of the file."
   ]
  },
  {
   "cell_type": "code",
   "execution_count": 2,
   "id": "1004a3cd-3daa-4c44-97e5-1cdf505958fd",
   "metadata": {},
   "outputs": [
    {
     "data": {
      "text/plain": [
       "'i want to become a Data Scientist'"
      ]
     },
     "execution_count": 2,
     "metadata": {},
     "output_type": "execute_result"
    }
   ],
   "source": [
    "f=open(\"test.txt\",\"w\")\n",
    "f.write(\"i want to become a Data Scientist\")\n",
    "f.close()\n",
    "f=open(\"test.txt\",\"r\")\n",
    "f.read()"
   ]
  },
  {
   "cell_type": "code",
   "execution_count": null,
   "id": "aa30df31-30da-4c1a-a25f-8a578470beb0",
   "metadata": {},
   "outputs": [],
   "source": [
    "Q4. Explain the following with python code: read(), readline() and readlines().\n",
    "\n",
    "Ans :- 1.read() method:\n",
    "       - The read() method reads the entire contents of a file and returns it as a single string. Here's an example:\n",
    "# Open a file in read mode\n",
    "file = open(\"example.txt\", \"r\")\n",
    "\n",
    "# Read the entire contents of the file\n",
    "contents = file.read()\n",
    "\n",
    "# Close the file\n",
    "file.close()\n",
    "\n",
    "# Print the contents\n",
    "print(contents)\n",
    "\n",
    "2.readline() method:\n",
    "The readline() method reads one line of the file at a time. Here's an example:\n",
    "\n",
    "# Open a file in read mode\n",
    "file = open(\"example.txt\", \"r\")\n",
    "\n",
    "# Read the first line of the file\n",
    "line1 = file.readline()\n",
    "\n",
    "# Read the second line of the file\n",
    "line2 = file.readline()\n",
    "\n",
    "# Close the file\n",
    "file.close()\n",
    "\n",
    "# Print the lines\n",
    "print(line1)\n",
    "print(line2)\n",
    "\n",
    "\n",
    "3. readlines() method:\n",
    "The readlines() method reads all the lines of a file and returns them as a list. Here's an example:\n",
    "\n",
    "# Open a file in read mode\n",
    "file = open(\"example.txt\", \"r\")\n",
    "\n",
    "# Read all the lines of the file\n",
    "lines = file.readlines()\n",
    "\n",
    "# Close the file\n",
    "file.close()\n",
    "\n",
    "# Print the lines\n",
    "print(lines)\n"
   ]
  },
  {
   "cell_type": "code",
   "execution_count": null,
   "id": "fbdbdce0-1ad8-4a57-9776-06dfaab140e5",
   "metadata": {},
   "outputs": [],
   "source": [
    "Q5. Explain why with statement is used with open(). What is the advantage of using with statement and\n",
    "open() together?\n",
    "\n",
    "Ans:-The with statement is used with the open() function in Python to ensure that a file is properly closed after it has been\n",
    "     used. The advantage of using with statement and open() together is that it simplifies the code and makes it more readable,\n",
    "    while also ensuring that the file is properly closed.\n",
    "\n",
    "Here's an example of how to use with statement and open() together:\n",
    "\n",
    "# Open a file and read its contents using with statement\n",
    "with open(\"example.txt\", \"r\") as file:\n",
    "    contents = file.read()\n",
    "    \n",
    "# The file is automatically closed when the with block is exited\n",
    "# Print the contents\n",
    "print(contents)\n"
   ]
  },
  {
   "cell_type": "code",
   "execution_count": null,
   "id": "013c5f62-55e8-4ddf-b873-25365b807b27",
   "metadata": {},
   "outputs": [],
   "source": [
    "Q6. Explain the write() and writelines() functions. Give a suitable example.\n",
    "\n",
    "Ans:- write() function:\n",
    "      The write() function writes a string of data to a file. If the file doesn't exist, it will be created. \n",
    "      If it does exist, the data will be appended to the end of the file. Here's an example:\n",
    "\n",
    "# Open a file in write mode\n",
    "file = open(\"example.txt\", \"w\")\n",
    "\n",
    "# Write a string to the file\n",
    "file.write(\"This is some example text.\")\n",
    "\n",
    "# Close the file\n",
    "file.close()\n",
    "\n",
    "\n",
    "2.writelines() function:\n",
    "The writelines() function writes a list of strings to a file. Each string in the list is written to the file as a \n",
    "separate line. Here's an example:\n",
    "\n",
    "# Open a file in write mode\n",
    "file = open(\"example.txt\", \"w\")\n",
    "\n",
    "# Write a list of strings to the file\n",
    "lines = [\"This is line 1.\", \"This is line 2.\", \"This is line 3.\"]\n",
    "file.writelines(lines)\n",
    "\n",
    "# Close the file\n",
    "file.close()\n"
   ]
  }
 ],
 "metadata": {
  "kernelspec": {
   "display_name": "Python 3 (ipykernel)",
   "language": "python",
   "name": "python3"
  },
  "language_info": {
   "codemirror_mode": {
    "name": "ipython",
    "version": 3
   },
   "file_extension": ".py",
   "mimetype": "text/x-python",
   "name": "python",
   "nbconvert_exporter": "python",
   "pygments_lexer": "ipython3",
   "version": "3.10.8"
  }
 },
 "nbformat": 4,
 "nbformat_minor": 5
}
