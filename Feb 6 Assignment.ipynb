{
 "cells": [
  {
   "cell_type": "code",
   "execution_count": null,
   "id": "24725676-bd9f-4597-9403-179ee2b1ce76",
   "metadata": {},
   "outputs": [],
   "source": [
    "Q1. Create a function which will take a list as an argument and return the product of all the numbers\n",
    "after creating a flat list.\n",
    "Use the below-given list as an argument for your function.\n",
    "list1 = [1,2,3,4, [44,55,66, True], False, (34,56,78,89,34), {1,2,3,3,2,1}, {1:34, \"key2\": [55, 67, 78, 89], 4: (45,\n",
    "22, 61, 34)}, [56, 'data science'], 'Machine Learning']\n",
    "Note: you must extract numeric keys and values of the dictionary also."
   ]
  },
  {
   "cell_type": "code",
   "execution_count": 18,
   "id": "a17b2508-ce91-460f-b56f-20fd4c0a2e67",
   "metadata": {},
   "outputs": [
    {
     "name": "stdout",
     "output_type": "stream",
     "text": [
      "689118639831180913138973540352000\n"
     ]
    }
   ],
   "source": [
    "def get_product_of_numbers(lst):\n",
    "    flat_list = []\n",
    "    def flatten(l):\n",
    "        for item in l:\n",
    "            if type(item) in (int, float):\n",
    "                flat_list.append(item)\n",
    "            elif isinstance(item, list):\n",
    "                flatten(item)\n",
    "            elif isinstance(item, tuple):\n",
    "                flatten(item)\n",
    "            elif isinstance(item, dict):\n",
    "                for key, value in item.items():\n",
    "                    if type(key) in (int, float):\n",
    "                        flat_list.append(key)\n",
    "                    if type(value) in (int, float):\n",
    "                        flat_list.append(value)\n",
    "                    if isinstance(value, list):\n",
    "                        flatten(value)\n",
    "                    if isinstance(value, tuple):\n",
    "                        flatten(value)\n",
    "    flatten(lst)\n",
    "    product = 1\n",
    "    for item in flat_list:\n",
    "        product *= item\n",
    "    return product\n",
    "\n",
    "list1 = [1, 2, 3, 4, [44, 55, 66, True], False, (34, 56, 78, 89, 34), {1, 2, 3, 3, 2, 1}, {1: 34, \"key2\": [55, 67, 78, 89], 4: (45, 22, 61, 34)}, [56, 'data science'], 'Machine Learning']\n",
    "result = get_product_of_numbers(list1)\n",
    "print(result)\n"
   ]
  },
  {
   "cell_type": "code",
   "execution_count": null,
   "id": "fcd6d080-9f27-4ef6-b98e-c8eceb48393f",
   "metadata": {},
   "outputs": [],
   "source": [
    "Q2. Write a python program for encrypting a message sent to you by your friend. The logic of encryption\n",
    "should be such that, for a the output should be z. For b, the output should be y. For c, the output should\n",
    "be x respectively. Also, the whitespace should be replaced with a dollar sign. Keep the punctuation\n",
    "marks unchanged.\n",
    "Input Sentence: I want to become a Data Scientist.\n",
    "Encrypt the above input sentence using the program you just created.\n",
    "Note: Convert the given input sentence into lowercase before encrypting. The final output should be\n",
    "lowercase."
   ]
  },
  {
   "cell_type": "code",
   "execution_count": 27,
   "id": "6ba18c6e-80ea-4bc8-b1a0-99de7fed5589",
   "metadata": {},
   "outputs": [
    {
     "name": "stdout",
     "output_type": "stream",
     "text": [
      "i$wznt$to$yexome$z$dztz$sxientist.\n"
     ]
    }
   ],
   "source": [
    "\n",
    "def output_msg(message):\n",
    "    result = ''\n",
    "    for char in list(message):\n",
    "        if char==\"a\":\n",
    "            result+= 'z'\n",
    "        elif char == \"b\":\n",
    "            result+= 'y'\n",
    "        elif char == \"c\":\n",
    "            result+= 'x'    \n",
    "        elif char.isspace():\n",
    "            result += '$'\n",
    "        else:\n",
    "            result += char\n",
    "    return result\n",
    "\n",
    "input_sentence = \"I want to become a Data Scientist.\"\n",
    "output_msg = output_msg(input_sentence.lower())\n",
    "print(output_msg)"
   ]
  },
  {
   "cell_type": "code",
   "execution_count": null,
   "id": "7d531cd8-7b51-46e1-9093-708c5acea026",
   "metadata": {},
   "outputs": [],
   "source": []
  }
 ],
 "metadata": {
  "kernelspec": {
   "display_name": "Python 3 (ipykernel)",
   "language": "python",
   "name": "python3"
  },
  "language_info": {
   "codemirror_mode": {
    "name": "ipython",
    "version": 3
   },
   "file_extension": ".py",
   "mimetype": "text/x-python",
   "name": "python",
   "nbconvert_exporter": "python",
   "pygments_lexer": "ipython3",
   "version": "3.10.8"
  }
 },
 "nbformat": 4,
 "nbformat_minor": 5
}
