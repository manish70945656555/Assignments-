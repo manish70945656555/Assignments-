{
 "cells": [
  {
   "cell_type": "code",
   "execution_count": null,
   "id": "ac1514de-f30f-4be2-9ec9-1242d7adc8a7",
   "metadata": {},
   "outputs": [],
   "source": [
    "Q1. List any five functions of the pandas library with execution.\n",
    "Ans:-\n",
    "1.read_csv(): This function is used to read data from a CSV file and create a DataFrame object.\n",
    "Ex:-import pandas as pd\n",
    "    df = pd.read_csv('data.csv')\n",
    "    print(df.head())\n",
    "    \n",
    "2.describe(): This function is used to generate descriptive statistics of a DataFrame or a Series.\n",
    "Ex:-import pandas as pd\n",
    "    df = pd.read_csv('data.csv')\n",
    "    print(df.describe())\n",
    "\n",
    "3.groupby(): This function is used to group data in a DataFrame based on one or more columns.\n",
    "Ex:-import pandas as pd\n",
    "    df = pd.read_csv('data.csv')\n",
    "    grouped = df.groupby('Category')\n",
    "    print(grouped.mean())\n",
    "\n",
    "4.fillna(): This function is used to fill missing values in a DataFrame or a Series with a specified value or method\n",
    "Ex:-import pandas as pd\n",
    "    df = pd.read_csv('data.csv')\n",
    "    df.fillna(0, inplace=True)\n",
    "    print(df.head())\n",
    "\n",
    "5.to_csv(): This function is used to write data from a DataFrame to a CSV file.\n",
    "Ex:- import pandas as pd\n",
    "     df = pd.read_csv('data.csv')\n",
    "     df.to_csv('new_data.csv', index=False)\n"
   ]
  },
  {
   "cell_type": "code",
   "execution_count": null,
   "id": "8ea7dd5f-391e-49c8-a761-7ed74a51f64a",
   "metadata": {},
   "outputs": [],
   "source": [
    "Q2. Given a Pandas DataFrame df with columns 'A','B', and 'C', write a Python function to re-index the\n",
    "DataFrame with a new index that starts from 1 and increments by 2 for each row."
   ]
  },
  {
   "cell_type": "code",
   "execution_count": 7,
   "id": "3a8e9739-4b08-4fd2-beca-27e1b7120f2d",
   "metadata": {},
   "outputs": [
    {
     "name": "stdout",
     "output_type": "stream",
     "text": [
      "Original DataFrame:\n",
      "   A  B  C\n",
      "0  1  4  7\n",
      "1  2  5  8\n",
      "2  3  6  9\n",
      "\n",
      "DataFrame with new index:\n",
      "   A  B  C\n",
      "1  1  4  7\n",
      "3  2  5  8\n",
      "5  3  6  9\n"
     ]
    }
   ],
   "source": [
    "import pandas as pd\n",
    "def reindex_df(df):\n",
    "    new_index = range(1, 2*len(df)+1, 2)  # generate new index\n",
    "    df = df.set_index(pd.Index(new_index))  # set new index\n",
    "    return df\n",
    "df = pd.DataFrame({'A': [1, 2, 3], 'B': [4, 5, 6], 'C': [7, 8, 9]})\n",
    "print(\"Original DataFrame:\")\n",
    "print(df)\n",
    "\n",
    "df = reindex_df(df)\n",
    "print(\"\\nDataFrame with new index:\")\n",
    "print(df)\n"
   ]
  },
  {
   "cell_type": "code",
   "execution_count": null,
   "id": "61ee443f-b97a-4b50-9ebf-8720a50a62c6",
   "metadata": {},
   "outputs": [],
   "source": [
    "Q3. You have a Pandas DataFrame df with a column named 'Values'. Write a Python function that\n",
    "iterates over the DataFrame and calculates the sum of the first three values in the 'Values' column. The\n",
    "function should print the sum to the console.\n",
    "For example, if the 'Values' column of df contains the values [10, 20, 30, 40, 50], your function should\n",
    "calculate and print the sum of the first three values, which is 60."
   ]
  },
  {
   "cell_type": "code",
   "execution_count": 10,
   "id": "5bece9ea-511d-46d8-b674-305a0b5271d2",
   "metadata": {},
   "outputs": [
    {
     "name": "stdout",
     "output_type": "stream",
     "text": [
      "Sum of the first three values in 'Values' column: 60\n"
     ]
    }
   ],
   "source": [
    "import pandas as pd\n",
    "def calc_sum_3(df):\n",
    "    first_three_values = df['Values'][:3]\n",
    "    sum_of_three_values = sum(first_three_values)\n",
    "    print(\"Sum of the first three values in 'Values' column:\", sum_of_three_values)\n",
    "\n",
    "df = pd.DataFrame({'Values':[10, 20, 30, 40, 50]})\n",
    "calc_sum_3(df)"
   ]
  },
  {
   "cell_type": "code",
   "execution_count": null,
   "id": "acc25949-0277-4247-b813-c4bd9d811b04",
   "metadata": {},
   "outputs": [],
   "source": [
    "Q4. Given a Pandas DataFrame df with a column 'Text', write a Python function to create a new column\n",
    "'Word_Count' that contains the number of words in each row of the 'Text' column."
   ]
  },
  {
   "cell_type": "code",
   "execution_count": 11,
   "id": "fe062769-23f7-4a1d-b2ec-8d4e77602708",
   "metadata": {},
   "outputs": [
    {
     "name": "stdout",
     "output_type": "stream",
     "text": [
      "                           Text  Word_Count\n",
      "0                This is a test           4\n",
      "1  Another test with more words           5\n"
     ]
    }
   ],
   "source": [
    "import pandas as pd\n",
    "def word_counting (df):\n",
    "    df['Word_Count'] = df['Text'].apply(lambda x : len(str(x).split(\" \")))\n",
    "    return df\n",
    "\n",
    "df = pd.DataFrame({'Text': ['This is a test', 'Another test with more words']})\n",
    "df = word_counting(df)\n",
    "print(df)\n"
   ]
  },
  {
   "cell_type": "code",
   "execution_count": null,
   "id": "371a0349-bbfe-4b69-b75b-3fbfb5780feb",
   "metadata": {},
   "outputs": [],
   "source": [
    "Q5. How are DataFrame.size() and DataFrame.shape() different?\n",
    "Ans:-  DataFrame.size() :- it returns the total number of elements in the dataframe. it is equavilent to number of rows \n",
    "multiplied by number of columns in dataframe.\n",
    "\n",
    "Dataframe.Shape() :-  returns a tuple containing the number of rows and columns in the DataFrame, respectively. The first \n",
    "element of the tuple is the number of rows, and the second element is the number of columns.\n",
    "\n",
    "In summary, DataFrame.size() returns the total number of elements in the DataFrame, while DataFrame.shape() returns the \n",
    "number of rows and columns in the DataFrame as a tuple."
   ]
  },
  {
   "cell_type": "code",
   "execution_count": null,
   "id": "a235beef-b541-4ed3-b9b4-96950f20b5b1",
   "metadata": {},
   "outputs": [],
   "source": [
    "Q6. Which function of pandas do we use to read an excel file?\n",
    "Ans:-To read an Excel file in pandas, we can use the read_excel() function. This function is part of the pandas library\n",
    "and allows us to read an Excel file into a pandas DataFrame.\n",
    "\n",
    "The basic syntax of the read_excel() function is as follows:"
   ]
  },
  {
   "cell_type": "code",
   "execution_count": null,
   "id": "9a1adb34-72c3-4cf4-945d-a8a0e2340232",
   "metadata": {},
   "outputs": [],
   "source": [
    "import pandas as pd\n",
    "\n",
    "df = pd.read_excel('filename.xlsx', sheet_name='Sheet1')\n"
   ]
  },
  {
   "cell_type": "code",
   "execution_count": null,
   "id": "93d3cb51-21c7-4ba4-ba00-e2c3b4cafe09",
   "metadata": {},
   "outputs": [],
   "source": [
    "Here, filename.xlsx is the name of the Excel file we want to read, and Sheet1 is the name of the worksheet we want to \n",
    "read from the Excel file. If we don't specify the sheet name, the read_excel() function will read the first sheet in the\n",
    "Excel file by default.\n",
    "\n",
    "We can also specify other optional parameters to customize the way the Excel file is read, such as the range of cells to\n",
    "read, the header row, and the data types of the columns. The read_excel() function is quite flexible and can handle a \n",
    "wide range of Excel file formats and configurations."
   ]
  },
  {
   "cell_type": "code",
   "execution_count": null,
   "id": "15865dfb-396d-47a3-b2ef-bcee30058586",
   "metadata": {},
   "outputs": [],
   "source": [
    "Q7. You have a Pandas DataFrame df that contains a column named 'Email' that contains email\n",
    "addresses in the format 'username@domain.com'. Write a Python function that creates a new column\n",
    "'Username' in df that contains only the username part of each email address.\n",
    "The username is the part of the email address that appears before the '@' symbol. For example, if the\n",
    "email address is 'john.doe@example.com', the 'Username' column should contain 'john.doe'. Your\n",
    "function should extract the username from each email address and store it in the new 'Username'\n",
    "column."
   ]
  },
  {
   "cell_type": "code",
   "execution_count": 2,
   "id": "ebf2d9b3-cfca-40de-8de0-c5c9bf4e9969",
   "metadata": {},
   "outputs": [
    {
     "name": "stdout",
     "output_type": "stream",
     "text": [
      "                    Email    Username\n",
      "0    john.doe@example.com    john.doe\n",
      "1    jane.doe@example.com    jane.doe\n",
      "2  joe.bloggs@example.com  joe.bloggs\n"
     ]
    }
   ],
   "source": [
    "import pandas as pd\n",
    "def Username_Col_Generate(df):\n",
    "    df['Username'] = df['Email'].str.extract(r'^([^@]+)@')\n",
    "    return df\n",
    "\n",
    "# Create a sample DataFrame\n",
    "df = pd.DataFrame({'Email': ['john.doe@example.com', 'jane.doe@example.com', 'joe.bloggs@example.com']})\n",
    "\n",
    "# Call the extract_username function to extract the usernames\n",
    "df = Username_Col_Generate(df)\n",
    "\n",
    "# Print the modified DataFrame\n",
    "print(df)\n"
   ]
  },
  {
   "cell_type": "code",
   "execution_count": null,
   "id": "01e88795-000a-4d73-958d-e52b3dbcfea2",
   "metadata": {},
   "outputs": [],
   "source": [
    "Q8. You have a Pandas DataFrame df with columns 'A', 'B', and 'C'. Write a Python function that selects\n",
    "all rows where the value in column 'A' is greater than 5 and the value in column 'B' is less than 10. The\n",
    "function should return a new DataFrame that contains only the selected rows.\n",
    "For example, if df contains the following values:\n",
    "A B C\n",
    "0 3 5 1\n",
    "1 8 2 7\n",
    "2 6 9 4\n",
    "3 2 3 5\n",
    "4 9 1 2\n",
    "Your function should select the following rows: A B C\n",
    "1 8 2 7\n",
    "4 9 1 2\n",
    "The function should return a new DataFrame that contains only the selected rows."
   ]
  },
  {
   "cell_type": "code",
   "execution_count": 5,
   "id": "c13b1884-720f-41df-a404-e2188935ae04",
   "metadata": {},
   "outputs": [
    {
     "name": "stdout",
     "output_type": "stream",
     "text": [
      "   A  B  C\n",
      "1  8  2  7\n",
      "3  9  1  2\n"
     ]
    }
   ],
   "source": [
    "import pandas as pd\n",
    "\n",
    "def select_rows(df):\n",
    "    # Use boolean indexing to select rows where A > 5 and B < 10\n",
    "    selected_rows = df[(df['A'] > 5) & (df['B'] < 10)]\n",
    "\n",
    "    return selected_rows\n",
    "\n",
    "\n",
    "# Create a sample DataFrame\n",
    "df = pd.DataFrame({'A': [3, 8, 2, 9], 'B': [5, 2, 3, 1], 'C': [1, 7, 5, 2]})\n",
    "\n",
    "# Call the select_rows function to select the rows\n",
    "selected_rows = select_rows(df)\n",
    "\n",
    "# Print the selected rows\n",
    "print(selected_rows)\n"
   ]
  },
  {
   "cell_type": "code",
   "execution_count": null,
   "id": "f3da5c1a-113d-488e-9cdf-a523f4f4f8d6",
   "metadata": {},
   "outputs": [],
   "source": [
    "Q9. Given a Pandas DataFrame df with a column 'Values', write a Python function to calculate the mean,\n",
    "median, and standard deviation of the values in the 'Values' column."
   ]
  },
  {
   "cell_type": "code",
   "execution_count": 7,
   "id": "3839e021-01f7-4297-b2db-14e26f4fa397",
   "metadata": {},
   "outputs": [
    {
     "name": "stdout",
     "output_type": "stream",
     "text": [
      "Mean: 6.0\n",
      "Median: 6.0\n",
      "Standard deviation: 3.1622776601683795\n"
     ]
    }
   ],
   "source": [
    "import pandas as pd\n",
    "def calc_stats(df):\n",
    "    mean_value = df['Values'].mean()\n",
    "    median_value = df['Values'].median()\n",
    "    std_value = df['Values'].std()\n",
    "    return mean_value, median_value, std_value\n",
    "\n",
    "df = pd.DataFrame({'Values':[2, 4, 6, 8, 10]})\n",
    "# Call the calculate_stats function to calculate the statistics\n",
    "mean_value, median_value, std_value = calc_stats(df)\n",
    "\n",
    "# Print the calculated statistics\n",
    "print('Mean:', mean_value)\n",
    "print('Median:', median_value)\n",
    "print('Standard deviation:', std_value)"
   ]
  },
  {
   "cell_type": "code",
   "execution_count": null,
   "id": "caae621b-eb46-4686-a9d9-0ebd19fc6db7",
   "metadata": {},
   "outputs": [],
   "source": [
    "Q10. Given a Pandas DataFrame df with a column 'Sales' and a column 'Date', write a Python function to\n",
    "create a new column 'MovingAverage' that contains the moving average of the sales for the past 7 days\n",
    "for each row in the DataFrame. The moving average should be calculated using a window of size 7 and\n",
    "should include the current day."
   ]
  },
  {
   "cell_type": "code",
   "execution_count": 8,
   "id": "379f40d8-01d6-460f-b8b2-6ebac3d40c8e",
   "metadata": {},
   "outputs": [
    {
     "name": "stdout",
     "output_type": "stream",
     "text": [
      "   Sales       Date  MovingAverage\n",
      "0    100 2022-01-01          100.0\n",
      "1    200 2022-01-02          150.0\n",
      "2    300 2022-01-03          200.0\n",
      "3    400 2022-01-04          250.0\n",
      "4    500 2022-01-05          300.0\n",
      "5    600 2022-01-06          350.0\n",
      "6    700 2022-01-07          400.0\n",
      "7    800 2022-01-08          500.0\n",
      "8    900 2022-01-09          600.0\n",
      "9   1000 2022-01-10          700.0\n"
     ]
    }
   ],
   "source": [
    "import pandas as pd\n",
    "\n",
    "def calculate_moving_average(df):\n",
    "    # Calculate the moving average using a rolling window of size 7\n",
    "    df['MovingAverage'] = df['Sales'].rolling(window=7, min_periods=1).mean()\n",
    "    \n",
    "    # Return the updated DataFrame\n",
    "    return df\n",
    "# Create a sample DataFrame\n",
    "dates = pd.date_range(start='2022-01-01', end='2022-01-10')\n",
    "sales = [100, 200, 300, 400, 500, 600, 700, 800, 900, 1000]\n",
    "df = pd.DataFrame({'Sales': sales, 'Date': dates})\n",
    "\n",
    "# Call the calculate_moving_average function to calculate the moving average\n",
    "df = calculate_moving_average(df)\n",
    "\n",
    "# Print the updated DataFrame\n",
    "print(df)\n"
   ]
  },
  {
   "cell_type": "code",
   "execution_count": null,
   "id": "50abbb9e-b082-49ae-9526-473494bdb7f8",
   "metadata": {},
   "outputs": [],
   "source": [
    "Q11. You have a Pandas DataFrame df with a column 'Date'. Write a Python function that creates a new\n",
    "column 'Weekday' in the DataFrame. The 'Weekday' column should contain the weekday name (e.g.\n",
    "Monday, Tuesday) corresponding to each date in the 'Date' column.\n",
    "For example, if df contains the following values:\n",
    "Date\n",
    "0 2023-01-01\n",
    "1 2023-01-02\n",
    "2 2023-01-03\n",
    "3 2023-01-04\n",
    "4 2023-01-05\n",
    "Your function should create the following DataFrame:\n",
    "\n",
    "Date Weekday\n",
    "0 2023-01-01 Sunday\n",
    "1 2023-01-02 Monday\n",
    "2 2023-01-03 Tuesday\n",
    "3 2023-01-04 Wednesday\n",
    "4 2023-01-05 Thursday\n",
    "The function should return the modified DataFrame."
   ]
  },
  {
   "cell_type": "code",
   "execution_count": 10,
   "id": "a0ac82a2-1756-4a40-a204-e172f64b9cff",
   "metadata": {},
   "outputs": [
    {
     "name": "stdout",
     "output_type": "stream",
     "text": [
      "         Date    Weekday\n",
      "0  2023-01-01     Sunday\n",
      "1  2023-01-02     Monday\n",
      "2  2023-01-03    Tuesday\n",
      "3  2023-01-04  Wednesday\n",
      "4  2023-01-05   Thursday\n"
     ]
    }
   ],
   "source": [
    "import pandas as pd\n",
    "# create a sample dataframe\n",
    "df = pd.DataFrame({'Date': ['2023-01-01', '2023-01-02', '2023-01-03', '2023-01-04', '2023-01-05']})\n",
    "\n",
    "# define the function to extract the weekday\n",
    "def get_weekday(df):\n",
    "    df['Weekday'] = pd.to_datetime(df['Date']).dt.day_name()\n",
    "    return df\n",
    "\n",
    "# call the function on the dataframe\n",
    "df = get_weekday(df)\n",
    "\n",
    "# print the updated dataframe\n",
    "print(df)\n"
   ]
  },
  {
   "cell_type": "code",
   "execution_count": null,
   "id": "d10fd22a-e934-4baa-bca4-0ababb9110f1",
   "metadata": {},
   "outputs": [],
   "source": [
    "Q12. Given a Pandas DataFrame df with a column 'Date' that contains timestamps, write a Python\n",
    "function to select all rows where the date is between '2023-01-01' and '2023-01-31'."
   ]
  },
  {
   "cell_type": "code",
   "execution_count": 14,
   "id": "338d027b-4d25-4db0-91ac-5277ab5af2e7",
   "metadata": {},
   "outputs": [
    {
     "name": "stdout",
     "output_type": "stream",
     "text": [
      "        Date  Values\n",
      "0 2023-01-01      10\n",
      "1 2023-01-15      20\n",
      "2 2023-01-31      30\n"
     ]
    }
   ],
   "source": [
    "import pandas as pd\n",
    "\n",
    "def select_january_dates(df):\n",
    "    # Convert 'Date' column to datetime type\n",
    "    df['Date'] = pd.to_datetime(df['Date'])\n",
    "    \n",
    "    # Select rows where the date is between '2023-01-01' and '2023-01-31'\n",
    "    mask = (df['Date'] >= '2023-01-01') & (df['Date'] <= '2023-01-31')\n",
    "    df_selected = df.loc[mask]\n",
    "    \n",
    "    return df_selected\n",
    "\n",
    "df = pd.DataFrame({'Date': ['2023-01-01', '2023-01-15', '2023-01-31', '2023-02-01'], 'Values': [10, 20, 30, 40]})\n",
    "df_selected = select_january_dates(df)\n",
    "print(df_selected)\n",
    "\n"
   ]
  },
  {
   "cell_type": "code",
   "execution_count": null,
   "id": "3a6c1a6d-320d-4770-ac18-6831d495dc60",
   "metadata": {},
   "outputs": [],
   "source": [
    "Q13. To use the basic functions of pandas, what is the first and foremost necessary library that needs to\n",
    "be imported?\n",
    "Ans:- The first and foremost necessary library that needs to be imported to use the basic functions of pandas is pandas \n",
    "itself. In addition, other libraries such as NumPy and Matplotlib may also be useful when working with pandas.\n",
    "\n",
    "Here's an example of importing pandas:"
   ]
  },
  {
   "cell_type": "code",
   "execution_count": null,
   "id": "84d3b143-1197-4c7d-9561-4089261e9253",
   "metadata": {},
   "outputs": [],
   "source": [
    "import pandas as pd"
   ]
  }
 ],
 "metadata": {
  "kernelspec": {
   "display_name": "Python 3 (ipykernel)",
   "language": "python",
   "name": "python3"
  },
  "language_info": {
   "codemirror_mode": {
    "name": "ipython",
    "version": 3
   },
   "file_extension": ".py",
   "mimetype": "text/x-python",
   "name": "python",
   "nbconvert_exporter": "python",
   "pygments_lexer": "ipython3",
   "version": "3.10.8"
  }
 },
 "nbformat": 4,
 "nbformat_minor": 5
}
