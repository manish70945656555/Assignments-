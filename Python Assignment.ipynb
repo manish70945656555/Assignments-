{
 "cells": [
  {
   "cell_type": "code",
   "execution_count": null,
   "id": "83a7898e-f0b9-4f6c-b05f-8930a9325a63",
   "metadata": {},
   "outputs": [],
   "source": [
    "Q.1 Explain with one example each when to use a for loop and while loop\n",
    "Ans:- Usecase of for loops :- used on iterating over a sequence  , a sequence may be list , tuple, range , string ,set ,\n",
    "      dictionary. A for loop is a single-line command that will be executed repeatedly\n",
    "    Example :- A program to print 2's table\n",
    "               for i in range(2,21,2):\n",
    "                   print(i)\n",
    "    Output :- 2\n",
    "              4\n",
    "              6\n",
    "              8\n",
    "              10\n",
    "              12\n",
    "              14\n",
    "              16\n",
    "              18\n",
    "              20 \n",
    "       \n",
    "     While Loop :- While loop is condition based loop and it contain multiple commands for a single condition.\n",
    "                   if condition become false then loop got brake \n",
    "     Example :- A program to print 2's table\n",
    "               i=0\n",
    "               while i <20:\n",
    "                i+=2\n",
    "                print(i)\n",
    "     Output :- 2       \n",
    "               4\n",
    "               6\n",
    "               8\n",
    "               10\n",
    "               12\n",
    "               14\n",
    "               16\n",
    "               18\n",
    "               20"
   ]
  },
  {
   "cell_type": "code",
   "execution_count": null,
   "id": "6cc28fd0-b8bf-49fc-9ef2-411e493c0080",
   "metadata": {},
   "outputs": [],
   "source": [
    "Q.2 Write a python program to print the sum and product of the first 10 natural numbers using for and while loop "
   ]
  },
  {
   "cell_type": "code",
   "execution_count": 8,
   "id": "ac1daed3-6078-4c8d-9070-1f5a7f77a7a5",
   "metadata": {},
   "outputs": [
    {
     "name": "stdout",
     "output_type": "stream",
     "text": [
      "sum of the first 10 natural number is : 55\n",
      "product of the first 10 natural number is : 3628800\n"
     ]
    }
   ],
   "source": [
    "sum=0\n",
    "product=1\n",
    "for i in range(1,11):\n",
    "    sum+=i\n",
    "    product*=i\n",
    "print(\"sum of the first 10 natural number is :\",sum) \n",
    "print(\"product of the first 10 natural number is :\",product)    "
   ]
  },
  {
   "cell_type": "code",
   "execution_count": null,
   "id": "2bb61490-c43b-42d5-8dd0-5d9e4230a595",
   "metadata": {},
   "outputs": [],
   "source": [
    "Q.3 create a python program to compute the electricity bill for a household , \n",
    "first 100 units charge =4.5 Per unit\n",
    "Next 100 units charge = 6 Per unit\n",
    "Next 100 units charge = 10 Per unit\n",
    "After 300 units charge = 20 Per unit\n",
    "\n",
    "Take the unit input from user and provide the bill amount.\n",
    "Test Case :- 310 Units = 2250 Rs."
   ]
  },
  {
   "cell_type": "code",
   "execution_count": 14,
   "id": "68b73903-de5a-455c-84e5-6917e19a3238",
   "metadata": {},
   "outputs": [
    {
     "name": "stdin",
     "output_type": "stream",
     "text": [
      "Hello Consumer Enter The Unit Showing In Your Electricity Meter:- 310\n"
     ]
    },
    {
     "name": "stdout",
     "output_type": "stream",
     "text": [
      "Dear Consumer Your Total Electricity Bill is:-  2250.0\n"
     ]
    }
   ],
   "source": [
    "unit = int(input(\"Hello Consumer Enter The Unit Showing In Your Electricity Meter:-\"))\n",
    "count=0 \n",
    "Amount1=0\n",
    "Amount2=0\n",
    "Amount3=0\n",
    "Amount4=0\n",
    "if unit>300:\n",
    "    Amount1=(unit-300)*20\n",
    "    Amount2= 100*10\n",
    "    Amount3= 100*6\n",
    "    Amount4= 100*4.5\n",
    "elif unit <=300 and unit > 200:\n",
    "    Amount2= (unit-200)*10\n",
    "    Amount3= 100*6\n",
    "    Amount4= 100*4.5\n",
    "elif unit <= 200 and unit > 100:\n",
    "    Amount3= (unit-100)*6\n",
    "    Amount4= 100*4.5\n",
    "else:\n",
    "    Amount4=unit*4.5\n",
    "print(\"Dear Consumer Your Total Electricity Bill is:- \",Amount1+Amount2+Amount3+Amount4)"
   ]
  },
  {
   "cell_type": "code",
   "execution_count": null,
   "id": "d8e38ef0-9ce5-4537-8995-de56176ad3b0",
   "metadata": {},
   "outputs": [],
   "source": [
    "Q.4 Create List of Numbers from 1 to 100 , Calculate cube of each number , if cube/4 or 5 then append the number in list and\n",
    "print the list."
   ]
  },
  {
   "cell_type": "code",
   "execution_count": 19,
   "id": "111135ea-cd0b-408a-a2f7-df9b9ce12c18",
   "metadata": {},
   "outputs": [
    {
     "name": "stdout",
     "output_type": "stream",
     "text": [
      "The New list in which all numbers which's cube is divisible by 4 or 5 :- [2, 4, 5, 6, 8, 10, 12, 14, 15, 16, 18, 20, 22, 24, 25, 26, 28, 30, 32, 34, 35, 36, 38, 40, 42, 44, 45, 46, 48, 50, 52, 54, 55, 56, 58, 60, 62, 64, 65, 66, 68, 70, 72, 74, 75, 76, 78, 80, 82, 84, 85, 86, 88, 90, 92, 94, 95, 96, 98, 100]\n"
     ]
    }
   ],
   "source": [
    "newlst=[]\n",
    "lst = list(range(1,101))\n",
    "for i in lst :\n",
    "    cube = i*i*i\n",
    "    if cube%4==0 or cube%5==0:\n",
    "        newlst.append(i)\n",
    "    else:\n",
    "        continue\n",
    "print(\"The New list in which all numbers which's cube is divisible by 4 or 5 :-\",newlst)        "
   ]
  },
  {
   "cell_type": "code",
   "execution_count": null,
   "id": "b111ffec-c2c4-4449-9eda-339acfc3d2b0",
   "metadata": {},
   "outputs": [],
   "source": [
    "Q.5 Write a Program to filter count vowels in this string = \" i want to become a data scientist\""
   ]
  },
  {
   "cell_type": "code",
   "execution_count": 20,
   "id": "c5522ca4-4815-4661-a5b4-8b8d28eafcd6",
   "metadata": {},
   "outputs": [
    {
     "name": "stdout",
     "output_type": "stream",
     "text": [
      "In this string there are 12 vowels are present\n"
     ]
    }
   ],
   "source": [
    "count=0\n",
    "str=\"i want to become a data scientist\"\n",
    "for i in str:\n",
    "    if i==\"a\" or i==\"e\" or i==\"i\" or i==\"o\" or i==\"u\":\n",
    "        count+=1\n",
    "    else:\n",
    "        continue\n",
    "print(\"In this string there are\",count,\"vowels are present\")        \n",
    "    "
   ]
  },
  {
   "cell_type": "code",
   "execution_count": null,
   "id": "2d9911e5-746c-4137-818a-642f5bba2164",
   "metadata": {},
   "outputs": [],
   "source": []
  }
 ],
 "metadata": {
  "kernelspec": {
   "display_name": "Python 3 (ipykernel)",
   "language": "python",
   "name": "python3"
  },
  "language_info": {
   "codemirror_mode": {
    "name": "ipython",
    "version": 3
   },
   "file_extension": ".py",
   "mimetype": "text/x-python",
   "name": "python",
   "nbconvert_exporter": "python",
   "pygments_lexer": "ipython3",
   "version": "3.10.8"
  }
 },
 "nbformat": 4,
 "nbformat_minor": 5
}
